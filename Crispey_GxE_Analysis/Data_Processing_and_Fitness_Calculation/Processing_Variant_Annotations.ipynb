{
 "cells": [
  {
   "cell_type": "code",
   "execution_count": 10,
   "metadata": {},
   "outputs": [],
   "source": [
    "import pandas as pd"
   ]
  },
  {
   "cell_type": "code",
   "execution_count": 11,
   "metadata": {},
   "outputs": [],
   "source": [
    "#Annotations from VEP for variants in all_variants.vcf\n",
    "#this notebook trims downand processes these annotations to those relevant\n",
    "#to the genes we are looking at, namely the ergosterol pathway genes\n",
    "#and the genes within QTLs we chose. Without this trimming, each variant\n",
    "#would have several annotations relative to multiple genes, which makes \n",
    "#downstream analysis more challenging.\n",
    "\n",
    "raw_annotations = pd.read_csv('../data_tables/annotationsfull.txt', header=0, sep = '\\t')"
   ]
  },
  {
   "cell_type": "code",
   "execution_count": 12,
   "metadata": {},
   "outputs": [],
   "source": [
    "#list of ergosterol pathway genes used for library design\n",
    "erg_genes = ['ERG10','ERG13','HMG1','HMG2','ERG12', 'ERG8',\\\n",
    "             'MVD1','IDI1','ERG20','ERG9','ERG1','ERG7','ERG11',\\\n",
    "             'NCP1','ERG24','ERG25','ERG26','ERG27','ERG28','ERG29',\\\n",
    "             'ERG6','ERG2','ERG3','ERG5','ERG4','MCR1']"
   ]
  },
  {
   "cell_type": "code",
   "execution_count": 13,
   "metadata": {},
   "outputs": [],
   "source": [
    "#renaming and reshaping columns for future use merging into fitness dataframes\n",
    "\n",
    "#Uploaded variation in this case was the variant IDs for our library\n",
    "raw_annotations['var_id'] = raw_annotations['#Uploaded_variation']\n",
    "\n",
    "#Splitting up the location column to get the chromosome number\n",
    "raw_annotations['chrom'] = raw_annotations['Location'].str.split(':').str[0]\n",
    "\n",
    "#Splitting up the location column to get the position of the variant along the chromosome\n",
    "raw_annotations['SNP_chr_pos'] = raw_annotations['Location'].str.split(':').str[1].str.split('-').str[0]\n",
    "\n",
    "#Allele in VEP parlance is the alternate allele relative to the s288C reference\n",
    "raw_annotations['ALT'] = raw_annotations['Allele'] \n",
    "\n",
    "#SYMBOL is the column for the gene name, if the gene has a name\n",
    "raw_annotations['Gene'] = raw_annotations['SYMBOL']\n",
    "\n",
    "#If the gene does not have an official gene name, the ENSP column is the systematic name,\n",
    "#e.g. YPR175W, and this is used as the gene column \n",
    "raw_annotations.loc[raw_annotations['Gene']=='-','Gene'] = raw_annotations['ENSP']\n",
    "\n",
    "#Subsetting to relevant columns\n",
    "annos = raw_annotations[['var_id','chrom','SNP_chr_pos', 'Gene', 'Consequence','ALT', 'CDS_position','Protein_position', 'Amino_acids', 'DISTANCE']]"
   ]
  },
  {
   "cell_type": "code",
   "execution_count": 14,
   "metadata": {},
   "outputs": [
    {
     "name": "stderr",
     "output_type": "stream",
     "text": [
      "/home/afkern/.local/lib/python3.6/site-packages/pandas/core/indexing.py:190: SettingWithCopyWarning: \n",
      "A value is trying to be set on a copy of a slice from a DataFrame\n",
      "\n",
      "See the caveats in the documentation: http://pandas.pydata.org/pandas-docs/stable/indexing.html#indexing-view-versus-copy\n",
      "  self._setitem_with_indexer(indexer, value)\n",
      "/opt/sys/anaconda3/lib/python3.6/site-packages/ipykernel_launcher.py:3: SettingWithCopyWarning: \n",
      "A value is trying to be set on a copy of a slice from a DataFrame\n",
      "\n",
      "See the caveats in the documentation: http://pandas.pydata.org/pandas-docs/stable/indexing.html#indexing-view-versus-copy\n",
      "  This is separate from the ipykernel package so we can avoid doing imports until\n",
      "/opt/sys/anaconda3/lib/python3.6/site-packages/ipykernel_launcher.py:6: SettingWithCopyWarning: \n",
      "A value is trying to be set on a copy of a slice from a DataFrame.\n",
      "Try using .loc[row_indexer,col_indexer] = value instead\n",
      "\n",
      "See the caveats in the documentation: http://pandas.pydata.org/pandas-docs/stable/indexing.html#indexing-view-versus-copy\n",
      "  \n"
     ]
    }
   ],
   "source": [
    "#For variants within genes, the dsitance is annotated as a dash,\n",
    "#but we want to use these distances as integers, so we set these to 0.\n",
    "annos.loc[annos['DISTANCE']=='-', 'DISTANCE']=0\n",
    "\n",
    "#converting distance to gene into an integer\n",
    "annos['DISTANCE'] = annos['DISTANCE'].astype(int)"
   ]
  },
  {
   "cell_type": "code",
   "execution_count": 15,
   "metadata": {},
   "outputs": [],
   "source": [
    "#getting anotations for variants relative to the ergosterol pathway.\n",
    "ergosterol_annotations = annos.loc[annos['Gene'].isin(erg_genes)]\n",
    "ergosterol_annotations.to_csv('../data_tables/ergosterol_annotations.tsv', sep = '\\t')"
   ]
  },
  {
   "cell_type": "code",
   "execution_count": 18,
   "metadata": {},
   "outputs": [
    {
     "name": "stderr",
     "output_type": "stream",
     "text": [
      "/opt/sys/anaconda3/lib/python3.6/site-packages/IPython/core/interactiveshell.py:2785: DtypeWarning: Columns (24,25,26,27,28,29,37) have mixed types. Specify dtype option on import or set low_memory=False.\n",
      "  interactivity=interactivity, compiler=compiler, result=result)\n"
     ]
    }
   ],
   "source": [
    "#Getting annotations for genes within the caffeine, cobalt chloride,\n",
    "#and fluconazole QTL pools \n",
    "\n",
    "#loading in oligo information mastersheet\n",
    "oli_info = pd.read_csv('/home/shian/CRISPEY3_fraserserver/tables/oligos_nonuniq_crispey3_GG_9bp_OLIGO_with_seq_primers.txt', sep = '\\t')\n",
    "\n",
    "#loading in assignment of each well to each library\n",
    "libraries= pd.read_excel(\"/home/shian/CRISPEY3_fraserserver/tables/crispey3_libraries_by_pool_number.xlsx\")\n",
    "\n",
    "#loading in QTL information for relevant QTLs from Bloom 2019\n",
    "qtl_list = pd.read_csv('../data_tables/qtl_list.tsv', sep= '\\t')\n",
    "\n",
    "\n",
    "#shrinking annotation file so that there is one (most relevant) annotation per variant\n",
    "\n",
    "#getting single gene QTL genes for relevant conditions\n",
    "targeted_genes = qtl_list[qtl_list['trait'].isin(['Caffeine;15mM;2','Fluconazole;100uM;2','Cobalt_Chloride;2mM;2'])]['Gene ID'].unique().tolist()\n",
    "\n",
    "#subsetting annotations to those relative to QTL genes\n",
    "annos = annos[annos['Gene'].isin(targeted_genes)]\n",
    "#for noncoding variants, keeping the one with the shortest distance to a gene within the set of targeted genes\n",
    "annos = annos[annos['Gene']!='-']\n",
    "annos['mindist'] =annos.groupby('var_id')['DISTANCE'].transform('min')\n",
    "annos = annos[(annos['DISTANCE']==annos['mindist'])]\n",
    "annos.to_csv('../data_tables/QTL_pool_annotations.tsv',sep='\\t')"
   ]
  },
  {
   "cell_type": "code",
   "execution_count": null,
   "metadata": {},
   "outputs": [],
   "source": []
  }
 ],
 "metadata": {
  "kernelspec": {
   "display_name": "Python 3",
   "language": "python",
   "name": "python3"
  },
  "language_info": {
   "codemirror_mode": {
    "name": "ipython",
    "version": 3
   },
   "file_extension": ".py",
   "mimetype": "text/x-python",
   "name": "python",
   "nbconvert_exporter": "python",
   "pygments_lexer": "ipython3",
   "version": "3.6.5"
  },
  "toc": {
   "base_numbering": 1,
   "nav_menu": {},
   "number_sections": true,
   "sideBar": true,
   "skip_h1_title": false,
   "title_cell": "Table of Contents",
   "title_sidebar": "Contents",
   "toc_cell": false,
   "toc_position": {},
   "toc_section_display": true,
   "toc_window_display": false
  }
 },
 "nbformat": 4,
 "nbformat_minor": 2
}
