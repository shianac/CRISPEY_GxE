{
 "cells": [
  {
   "cell_type": "code",
   "execution_count": 1,
   "metadata": {},
   "outputs": [],
   "source": [
    "import pandas as pd\n",
    "import gzip\n",
    "import roman"
   ]
  },
  {
   "cell_type": "code",
   "execution_count": 7,
   "metadata": {},
   "outputs": [
    {
     "name": "stderr",
     "output_type": "stream",
     "text": [
      "/opt/modules/pkgs/anaconda/4.8/envs/CRISPEY_GxE/lib/python3.9/site-packages/IPython/core/interactiveshell.py:3457: FutureWarning: In a future version of pandas all arguments of read_csv except for the argument 'filepath_or_buffer' will be keyword-only.\n",
      "  exec(code_obj, self.user_global_ns, self.user_ns)\n",
      "/tmp/ipykernel_111449/798374678.py:2: DtypeWarning: Columns (24,25,26,27,28,29,37) have mixed types. Specify dtype option on import or set low_memory=False.\n",
      "  oli_info = pd.read_csv(OLIGO_TABLE_PATH,'\\t')\n"
     ]
    }
   ],
   "source": [
    "OLIGO_TABLE_PATH = '/home/shian/CRISPEY3_fraserserver/tables/oligos_nonuniq_crispey3_GG_9bp_OLIGO_with_seq_primers.txt'\n",
    "oli_info = pd.read_csv(OLIGO_TABLE_PATH,'\\t')\n",
    "af_inf = pd.read_csv('./all_variants.vcf', sep= '\\t', header = 59)"
   ]
  },
  {
   "cell_type": "code",
   "execution_count": 3,
   "metadata": {},
   "outputs": [],
   "source": [
    "unique_vars = oli_info[['chrom','SNP_chr_pos','ALT']].drop_duplicates()"
   ]
  },
  {
   "cell_type": "code",
   "execution_count": 4,
   "metadata": {},
   "outputs": [],
   "source": [
    "#reading through the full 1011 yeast genomes gvcf and extracting\n",
    "#the variants in our library, and converting the chromosome format.\n",
    "count =0 \n",
    "rows = []\n",
    "with gzip.open('1011Matrix.gvcf.gz', 'rt') as g:\n",
    "    for line in g:\n",
    "       \n",
    "        if line.startswith('##'):\n",
    "            continue\n",
    "        elif line.startswith('#CHROM'):\n",
    "            columns = line.strip().split('\\t')\n",
    "        else:\n",
    "            info = line.strip().split('\\t')\n",
    "            chrom = roman.toRoman(int(info[0].split('e')[1]))\n",
    "            pos = int(info[1])\n",
    "            if pos in set(unique_vars[unique_vars['chrom']==chrom]['SNP_chr_pos'].tolist()):\n",
    "                rows.append([chrom]+info[1:])\n",
    "        count+=1\n",
    "        if not count%10000000:\n",
    "            print(count)"
   ]
  },
  {
   "cell_type": "code",
   "execution_count": 5,
   "metadata": {},
   "outputs": [],
   "source": [
    "library_variant_genotypes = pd.DataFrame(rows, columns = columns)\n",
    "library_variant_genotypes['POS'] = library_variant_genotypes['POS'].astype(int)\n",
    "library_variant_genotypes['QUAL'] = library_variant_genotypes['QUAL'].astype(float)\n",
    "library_variant_genotypes['ALT_strain'] = library_variant_genotypes['ALT'].iloc[:,1]\n",
    "library_variant_genotypes['ALT_allele'] = library_variant_genotypes['ALT'].iloc[:,0]\n",
    "library_variant_genotypes.drop('ALT', axis = 1 ,inplace= True)\n",
    "library_variant_genotypes['ALT'] = library_variant_genotypes['ALT_allele']\n",
    "library_variant_genotypes.drop('ALT_allele', axis = 1, inplace = True)"
   ]
  },
  {
   "cell_type": "code",
   "execution_count": 15,
   "metadata": {},
   "outputs": [
    {
     "data": {
      "text/html": [
       "<div>\n",
       "<style scoped>\n",
       "    .dataframe tbody tr th:only-of-type {\n",
       "        vertical-align: middle;\n",
       "    }\n",
       "\n",
       "    .dataframe tbody tr th {\n",
       "        vertical-align: top;\n",
       "    }\n",
       "\n",
       "    .dataframe thead th {\n",
       "        text-align: right;\n",
       "    }\n",
       "</style>\n",
       "<table border=\"1\" class=\"dataframe\">\n",
       "  <thead>\n",
       "    <tr style=\"text-align: right;\">\n",
       "      <th></th>\n",
       "      <th>#CHROM</th>\n",
       "      <th>POS</th>\n",
       "      <th>ID</th>\n",
       "      <th>REF</th>\n",
       "      <th>QUAL</th>\n",
       "      <th>FILTER</th>\n",
       "      <th>INFO</th>\n",
       "      <th>FORMAT</th>\n",
       "      <th>AAA</th>\n",
       "      <th>AAB</th>\n",
       "      <th>...</th>\n",
       "      <th>SACE_YDH</th>\n",
       "      <th>SACE_YDI</th>\n",
       "      <th>SACE_YDJ</th>\n",
       "      <th>SACE_YDK</th>\n",
       "      <th>SACE_YDL</th>\n",
       "      <th>SACE_YDM</th>\n",
       "      <th>SACE_YDN</th>\n",
       "      <th>SACE_YDO</th>\n",
       "      <th>ALT_strain</th>\n",
       "      <th>ALT</th>\n",
       "    </tr>\n",
       "  </thead>\n",
       "  <tbody>\n",
       "    <tr>\n",
       "      <th>182</th>\n",
       "      <td>I</td>\n",
       "      <td>195720</td>\n",
       "      <td>.</td>\n",
       "      <td>T</td>\n",
       "      <td>226212.29</td>\n",
       "      <td>.</td>\n",
       "      <td>AC=26,22;AF=0.013,0.011;AN=2000;BaseQRankSum=0...</td>\n",
       "      <td>GT:AD:DP:GQ:PGT:PID:PL</td>\n",
       "      <td>0/0:210,0,0:210:99:.:.:0,120,1800,120,1800,1800</td>\n",
       "      <td>0/0:188,0,0:188:99:.:.:0,120,1800,120,1800,1800</td>\n",
       "      <td>...</td>\n",
       "      <td>0/0:308,0,0:308:99:.:.:0,120,1800,120,1800,1800</td>\n",
       "      <td>1/1:0,150,0:150:99:.:.:5738,447,0,5738,447,5738</td>\n",
       "      <td>0/0:358,0,0:358:99:.:.:0,120,1800,120,1800,1800</td>\n",
       "      <td>0/0:79,0,0:79:99:.:.:0,119,1800,119,1800,1800</td>\n",
       "      <td>0/0:132,0,0:132:99:.:.:0,120,1800,120,1800,1800</td>\n",
       "      <td>0/0:64,0,0:64:99:.:.:0,120,1800,120,1800,1800</td>\n",
       "      <td>0/0:313,0,0:313:99:.:.:0,120,1800,120,1800,1800</td>\n",
       "      <td>0/0:133,0,0:133:99:.:.:0,120,1800,120,1800,1800</td>\n",
       "      <td>0/0:197,0,0:197:99:.:.:0,120,1800,120,1800,1800</td>\n",
       "      <td>A,C</td>\n",
       "    </tr>\n",
       "  </tbody>\n",
       "</table>\n",
       "<p>1 rows × 1020 columns</p>\n",
       "</div>"
      ],
      "text/plain": [
       "    #CHROM     POS ID REF       QUAL FILTER  \\\n",
       "182      I  195720  .   T  226212.29      .   \n",
       "\n",
       "                                                  INFO  \\\n",
       "182  AC=26,22;AF=0.013,0.011;AN=2000;BaseQRankSum=0...   \n",
       "\n",
       "                     FORMAT                                              AAA  \\\n",
       "182  GT:AD:DP:GQ:PGT:PID:PL  0/0:210,0,0:210:99:.:.:0,120,1800,120,1800,1800   \n",
       "\n",
       "                                                 AAB  ...  \\\n",
       "182  0/0:188,0,0:188:99:.:.:0,120,1800,120,1800,1800  ...   \n",
       "\n",
       "                                            SACE_YDH  \\\n",
       "182  0/0:308,0,0:308:99:.:.:0,120,1800,120,1800,1800   \n",
       "\n",
       "                                            SACE_YDI  \\\n",
       "182  1/1:0,150,0:150:99:.:.:5738,447,0,5738,447,5738   \n",
       "\n",
       "                                            SACE_YDJ  \\\n",
       "182  0/0:358,0,0:358:99:.:.:0,120,1800,120,1800,1800   \n",
       "\n",
       "                                          SACE_YDK  \\\n",
       "182  0/0:79,0,0:79:99:.:.:0,119,1800,119,1800,1800   \n",
       "\n",
       "                                            SACE_YDL  \\\n",
       "182  0/0:132,0,0:132:99:.:.:0,120,1800,120,1800,1800   \n",
       "\n",
       "                                          SACE_YDM  \\\n",
       "182  0/0:64,0,0:64:99:.:.:0,120,1800,120,1800,1800   \n",
       "\n",
       "                                            SACE_YDN  \\\n",
       "182  0/0:313,0,0:313:99:.:.:0,120,1800,120,1800,1800   \n",
       "\n",
       "                                            SACE_YDO  \\\n",
       "182  0/0:133,0,0:133:99:.:.:0,120,1800,120,1800,1800   \n",
       "\n",
       "                                          ALT_strain  ALT  \n",
       "182  0/0:197,0,0:197:99:.:.:0,120,1800,120,1800,1800  A,C  \n",
       "\n",
       "[1 rows x 1020 columns]"
      ]
     },
     "execution_count": 15,
     "metadata": {},
     "output_type": "execute_result"
    }
   ],
   "source": [
    "library_variant_genotypes[(library_variant_genotypes['#CHROM']=='I')&(library_variant_genotypes['POS']==195720)]"
   ]
  },
  {
   "cell_type": "code",
   "execution_count": null,
   "metadata": {},
   "outputs": [],
   "source": []
  },
  {
   "cell_type": "code",
   "execution_count": 17,
   "metadata": {},
   "outputs": [],
   "source": [
    "library1011_info_var_id = library_variant_genotypes.merge(af_inf, 'inner', on = ['#CHROM','POS', 'REF','QUAL','FILTER'])"
   ]
  },
  {
   "cell_type": "code",
   "execution_count": 18,
   "metadata": {},
   "outputs": [],
   "source": [
    "library1011_info_var_id['var_id']= library1011_info_var_id['ID_y']"
   ]
  },
  {
   "cell_type": "code",
   "execution_count": 19,
   "metadata": {},
   "outputs": [],
   "source": [
    "library1011_info_var_id.drop(['ID_x','ID_y', 'FORMAT_y','FILTER'], axis = 1, inplace = True)"
   ]
  },
  {
   "cell_type": "code",
   "execution_count": 20,
   "metadata": {},
   "outputs": [
    {
     "data": {
      "text/html": [
       "<div>\n",
       "<style scoped>\n",
       "    .dataframe tbody tr th:only-of-type {\n",
       "        vertical-align: middle;\n",
       "    }\n",
       "\n",
       "    .dataframe tbody tr th {\n",
       "        vertical-align: top;\n",
       "    }\n",
       "\n",
       "    .dataframe thead th {\n",
       "        text-align: right;\n",
       "    }\n",
       "</style>\n",
       "<table border=\"1\" class=\"dataframe\">\n",
       "  <thead>\n",
       "    <tr style=\"text-align: right;\">\n",
       "      <th></th>\n",
       "      <th>#CHROM</th>\n",
       "      <th>POS</th>\n",
       "      <th>REF</th>\n",
       "      <th>QUAL</th>\n",
       "      <th>INFO_x</th>\n",
       "      <th>FORMAT_x</th>\n",
       "      <th>AAA</th>\n",
       "      <th>AAB</th>\n",
       "      <th>AAC</th>\n",
       "      <th>AAD</th>\n",
       "      <th>...</th>\n",
       "      <th>SACE_YDK</th>\n",
       "      <th>SACE_YDL</th>\n",
       "      <th>SACE_YDM</th>\n",
       "      <th>SACE_YDN</th>\n",
       "      <th>SACE_YDO</th>\n",
       "      <th>ALT_strain</th>\n",
       "      <th>ALT_x</th>\n",
       "      <th>ALT_y</th>\n",
       "      <th>INFO_y</th>\n",
       "      <th>var_id</th>\n",
       "    </tr>\n",
       "  </thead>\n",
       "  <tbody>\n",
       "    <tr>\n",
       "      <th>187</th>\n",
       "      <td>I</td>\n",
       "      <td>195720</td>\n",
       "      <td>T</td>\n",
       "      <td>226212.29</td>\n",
       "      <td>AC=26,22;AF=0.013,0.011;AN=2000;BaseQRankSum=0...</td>\n",
       "      <td>GT:AD:DP:GQ:PGT:PID:PL</td>\n",
       "      <td>0/0:210,0,0:210:99:.:.:0,120,1800,120,1800,1800</td>\n",
       "      <td>0/0:188,0,0:188:99:.:.:0,120,1800,120,1800,1800</td>\n",
       "      <td>0/0:270,0,0:270:99:.:.:0,120,1800,120,1800,1800</td>\n",
       "      <td>0/0:213,0,0:213:99:.:.:0,120,1800,120,1800,1800</td>\n",
       "      <td>...</td>\n",
       "      <td>0/0:79,0,0:79:99:.:.:0,119,1800,119,1800,1800</td>\n",
       "      <td>0/0:132,0,0:132:99:.:.:0,120,1800,120,1800,1800</td>\n",
       "      <td>0/0:64,0,0:64:99:.:.:0,120,1800,120,1800,1800</td>\n",
       "      <td>0/0:313,0,0:313:99:.:.:0,120,1800,120,1800,1800</td>\n",
       "      <td>0/0:133,0,0:133:99:.:.:0,120,1800,120,1800,1800</td>\n",
       "      <td>0/0:197,0,0:197:99:.:.:0,120,1800,120,1800,1800</td>\n",
       "      <td>A,C</td>\n",
       "      <td>C</td>\n",
       "      <td>AC=22;AF=0.011;AN=2000;BaseQRankSum=0.878;Clip...</td>\n",
       "      <td>GXE_00446</td>\n",
       "    </tr>\n",
       "  </tbody>\n",
       "</table>\n",
       "<p>1 rows × 1021 columns</p>\n",
       "</div>"
      ],
      "text/plain": [
       "    #CHROM     POS REF       QUAL  \\\n",
       "187      I  195720   T  226212.29   \n",
       "\n",
       "                                                INFO_x  \\\n",
       "187  AC=26,22;AF=0.013,0.011;AN=2000;BaseQRankSum=0...   \n",
       "\n",
       "                   FORMAT_x                                              AAA  \\\n",
       "187  GT:AD:DP:GQ:PGT:PID:PL  0/0:210,0,0:210:99:.:.:0,120,1800,120,1800,1800   \n",
       "\n",
       "                                                 AAB  \\\n",
       "187  0/0:188,0,0:188:99:.:.:0,120,1800,120,1800,1800   \n",
       "\n",
       "                                                 AAC  \\\n",
       "187  0/0:270,0,0:270:99:.:.:0,120,1800,120,1800,1800   \n",
       "\n",
       "                                                 AAD  ...  \\\n",
       "187  0/0:213,0,0:213:99:.:.:0,120,1800,120,1800,1800  ...   \n",
       "\n",
       "                                          SACE_YDK  \\\n",
       "187  0/0:79,0,0:79:99:.:.:0,119,1800,119,1800,1800   \n",
       "\n",
       "                                            SACE_YDL  \\\n",
       "187  0/0:132,0,0:132:99:.:.:0,120,1800,120,1800,1800   \n",
       "\n",
       "                                          SACE_YDM  \\\n",
       "187  0/0:64,0,0:64:99:.:.:0,120,1800,120,1800,1800   \n",
       "\n",
       "                                            SACE_YDN  \\\n",
       "187  0/0:313,0,0:313:99:.:.:0,120,1800,120,1800,1800   \n",
       "\n",
       "                                            SACE_YDO  \\\n",
       "187  0/0:133,0,0:133:99:.:.:0,120,1800,120,1800,1800   \n",
       "\n",
       "                                          ALT_strain ALT_x ALT_y  \\\n",
       "187  0/0:197,0,0:197:99:.:.:0,120,1800,120,1800,1800   A,C     C   \n",
       "\n",
       "                                                INFO_y     var_id  \n",
       "187  AC=22;AF=0.011;AN=2000;BaseQRankSum=0.878;Clip...  GXE_00446  \n",
       "\n",
       "[1 rows x 1021 columns]"
      ]
     },
     "execution_count": 20,
     "metadata": {},
     "output_type": "execute_result"
    }
   ],
   "source": [
    "library1011_info_var_id[library1011_info_var_id['var_id']=='GXE_00446']"
   ]
  },
  {
   "cell_type": "code",
   "execution_count": 21,
   "metadata": {},
   "outputs": [],
   "source": [
    "library1011_info_var_id.to_csv('1011_genome_info_var_ids.tsv', sep='\\t')"
   ]
  },
  {
   "cell_type": "code",
   "execution_count": null,
   "metadata": {},
   "outputs": [],
   "source": []
  }
 ],
 "metadata": {
  "kernelspec": {
   "display_name": "CRISPEY_GxE",
   "language": "python",
   "name": "crispey_gxe"
  },
  "language_info": {
   "codemirror_mode": {
    "name": "ipython",
    "version": 3
   },
   "file_extension": ".py",
   "mimetype": "text/x-python",
   "name": "python",
   "nbconvert_exporter": "python",
   "pygments_lexer": "ipython3",
   "version": "3.9.7"
  },
  "toc": {
   "base_numbering": 1,
   "nav_menu": {},
   "number_sections": true,
   "sideBar": true,
   "skip_h1_title": false,
   "title_cell": "Table of Contents",
   "title_sidebar": "Contents",
   "toc_cell": false,
   "toc_position": {},
   "toc_section_display": true,
   "toc_window_display": false
  }
 },
 "nbformat": 4,
 "nbformat_minor": 2
}
