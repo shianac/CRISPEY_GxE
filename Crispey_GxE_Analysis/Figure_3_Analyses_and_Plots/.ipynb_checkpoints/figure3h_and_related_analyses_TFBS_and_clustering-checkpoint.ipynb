{
 "cells": [
  {
   "cell_type": "markdown",
   "metadata": {},
   "source": [
    "# GxE Variant Clustering and Transcription Factor Binding Site Analysis\n",
    "\n",
    "This notebook contains code for analyzing clustering of variants with gene-by-environment interactions among each annotation type. In addition, it contains analysis of overlap of these clusters with previously identified transcription factor binding sites (TFBS) in yeast, as well as code to generate plots for figure 3G and figure S4\n",
    "\n"
   ]
  },
  {
   "cell_type": "code",
   "execution_count": null,
   "metadata": {},
   "outputs": [],
   "source": [
    "import pandas as pd\n",
    "import matplotlib.pyplot as plt\n",
    "import roman\n",
    "import numpy as np\n",
    "import warnings\n",
    "from scipy.stats import hypergeom\n",
    "import seaborn as sns\n",
    "warnings.filterwarnings('ignore')\n",
    "\n",
    "plt.rcParams['font.family'] = 'Arial'\n",
    "plt.rcParams['font.size'] = 7"
   ]
  },
  {
   "cell_type": "code",
   "execution_count": null,
   "metadata": {},
   "outputs": [],
   "source": [
    "annotations = pd.read_csv('../data_tables/ergosterol_annotations.tsv',sep = '\\t')\n",
    "gxe = pd.read_csv('../data_tables/ergosterol_pathway_gxe_interactions.tsv', sep = '\\t')\n",
    "fitness = pd.read_csv('../data_tables/Fitness_files/ergosterol_pathway_fitness.tsv',sep='\\t')\n",
    "annotated_gxe = annotations.merge(gxe, 'inner', 'var_id')\n",
    "annotated_fitness =  annotations.merge(fitness, 'inner', 'var_id')"
   ]
  },
  {
   "cell_type": "code",
   "execution_count": null,
   "metadata": {},
   "outputs": [],
   "source": [
    "def get_GxE_vars(annotated_gxe_df, annotated_fitness_df):\n",
    "    '''This code generates the list of GxE variants based on our stringent two-part definition:\n",
    "    1) the variant has a GxE term with FDR<0.01, and 2) for that term, the direction\n",
    "    of effect in the two conditions is in opposite directions.\n",
    "    inputs:\n",
    "        annotated_gxe_df (pandas DataFrame): table containing pairwise GxE coefficients and pvalues for variants,\n",
    "        annotated by genomic location.\n",
    "        annotated_fitness_df (pandas DataFrame):  table containing fitness values for variants in \n",
    "        all relevant conditions,annotated by genomic location.\n",
    "    returns:\n",
    "        gxe_vars (list of strings): list of variants which show GxE according to our definition \n",
    "        (not unique, many represented multiple times) \n",
    "    '''\n",
    "    gxe_vars =[] \n",
    "    for i, row in annotated_gxe_df[(annotated_gxe_df['padj']<0.01)].iterrows():\n",
    "        var = row['var_id']\n",
    "        conds = row['gxe'].split('-')\n",
    "        if annotated_fitness_df[(annotated_fitness_df['var_id']==var)&\\\n",
    "                                (annotated_fitness_df['condition'].isin(conds))]['coef'].prod()<0:\n",
    "            gxe_vars.append(var)\n",
    "    return gxe_vars\n",
    "\n",
    "\n",
    "\n",
    "gxe_vars =get_GxE_vars(annotated_gxe, annotated_fitness) \n",
    "\n",
    "gxe_hit_variants = set(gxe_vars)\n",
    "all_variants = annotated_gxe['var_id'].unique()\n",
    "\n",
    "all_variant_annotations = annotations[(annotations['var_id'].isin(all_variants))]\n",
    "hit_variant_annotations = annotations[(annotations['var_id'].isin(gxe_hit_variants))]"
   ]
  },
  {
   "cell_type": "code",
   "execution_count": null,
   "metadata": {},
   "outputs": [],
   "source": [
    "def clustering_calculation(annotation_type_hits,distance):\n",
    "    '''\n",
    "    Takes in a pandas DataFrame of hit GxE variants with a given annotation and \n",
    "    calculates how many hit variants at unique positions are within clusters with \n",
    "    each other within a certain distance threshold.\n",
    "    \n",
    "    inputs: \n",
    "        annotation_type_hits (pandas DataFrame): DataFrame with hit variants \n",
    "        (needs chrom, SNP_chr_pos, and var_id columns)\n",
    "        \n",
    "        distance (int): integer distance for the cluster size\n",
    "    returns:\n",
    "        clustered_hits (int): number of unique GxE variant positions within clusters\n",
    "    '''\n",
    "    \n",
    "    for i,row in annotation_type_hits.iterrows():\n",
    "        chrom = row['chrom']\n",
    "        pos = row['SNP_chr_pos']\n",
    "        var = row['var_id']\n",
    "        #for each GxE hit variant, this checks if there is another GxE hit variant\n",
    "        #within the distance threshold which is not the same variant and is not \n",
    "        #at the same position. If so, the row with the variant being checked has\n",
    "        # a true value for the column 'in_cluster.'\n",
    "        if annotation_type_hits[(annotation_type_hits['chrom']==chrom)&\\\n",
    "                                (abs(annotation_type_hits['SNP_chr_pos']-pos)<distance)&\\\n",
    "                                (annotation_type_hits['var_id']!=var)&\\\n",
    "                                (annotation_type_hits['SNP_chr_pos']!=pos)]['var_id'].nunique():\n",
    "            annotation_type_hits.loc[i,'in_cluster'] = True\n",
    "        else:\n",
    "            annotation_type_hits.loc[i,'in_cluster'] = False\n",
    "            \n",
    "    #gets the number of GxE variants at unique positions in the genome which are within a cluster        \n",
    "    clustered_hits = annotation_type_hits.loc[annotation_type_hits['in_cluster']]['SNP_chr_pos'].nunique() \n",
    "    return clustered_hits\n",
    "\n",
    "def calculating_clustering_pval(distance,annotation_type, num_perms = 1000, seed = 2022):\n",
    "    '''\n",
    "    Takes in an annotation type and \n",
    "    calculates how many hit variants at unique positions are within clusters with \n",
    "    eachother within a certain distance threshold, and a pvalue for this number using\n",
    "    a permutation approach.\n",
    "    \n",
    "    inputs: \n",
    "    \n",
    "        distance (int): integer distance for the cluster size\n",
    "        annotation_type (String): name of annotation type\n",
    "        num_perms (int): number of permutations to perform\n",
    "        seed (int): seed for np.random\n",
    "        hit_variant_annotations (pandas DataFrame):defined above, all annotations for hit variants\n",
    "        all_variant_annotations (pandas DataFrame): defined above, all annotations for hit variants\n",
    "    returns:\n",
    "        distance threshold (int)\n",
    "        p-value (float)\n",
    "        number of hits in clusters (int)\n",
    "    '''\n",
    "    anno_type_hits = hit_variant_annotations[hit_variant_annotations['Consequence']==annotation_type]\n",
    "    num_clustered_hits =  clustering_calculation(anno_type_hits,distance)\n",
    "\n",
    "\n",
    "\n",
    "\n",
    "    #permuting by randomly choosing anno_type variants to be hits (the same number of hits as in the real dataset),\n",
    "    #and then seeing how many of these randomly chosen variants are within a cluster as defined above\n",
    "\n",
    "    np.random.seed(seed)\n",
    "\n",
    "    num_anno_type_hits = hit_variant_annotations[hit_variant_annotations['Consequence']==annotation_type].var_id.nunique()\n",
    "    anno_type_variants=  all_variant_annotations[(all_variant_annotations['Consequence'] == annotation_type)]\n",
    "    num_permutation_clusters = []\n",
    "    for j in range(num_perms):\n",
    "        permutation_annos_hits = np.random.choice(anno_type_variants['var_id'], size = num_anno_type_hits, replace = False)\n",
    "        permutation_annos = anno_type_variants[anno_type_variants['var_id'].isin(permutation_annos_hits)]\n",
    "        num_permutation_clusters.append(clustering_calculation(permutation_annos, distance))\n",
    "    num_permutation_clusters  = np.array(num_permutation_clusters )\n",
    "    \n",
    "    #calculating a permutation p-value by counting how many permuted datasets have as many or \n",
    "    #more clustered variants as the real data set.\n",
    "    p = (len(num_permutation_clusters[num_permutation_clusters>= num_clustered_hits])/num_perms)\n",
    "    \n",
    "    # minimum p-value is 1/num_perms, e.g 0.001 for 1000\n",
    "    if p == 0:\n",
    "        p = 1/num_perms\n",
    "  \n",
    "    \n",
    "    return(distance, p, num_clustered_hits)"
   ]
  },
  {
   "cell_type": "markdown",
   "metadata": {},
   "source": [
    "## Checking for clustering of GxE Variants at different distance thresholds"
   ]
  },
  {
   "cell_type": "markdown",
   "metadata": {},
   "source": [
    "### Promoter Variants"
   ]
  },
  {
   "cell_type": "code",
   "execution_count": null,
   "metadata": {},
   "outputs": [],
   "source": [
    "#identifying \"clusters\"--hit variants within x bp of another hit variants, excluding hits that only \n",
    "#cluster with hits at the same genomic location, at a variety of distance thresholds\n",
    "dists = []\n",
    "pvalues = []\n",
    "for i in np.arange(0.5,10,0.5):\n",
    "    dist_thresh = round(2**i)\n",
    "    if dist_thresh in dists:\n",
    "        continue\n",
    "    dist, p, num_clust_hits = calculating_clustering_pval(dist_thresh,'upstream_gene_variant')\n",
    "    dists.append(dist)\n",
    "    pvalues.append(p)\n",
    "    \n",
    "    \n",
    "#plotting permutation p-values for clustering at each distance threshold   \n",
    "fig, ax = plt.subplots(figsize = (2.5,2.5))\n",
    "ax.axhline(-np.log10(0.05),color = 'red', linestyle = 'dashed', linewidth = 1)\n",
    "#windows relating to yeast transcription factor binding site size, see analysis in section\n",
    "#\"Overlapping TFBS Data with Clusters and Promoter Hits\" of notebook\n",
    "#TFBS size range\n",
    "ax.axvspan(4,52, color = 'grey', alpha = .2)\n",
    "#mean TFBS size\n",
    "ax.axvline(8.7,color = 'blue', linestyle = 'dashed', linewidth = 1)\n",
    "#max distance from gene body for our designed variants\n",
    "ax.axvline(500,color = 'black', linestyle = 'dashed', linewidth = 1)\n",
    "plt.legend(['p = 0.05', 'ORegAnno TFBS range', 'Average TFBS length','Promoter window length'])\n",
    "ax.scatter(dists, -np.log10(np.array(pvalues)), s = 5)\n",
    "\n",
    "plt.title('Promoter variant clustering')\n",
    "ax.set_xscale('log',base=2)\n",
    "plt.ylabel('-log10(p)')\n",
    "plt.xlabel('Cluster Size Cutoff')\n",
    "plt.savefig('../GxE_Figures/Supplementary_Figures/figS4_upstream.svg')"
   ]
  },
  {
   "cell_type": "markdown",
   "metadata": {},
   "source": [
    "### Downstream Variants"
   ]
  },
  {
   "cell_type": "code",
   "execution_count": null,
   "metadata": {},
   "outputs": [],
   "source": [
    "dists = []\n",
    "pvalues = []\n",
    "for i in np.arange(0.5,10,0.5):\n",
    "    dist_thresh = round(2**i)\n",
    "    if dist_thresh in dists:\n",
    "        continue\n",
    "    dist, p, num_clust_hits = calculating_clustering_pval(dist_thresh,'downstream_gene_variant')\n",
    "    dists.append(dist)\n",
    "    pvalues.append(p)\n",
    "    \n",
    "fig, ax = plt.subplots(figsize = (2.5,2.5))\n",
    "ax.axhline(-np.log10(0.05),color = 'red', linestyle = 'dashed', linewidth = 1)\n",
    "\n",
    "plt.legend(['p = 0.05'])\n",
    "ax.scatter(dists, -np.log10(np.array(pvalues)), s = 5)\n",
    "\n",
    "plt.title('Downstream variant clustering')\n",
    "ax.set_xscale('log',base=2)\n",
    "plt.ylabel('-log10(p)')\n",
    "plt.xlabel('Cluster Size Cutoff')\n",
    "plt.savefig('../GxE_Figures/Supplementary_Figures/figS4_downstream.svg')"
   ]
  },
  {
   "cell_type": "markdown",
   "metadata": {},
   "source": [
    "### Missense Variants"
   ]
  },
  {
   "cell_type": "code",
   "execution_count": null,
   "metadata": {},
   "outputs": [],
   "source": [
    "#identifying \"clusters\"--hit variants within 8 bp of another hit variants, excluding hits that only \n",
    "#cluster with hits at the same genomic location\n",
    "for i in np.arange(0.5,10,0.5):\n",
    "    dist_thresh = round(2**i)\n",
    "    if dist_thresh in dists:\n",
    "        continue\n",
    "    dist, p, num_clust_hits = calculating_clustering_pval(dist_thresh,'missense_variant')\n",
    "    dists.append(dist)\n",
    "    pvalues.append(p)\n",
    "    \n",
    "fig, ax = plt.subplots(figsize = (2.5,2.5))\n",
    "ax.axhline(-np.log10(0.05),color = 'red', linestyle = 'dashed', linewidth = 1)\n",
    "\n",
    "\n",
    "ax.scatter(dists, -np.log10(np.array(pvalues)), s = 5)\n",
    "\n",
    "plt.title('Missense variant clustering')\n",
    "ax.set_xscale('log',base=2)\n",
    "plt.ylabel('-log10(p)')\n",
    "plt.xlabel('Cluster Size Cutoff')\n",
    "plt.savefig('../GxE_Figures/Supplementary_Figures/figS4_missense.svg')"
   ]
  },
  {
   "cell_type": "markdown",
   "metadata": {},
   "source": [
    "### Synonymous Variants"
   ]
  },
  {
   "cell_type": "code",
   "execution_count": null,
   "metadata": {},
   "outputs": [],
   "source": [
    "#identifying \"clusters\"--hit variants within 8 bp of another hit variants, excluding hits that only \n",
    "#cluster with hits at the same genomic location\n",
    "for i in np.arange(0.5,10,0.5):\n",
    "    dist_thresh = round(2**i)\n",
    "    if dist_thresh in dists:\n",
    "        continue\n",
    "    dist, p, num_clust_hits = calculating_clustering_pval(dist_thresh,'synonymous_variant')\n",
    "    dists.append(dist)\n",
    "    pvalues.append(p)\n",
    "    \n",
    "fig, ax = plt.subplots(figsize = (2.5,2.5))\n",
    "ax.axhline(-np.log10(0.05),color = 'red', linestyle = 'dashed')\n",
    "\n",
    "\n",
    "plt.legend(['p = 0.05'])\n",
    "ax.scatter(dists, -np.log10(np.array(pvalues)), s = 5)\n",
    "\n",
    "plt.title('Synonymous variant clustering')\n",
    "ax.set_xscale('log',base=2)\n",
    "plt.ylabel('-log10(p)')\n",
    "plt.xlabel('Cluster Size Cutoff')\n",
    "plt.savefig('../GxE_Figures/Supplementary_Figures/figS4_synonymous.svg')"
   ]
  },
  {
   "cell_type": "markdown",
   "metadata": {},
   "source": [
    "## Calculating final p-value for 8 base pair clusters of promoter variants"
   ]
  },
  {
   "cell_type": "code",
   "execution_count": null,
   "metadata": {},
   "outputs": [],
   "source": [
    "#Using a distance threshold of 8 because it is roughly the average size of a yeast TFBS\n",
    "\n",
    "dist_thresh = 8\n",
    "\n",
    "dist, p_13, num_clust_hits = calculating_clustering_pval(dist_thresh,'upstream_gene_variant', num_perms = 5000, seed = 13)\n",
    "\n",
    "dist, p_2022, num_clust_hits = calculating_clustering_pval(dist_thresh,'upstream_gene_variant', num_perms = 5000, seed = 2022)"
   ]
  },
  {
   "cell_type": "code",
   "execution_count": null,
   "metadata": {},
   "outputs": [],
   "source": [
    "print('permutation seed #1 p='+ str(p_13))\n",
    "print('permutation seed #2 p='+ str(p_2022))\n",
    "\n",
    "print('Average p-value: '+str((p_13+p_2022)/2))"
   ]
  },
  {
   "cell_type": "code",
   "execution_count": null,
   "metadata": {},
   "outputs": [],
   "source": [
    "promoter_hits = annotated_gxe[(annotated_gxe['Consequence']=='upstream_gene_variant')&(annotated_gxe['padj']<.01)]\n",
    "for i,row in promoter_hits.iterrows():\n",
    "        chrom = row['chrom']\n",
    "        pos = row['SNP_chr_pos']\n",
    "        var = row['var_id']\n",
    "        #for each GxE hit variant, this checks if there is another GxE hit variant\n",
    "        #within the distance threshold which is not the same variant and is not \n",
    "        #at the same position. If so, the row with the variant being checked has\n",
    "        # a true value for the column 'in_cluster.'\n",
    "        if promoter_hits[(promoter_hits['chrom']==chrom)&\\\n",
    "                                (abs(promoter_hits['SNP_chr_pos']-pos)<8)&\\\n",
    "                                (promoter_hits['var_id']!=var)&\\\n",
    "                                (promoter_hits['SNP_chr_pos']!=pos)]['var_id'].nunique():\n",
    "            promoter_hits.loc[i,'in_cluster'] = True\n",
    "        else:\n",
    "            promoter_hits.loc[i,'in_cluster'] = False"
   ]
  },
  {
   "cell_type": "code",
   "execution_count": null,
   "metadata": {},
   "outputs": [],
   "source": [
    "prom_clust = promoter_hits.loc[promoter_hits['in_cluster']]['SNP_chr_pos'].unique()   "
   ]
  },
  {
   "cell_type": "code",
   "execution_count": null,
   "metadata": {},
   "outputs": [],
   "source": [
    "clusters = promoter_hits[promoter_hits['in_cluster']]"
   ]
  },
  {
   "cell_type": "code",
   "execution_count": null,
   "metadata": {},
   "outputs": [],
   "source": [
    "#Sorting variants within clusters into named clusters (so more than two variants can be within a cluster\n",
    "#if they're each within 8 bp of each other)\n",
    "dist_thresh = 8\n",
    "cluster_number = 1\n",
    "sorted_clusters = clusters.sort_values(['chrom','SNP_chr_pos']).reset_index()\n",
    "for i, row in sorted_clusters.iterrows():\n",
    "    if i!= len(sorted_clusters)-1:\n",
    "        if row['chrom']==sorted_clusters.loc[i+1, 'chrom']:\n",
    "            if abs(row['SNP_chr_pos']-sorted_clusters.loc[i+1, 'SNP_chr_pos'])<dist_thresh:\n",
    "                sorted_clusters.loc[i, 'clusterID'] = 'Cluster'+str(cluster_number)\n",
    "                sorted_clusters.loc[i+1,'clusterID'] = 'Cluster'+str(cluster_number)\n",
    "            else:\n",
    "                cluster_number+=1\n",
    "        else:\n",
    "            cluster_number+=1"
   ]
  },
  {
   "cell_type": "code",
   "execution_count": null,
   "metadata": {},
   "outputs": [],
   "source": [
    "#checking to see if variants within the same clusters share \n",
    "#the same significant GxE terms at a relaxed FDR threshold of 0.10.\n",
    "\n",
    "clusts = sorted_clusters.groupby('clusterID')\n",
    "\n",
    "for clust, df in clusts:\n",
    "    shared_gxe_ints = None\n",
    "    gxe_hits_in_cluster = annotated_gxe[(annotated_gxe['padj']<.1)&(annotated_gxe['var_id'].isin(df['var_id'].unique()))]['gxe'].value_counts()\n",
    "    shared_gxe_ints = gxe_hits_in_cluster[gxe_hits_in_cluster==len(df)].index.to_list()\n",
    "    sorted_clusters.loc[df.index, 'Cluster GxE Interactions'] = ','.join(shared_gxe_ints)\n",
    "    "
   ]
  },
  {
   "cell_type": "code",
   "execution_count": null,
   "metadata": {},
   "outputs": [],
   "source": [
    "#All clusters have at least one shared significant GxE term for all variants in the cluster\n",
    "#with an FDr threshold of 0.10\n",
    "sorted_clusters[sorted_clusters['Cluster GxE Interactions']==None]"
   ]
  },
  {
   "cell_type": "markdown",
   "metadata": {},
   "source": [
    "### Overlapping TFBS Data with Clusters and Promoter Hits"
   ]
  },
  {
   "cell_type": "code",
   "execution_count": null,
   "metadata": {},
   "outputs": [],
   "source": [
    "#importing and pre-processing data from three different yeast transcription factor binding databases\n",
    "\n",
    "#swiss-regulon\n",
    "swiss = pd.read_csv('../../swiss_regulon.gff.gz', sep = '\\t', header = 1, names = ['chromosome','MOVETO','Site_type','Start','End','Score','Strand','dunno','INFO'])\n",
    "swiss_good = swiss[swiss['Score']>.95]\n",
    "swiss_good['TF'] = swiss_good['INFO'].str.split(';').str[2].str.split('=').str[1]\n",
    "swiss_good['chrom'] = swiss_good['chromosome'].str.split('r').str[1]\n",
    "\n",
    "#Harbison et. al 2008 from SGD\n",
    "tfbs_harbison = pd.read_csv('../../harbisonTF.txt.gz', '\\t',names=[ \"chromosome\", \"Start\", \"End\",'TF', \"Score\",'chipEvidence','consSpecies'])\n",
    "tfbs_harbison= tfbs_harbison[tfbs_harbison['chipEvidence'].isin(['good','weak'])]\n",
    "tfbs_harbison['chrom'] = tfbs_harbison['chromosome'].str.split('r').str[1]\n",
    "\n",
    "#ORegAnno\n",
    "tfbs=pd.read_csv('../../oreganno_tfbs.tsv',sep = '\\t')\n",
    "yeast = tfbs[tfbs['Species']=='Saccharomyces cerevisiae']\n",
    "yeast['chrom'] = yeast['Chr'].str.split('r').str[1].astype(int).apply(lambda x: roman.toRoman(x))\n",
    "yeast_tfbs = yeast[yeast['Type']=='TRANSCRIPTION FACTOR BINDING SITE']"
   ]
  },
  {
   "cell_type": "code",
   "execution_count": null,
   "metadata": {},
   "outputs": [],
   "source": [
    "#calculating length of each TFBS\n",
    "swiss_good['length'] = swiss_good['End']-swiss_good['Start']\n",
    "tfbs_harbison['length'] = tfbs_harbison['End']-tfbs_harbison['Start']\n",
    "yeast_tfbs['length'] = yeast_tfbs['End']-yeast_tfbs['Start']"
   ]
  },
  {
   "cell_type": "code",
   "execution_count": null,
   "metadata": {},
   "outputs": [],
   "source": [
    "swiss_good['length'].mean()"
   ]
  },
  {
   "cell_type": "code",
   "execution_count": null,
   "metadata": {},
   "outputs": [],
   "source": [
    "tfbs_harbison['length'].mean()"
   ]
  },
  {
   "cell_type": "code",
   "execution_count": null,
   "metadata": {},
   "outputs": [],
   "source": [
    "yeast_tfbs['length'].mean()"
   ]
  },
  {
   "cell_type": "code",
   "execution_count": null,
   "metadata": {},
   "outputs": [],
   "source": [
    "yeast_tfbs['length'].min()"
   ]
  },
  {
   "cell_type": "code",
   "execution_count": null,
   "metadata": {},
   "outputs": [],
   "source": [
    "yeast_tfbs['length'].max()"
   ]
  },
  {
   "cell_type": "code",
   "execution_count": null,
   "metadata": {},
   "outputs": [],
   "source": [
    "#checking to see if any of the clusters of promoter variants overlap TFBS identified in these three data sets\n",
    "\n",
    "for i,var in sorted_clusters.iterrows():\n",
    "    \n",
    "    in_tfbs = yeast_tfbs[(yeast_tfbs['chrom']==var['chrom'])&(yeast_tfbs['Start']<=var['SNP_chr_pos'])&(yeast_tfbs['End']>=var['SNP_chr_pos'])]\n",
    "    in_tfbs_harbison = tfbs_harbison_realish[(tfbs_harbison_realish['chrom']==var['chrom'])&(tfbs_harbison_realish['Start']<=var['SNP_chr_pos'])&(tfbs_harbison_realish['End']>=var['SNP_chr_pos'])]\n",
    "    in_tfbs_swiss = swiss_good[(swiss_good['chrom'] == var['chrom'])&(swiss_good['Start']<=var['SNP_chr_pos'])&(swiss_good['End']>=var['SNP_chr_pos'])]\n",
    "    if len(in_tfbs_harbison):\n",
    "        sorted_clusters.loc[i,'inTFBS'] = True\n",
    "        sorted_clusters.loc[i,'TF'] = in_tfbs_harbison['TF'].values[0]\n",
    "    elif len(in_tfbs):\n",
    "        sorted_clusters.loc[i,'inTFBS'] = True\n",
    "        sorted_clusters.loc[i,'TF'] = in_tfbs['Regulatory_Element_Symbol'].values[0]\n",
    "    elif len(in_tfbs_swiss):\n",
    "        sorted_clusters.loc[i,'inTFBS'] = True\n",
    "        sorted_clusters.loc[i,'TF'] = in_tfbs_swiss['TF'].values[0]\n",
    "    else:\n",
    "        sorted_clusters.loc[i,'inTFBS'] = False\n",
    "        sorted_clusters.loc[i,'TF'] = False\n",
    "(sorted_clusters.groupby('clusterID')['inTFBS'].agg('sum')>0).sum()"
   ]
  },
  {
   "cell_type": "raw",
   "metadata": {},
   "source": [
    "#finding the minimum distance of each cluster to a known TFBS. Not used!\n",
    "promoter_variants = all_variant_annotations[all_variant_annotations['Consequence']=='upstream_gene_variant']\n",
    "\n",
    "for i,var in promoter_variants.iterrows():\n",
    "    \n",
    "    tfbs_chrom = yeast_tfbs[(yeast_tfbs['chrom']==var['chrom'])]\n",
    "    tfbs_chrom['distance_to_tfbs_start'] = abs(tfbs_chrom['Start']-var['SNP_chr_pos'])\n",
    "    tfbs_chrom['distance_to_tfbs_end'] = abs(tfbs_chrom['End']-var['SNP_chr_pos'])\n",
    "    \n",
    "    tfbs_chrom_harb = tfbs_harbison_realish[(tfbs_harbison_realish['chrom']==var['chrom'])]\n",
    "    tfbs_chrom_harb['distance_to_tfbs_start_harb'] = abs(tfbs_chrom_harb['Start']-var['SNP_chr_pos'])\n",
    "    tfbs_chrom_harb['distance_to_tfbs_end_harb'] = abs(tfbs_chrom_harb['End']-var['SNP_chr_pos'])\n",
    "    \n",
    "    tfbs_chrom_swiss = swiss_good[(swiss_good['chrom']==var['chrom'])]\n",
    "    tfbs_chrom_swiss['distance_to_tfbs_start_swiss'] = abs(tfbs_chrom_swiss['Start']-var['SNP_chr_pos'])\n",
    "    tfbs_chrom_swiss['distance_to_tfbs_end_swiss'] = abs(tfbs_chrom_swiss['End']-var['SNP_chr_pos'])\n",
    "    promoter_variants.loc[i,'Distance to TFBS'] = min(tfbs_chrom['distance_to_tfbs_end'].min(), tfbs_chrom['distance_to_tfbs_start'].min(), tfbs_chrom_harb['distance_to_tfbs_start_harb'].min(),tfbs_chrom_harb['distance_to_tfbs_end_harb'].min(),tfbs_chrom_swiss['distance_to_tfbs_start_swiss'].min(),tfbs_chrom_swiss['distance_to_tfbs_end_swiss'].min())\n"
   ]
  },
  {
   "cell_type": "raw",
   "metadata": {},
   "source": [
    "#calculating enrichment of promoter hit GxE variants within 8 bp of a TFBS. Not used!\n",
    "dist_thresh = 8\n",
    "promoter_gxe = promoter_variants.merge(gxe,'inner', 'var_id')\n",
    "\n",
    "\n",
    "num_promoter_variants_near_tfbs = promoter_gxe[(promoter_gxe['Distance to TFBS']<dist_thresh)].var_id.nunique()\n",
    "num_promoter_hits_near_tfbs = promoter_gxe[(promoter_gxe['Distance to TFBS']<8)&(promoter_gxe['padj']<.01)]['var_id'].nunique()\n",
    "num_promoter_variants = promoter_gxe.var_id.nunique()\n",
    "num_promoter_hits =  promoter_gxe[promoter_gxe['padj']<.01].var_id.nunique()\n",
    "\n",
    "hypergeom.sf(num_promoter_hits_near_tfbs,num_promoter_variants,num_promoter_hits,num_promoter_variants_near_tfbs)"
   ]
  },
  {
   "cell_type": "markdown",
   "metadata": {},
   "source": [
    "## Plotting figure 3h showing HMG1 promoter"
   ]
  },
  {
   "cell_type": "code",
   "execution_count": null,
   "metadata": {},
   "outputs": [],
   "source": [
    "lov_hits = annotated_fitness[(annotated_fitness['padj']<.01)&(annotated_fitness['condition']=='LOV')&(annotated_fitness['var_id'].isin(gxe_hit_variants))]['var_id'].unique()"
   ]
  },
  {
   "cell_type": "code",
   "execution_count": null,
   "metadata": {},
   "outputs": [],
   "source": [
    "\n",
    "plt.rcParams['font.family']='Arial'\n",
    "plt.rcParams['font.size'] = 7\n",
    "fig,ax = plt.subplots(figsize = (7.5,.75))\n",
    "hmg1_hits = annotated_fitness[(annotated_fitness['Gene']=='HMG1')&(annotated_fitness['condition'].isin(['LOV','CAFF']))&(annotated_fitness['var_id'].isin(lov_hits))&(annotated_fitness['SNP_chr_pos']>118700)]\n",
    "#grey spans for each cluster\n",
    "plt.axvspan(119380,119389, alpha = .4, color = 'dimgrey')\n",
    "plt.axvspan(119366,119372, alpha = .4, color = 'dimgrey')\n",
    "plt.axvspan(119342,119354, alpha = .4, color = 'dimgrey')\n",
    "plt.axhline(0, color ='black',linestyle = 'dashed', linewidth =.6)\n",
    "plt.xlim(118850,119500)\n",
    "plt.ylim([-.11,.11])\n",
    "\n",
    "#adding a gene arrow for HMG1\n",
    "plt.arrow(118898,-0,-48,0, width = .03,head_width = .1, head_length = 0,length_includes_head=True)\n",
    "plt.annotate('<<HMG1', xy = (118873,-.008), color = 'white', fontstyle = 'oblique', weight = 'bold', ha = 'center')   \n",
    "\n",
    "plt.ylabel('Fitness')\n",
    "plt.xlabel('Genomic Coordinates (chr13)')\n",
    "sns.scatterplot('SNP_chr_pos','coef',hue = 'condition', data = hmg1_hits, s =15, palette = ['chartreuse','purple'])\n",
    "\n",
    "plt.legend(title = 'Condition')\n",
    "plt.savefig('../GxE_Figures/Figure_3/fig3f_hmg1_clusters.svg')"
   ]
  },
  {
   "cell_type": "code",
   "execution_count": null,
   "metadata": {},
   "outputs": [],
   "source": []
  }
 ],
 "metadata": {
  "kernelspec": {
   "display_name": "CRISPEY_GxE",
   "language": "python",
   "name": "crispey_gxe"
  },
  "language_info": {
   "codemirror_mode": {
    "name": "ipython",
    "version": 3
   },
   "file_extension": ".py",
   "mimetype": "text/x-python",
   "name": "python",
   "nbconvert_exporter": "python",
   "pygments_lexer": "ipython3",
   "version": "3.9.7"
  },
  "toc": {
   "base_numbering": 1,
   "nav_menu": {},
   "number_sections": true,
   "sideBar": true,
   "skip_h1_title": false,
   "title_cell": "Table of Contents",
   "title_sidebar": "Contents",
   "toc_cell": false,
   "toc_position": {},
   "toc_section_display": true,
   "toc_window_display": false
  }
 },
 "nbformat": 4,
 "nbformat_minor": 2
}
