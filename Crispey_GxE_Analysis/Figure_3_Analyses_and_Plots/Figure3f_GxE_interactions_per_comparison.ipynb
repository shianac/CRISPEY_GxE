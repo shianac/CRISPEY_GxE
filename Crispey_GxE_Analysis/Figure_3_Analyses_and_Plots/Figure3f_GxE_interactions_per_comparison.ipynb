{
 "cells": [
  {
   "cell_type": "code",
   "execution_count": null,
   "metadata": {},
   "outputs": [],
   "source": [
    "import pandas as pd\n",
    "import matplotlib.pyplot as plt\n",
    "%matplotlib inline\n",
    "plt.rcParams['font.size'] = 7\n",
    "plt.rcParams['font.family'] = 'Arial'\n",
    "\n",
    "\n",
    "annotations = pd.read_csv('../data_tables/erg_annos.tsv',sep = '\\t', index_col='var_id')\n",
    "gxe = pd.read_csv('../data_tables/ergosterol_pathway_gxe_interactions.tsv', sep = '\\t')\n",
    "var_fits = pd.read_csv('../data_tables/Fitness_files/ergosterol_pathway_fitness.tsv', sep = '\\t')\n",
    "annotated_gxe = gxe.merge(annotations,'inner','var_id')\n",
    "annotated_fits = var_fits.merge(annotations,'inner','var_id')"
   ]
  },
  {
   "cell_type": "code",
   "execution_count": null,
   "metadata": {},
   "outputs": [],
   "source": [
    "#zero significant GxE interactions between the two SC replicate competitions\n",
    "gxe = pd.read_csv('../data_tables/ergosterol_pathway_gxe_interactions_separate_SC_reps.tsv', sep = '\\t')\n",
    "gxe[(gxe['padj']<.01)&(gxe['gxe']=='SC-SC2')]"
   ]
  },
  {
   "cell_type": "code",
   "execution_count": null,
   "metadata": {},
   "outputs": [],
   "source": [
    "#getting all significant pairwise GxE interactions based on our stringent two-part definition:\n",
    "# 1) the interactionGxE term has FDR<0.01, and 2) the direction\n",
    "# of effect in the two conditions for that term are in opposite directions.\n",
    "gxe_ints ={'gxe':[],'var_id':[]} \n",
    "\n",
    "for i, row in annotated_gxe[(annotated_gxe['padj']<0.01)].iterrows():\n",
    "    var = row['var_id']\n",
    "    conds = row['gxe'].split('-')\n",
    "    if annotated_fits[(annotated_fits['var_id']==var)&(annotated_fits['condition'].isin(conds))]['coef'].prod()<0:\n",
    "        gxe_ints['gxe'].append(row['gxe'])\n",
    "        gxe_ints['var_id'].append(var)\n",
    "        \n",
    "    "
   ]
  },
  {
   "cell_type": "code",
   "execution_count": null,
   "metadata": {},
   "outputs": [],
   "source": [
    "pd.DataFrame(gxe_ints)['gxe'].value_counts().mean()"
   ]
  },
  {
   "cell_type": "code",
   "execution_count": null,
   "metadata": {},
   "outputs": [],
   "source": [
    "plt.rcParams['font.family'] = \"sans-serif\"\n",
    "plt.rcParams['font.sans-serif'] = 'Arial'\n",
    "plt.rcParams['mathtext.fontset'] = 'custom'\n",
    "plt.rcParams['mathtext.cal'] = 'Arial' \n",
    "plt.rcParams['font.size'] = 7 \n",
    "fig, ax = plt.subplots(figsize= (1.4,1.4))\n",
    "pd.DataFrame(gxe_ints)['gxe'].value_counts().plot.bar()\n",
    "\n",
    "plt.ylabel('# GxE Interactions')\n",
    "\n",
    "ax.set_xticklabels(['CAFF-SC','CAFF-LOV', r'CoCl$_2$-LOV','LOV-SC','CAFF-TBF',r'CAFF-CoCl$_2$',r'CoCl$_2$-NaCl',\n",
    "'LOV-TBF',r'CoCl$_2$-TBF','LOV-NaCl','CAFF-NaCl',r'CoCl$_2$-SC','NaCl-TBF','SC-TBF','NaCl-SC'], fontsize = 5)\n",
    "plt.xlabel('Condition Comparison')\n",
    "plt.savefig('../GxE_Figures/Figure_3/fig3E_FC.svg')"
   ]
  },
  {
   "cell_type": "code",
   "execution_count": null,
   "metadata": {},
   "outputs": [],
   "source": []
  },
  {
   "cell_type": "code",
   "execution_count": null,
   "metadata": {},
   "outputs": [],
   "source": []
  },
  {
   "cell_type": "code",
   "execution_count": null,
   "metadata": {},
   "outputs": [],
   "source": []
  }
 ],
 "metadata": {
  "kernelspec": {
   "display_name": "CRISPEY_GxE",
   "language": "python",
   "name": "crispey_gxe"
  },
  "language_info": {
   "codemirror_mode": {
    "name": "ipython",
    "version": 3
   },
   "file_extension": ".py",
   "mimetype": "text/x-python",
   "name": "python",
   "nbconvert_exporter": "python",
   "pygments_lexer": "ipython3",
   "version": "3.9.7"
  },
  "toc": {
   "base_numbering": 1,
   "nav_menu": {},
   "number_sections": true,
   "sideBar": true,
   "skip_h1_title": false,
   "title_cell": "Table of Contents",
   "title_sidebar": "Contents",
   "toc_cell": false,
   "toc_position": {},
   "toc_section_display": true,
   "toc_window_display": false
  }
 },
 "nbformat": 4,
 "nbformat_minor": 2
}
