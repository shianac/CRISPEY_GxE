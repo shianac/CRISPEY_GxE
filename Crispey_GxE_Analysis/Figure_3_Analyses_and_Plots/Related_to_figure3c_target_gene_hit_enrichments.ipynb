{
 "cells": [
  {
   "cell_type": "markdown",
   "metadata": {},
   "source": [
    "# Calculating Enrichment of Hits within known Lovastatin and Terbinafine target genes"
   ]
  },
  {
   "cell_type": "code",
   "execution_count": 1,
   "metadata": {},
   "outputs": [],
   "source": [
    "import pandas as pd\n",
    "from scipy.stats import hypergeom\n",
    "\n",
    "#variant annotations for ergosterol pathway variants (Needed to know which genes variants target in this notebook)\n",
    "annotations = pd.read_csv('../data_tables/erg_annos.tsv',sep = '\\t', index_col='var_id')\n",
    "\n",
    "#variant fitness measurements for the ergosterol biosynthesis pathway variants\n",
    "var_fitness = pd.read_csv('../data_tables/ergosterol_pathway_fitness.tsv', sep = '\\t')\n",
    "\n",
    "#merging the tables so variant fitness and p values are in the same table as gene names\n",
    "annotated_fit = var_fitness.merge(annotations, 'inner', 'var_id')\n"
   ]
  },
  {
   "cell_type": "markdown",
   "metadata": {},
   "source": [
    "## Lovastatin"
   ]
  },
  {
   "cell_type": "code",
   "execution_count": 2,
   "metadata": {},
   "outputs": [
    {
     "data": {
      "text/plain": [
       "6.624632946217848e-12"
      ]
     },
     "execution_count": 2,
     "metadata": {},
     "output_type": "execute_result"
    }
   ],
   "source": [
    "lovastatin_target_genes = ['HMG1','HMG2']\n",
    "\n",
    "#number of variants targeting each gene for variants measured in lovastatin\n",
    "lovastatin_variants_per_gene = annotated_fit[annotated_fit['condition']=='LOV']['Gene'].value_counts()\n",
    "\n",
    "#number of hits targeting each gene for variants measured in lovastatin\n",
    "lovastatin_hits_per_gene = annotated_fit[(annotated_fit['condition']=='LOV')&(annotated_fit['padj']<.01)]['Gene'].value_counts()\n",
    "\n",
    "#total number of variants measured in lovastatin\n",
    "lovastatin_total_variants = lovastatin_variants_per_gene.sum()\n",
    "\n",
    "#total number of variants within the two known target genes for lovastatin, HMG1 and HMG2\n",
    "lovastatin_target_variants =  lovastatin_variants_per_gene.loc[lovastatin_target_genes].sum()\n",
    "\n",
    "\n",
    "#total number of hits identified in lovastatin\n",
    "lovastatin_total_hits = lovastatin_hits_per_gene.sum()\n",
    "\n",
    "#total number of hits within the two known target genes for lovastatin, HMG1 and HMG2\n",
    "lovastatin_target_hits =  lovastatin_hits_per_gene.loc[lovastatin_target_genes].sum()\n",
    "\n",
    "hypergeom.sf(lovastatin_target_hits-1, lovastatin_total_variants, lovastatin_total_hits, lovastatin_target_variants)"
   ]
  },
  {
   "cell_type": "markdown",
   "metadata": {},
   "source": [
    "## Terbinafine"
   ]
  },
  {
   "cell_type": "code",
   "execution_count": 3,
   "metadata": {},
   "outputs": [
    {
     "data": {
      "text/plain": [
       "1.5530284112449056e-16"
      ]
     },
     "execution_count": 3,
     "metadata": {},
     "output_type": "execute_result"
    }
   ],
   "source": [
    "terbinafine_target = ['ERG1']\n",
    "\n",
    "\n",
    "#number of variants targeting each gene for variants measured in terbinafine\n",
    "terbinafine_variants_per_gene = annotated_fit[annotated_fit['condition']=='TBF']['Gene'].value_counts()\n",
    "\n",
    "#number of hits targeting each gene for variants measured in terbinafine\n",
    "terbinafine_hits_per_gene = annotated_fit[(annotated_fit['condition']=='TBF')&(annotated_fit['padj']<.01)]['Gene'].value_counts()\n",
    "\n",
    "#total number of variants measured in terbinafine\n",
    "terbinafine_total_variants = terbinafine_variants_per_gene.sum()\n",
    "\n",
    "#total number of variants within the two known target genes for terbinafine, HMG1 and HMG2\n",
    "terbinafine_target_variants =  terbinafine_variants_per_gene.loc[terbinafine_target].sum()\n",
    "\n",
    "\n",
    "#total number of hits identified in terbinafine\n",
    "terbinafine_total_hits = terbinafine_hits_per_gene.sum()\n",
    "\n",
    "#total number of hits within the two known target genes for terbinafine, HMG1 and HMG2\n",
    "terbinafine_target_hits =  terbinafine_hits_per_gene.loc[terbinafine_target].sum()\n",
    "\n",
    "hypergeom.sf(terbinafine_target_hits-1, terbinafine_total_variants, terbinafine_total_hits, terbinafine_target_variants)"
   ]
  },
  {
   "cell_type": "code",
   "execution_count": null,
   "metadata": {},
   "outputs": [],
   "source": []
  }
 ],
 "metadata": {
  "kernelspec": {
   "display_name": "Python 3",
   "language": "python",
   "name": "python3"
  },
  "language_info": {
   "codemirror_mode": {
    "name": "ipython",
    "version": 3
   },
   "file_extension": ".py",
   "mimetype": "text/x-python",
   "name": "python",
   "nbconvert_exporter": "python",
   "pygments_lexer": "ipython3",
   "version": "3.6.5"
  },
  "toc": {
   "base_numbering": 1,
   "nav_menu": {},
   "number_sections": true,
   "sideBar": true,
   "skip_h1_title": false,
   "title_cell": "Table of Contents",
   "title_sidebar": "Contents",
   "toc_cell": false,
   "toc_position": {},
   "toc_section_display": true,
   "toc_window_display": false
  }
 },
 "nbformat": 4,
 "nbformat_minor": 2
}
