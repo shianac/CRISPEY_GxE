{
 "cells": [
  {
   "cell_type": "code",
   "execution_count": null,
   "metadata": {},
   "outputs": [],
   "source": [
    "import pandas as pd\n",
    "import numpy as np\n",
    "from scipy.stats import hypergeom\n",
    "import matplotlib.pyplot as plt\n",
    "%matplotlib inline\n",
    "\n",
    "\n",
    "annotations = pd.read_csv('../data_tables/erg_annos.tsv',sep = '\\t', index_col='var_id')\n",
    "annotations.loc[annotations['Consequence'].isin(['inframe_deletion','stop_gained','frameshift_variant']), 'Consequence'] = 'missense_variant'\n",
    "gxe = pd.read_csv('../data_tables/ergosterol_pathway_gxe_interactions.tsv', sep = '\\t')\n",
    "fit  = pd.read_csv('../data_tables/Fitness_files/ergosterol_pathway_fitness.tsv', sep = '\\t')\n"
   ]
  },
  {
   "cell_type": "code",
   "execution_count": null,
   "metadata": {},
   "outputs": [],
   "source": [
    "annotated_fit = fit.merge(annotations, 'inner', 'var_id')\n",
    "annotated_gxe = gxe.merge(annotations, 'inner', 'var_id')"
   ]
  },
  {
   "cell_type": "code",
   "execution_count": null,
   "metadata": {},
   "outputs": [],
   "source": [
    "def get_GxE_vars(annotated_gxe_df, annotated_fitness_df):\n",
    "    '''This code generates the list of GxE variants based on our stringent two-part definition:\n",
    "    1) the variant has a GxE term with FDR<0.01, and 2) for that term, the direction\n",
    "    of effect in the two conditions is in opposite directions.\n",
    "    inputs:\n",
    "        annotated_gxe_df (pandas DataFrame): table containing pairwise GxE coefficients and pvalues for variants,\n",
    "        annotated by genomic location.\n",
    "        annotated_fitness_df (pandas DataFrame):  table containing fitness values for variants in \n",
    "        all relevant conditions,annotated by genomic location.\n",
    "    returns:\n",
    "        gxe_vars (list of strings): list of variants which show GxE according to our definition \n",
    "        (not unique, many represented multiple times) \n",
    "    '''\n",
    "    gxe_vars =[] \n",
    "    for i, row in annotated_gxe_df[(annotated_gxe_df['padj']<0.01)].iterrows():\n",
    "        var = row['var_id']\n",
    "        conds = row['gxe'].split('-')\n",
    "        if annotated_fitness_df[(annotated_fitness_df['var_id']==var)&\\\n",
    "                                (annotated_fitness_df['condition'].isin(conds))]['coef'].prod()<0:\n",
    "            gxe_vars.append(var)\n",
    "    return gxe_vars\n"
   ]
  },
  {
   "cell_type": "code",
   "execution_count": null,
   "metadata": {},
   "outputs": [],
   "source": [
    "gxe_vars = get_GxE_vars(annotated_gxe,annotated_fit)"
   ]
  },
  {
   "cell_type": "code",
   "execution_count": null,
   "metadata": {},
   "outputs": [],
   "source": [
    "all_hits = list(set(gxe_vars))"
   ]
  },
  {
   "cell_type": "code",
   "execution_count": null,
   "metadata": {},
   "outputs": [],
   "source": [
    "all_vars = annotated_gxe['var_id'].unique()\n",
    "all_annos = annotations[annotations.index.isin(all_vars)]['Consequence'].value_counts()"
   ]
  },
  {
   "cell_type": "code",
   "execution_count": null,
   "metadata": {},
   "outputs": [],
   "source": [
    "all_vars = annotated_gxe['var_id'].unique()\n",
    "all_annos = annotations[annotations.index.isin(all_vars)]['Consequence'].value_counts()\n",
    "\n",
    "all_annos = all_annos[['synonymous_variant','missense_variant','upstream_gene_variant','downstream_gene_variant']]\n",
    "all_var_anno_fracs = all_annos/len(all_vars)"
   ]
  },
  {
   "cell_type": "code",
   "execution_count": null,
   "metadata": {},
   "outputs": [],
   "source": [
    "hit_annos = annotations[annotations.index.isin(all_hits)]['Consequence'].value_counts()\n",
    "\n",
    "hit_annos  = hit_annos[['synonymous_variant','missense_variant','upstream_gene_variant','downstream_gene_variant']]\n",
    "hit_fracs = hit_annos/len(all_hits)"
   ]
  },
  {
   "cell_type": "code",
   "execution_count": null,
   "metadata": {},
   "outputs": [],
   "source": [
    "enrich = hit_fracs/all_var_anno_fracs"
   ]
  },
  {
   "cell_type": "code",
   "execution_count": null,
   "metadata": {
    "scrolled": true
   },
   "outputs": [],
   "source": [
    "\n",
    "plt.rcParams['font.family'] = \"sans-serif\"\n",
    "plt.rcParams['font.sans-serif'] = 'Arial'\n",
    "plt.rcParams['font.size']  = 7\n",
    "\n",
    "\n",
    "fig,ax = plt.subplots(figsize = (1.4,1.4))\n",
    "plt.bar(enrich.index,enrich)\n",
    "\n",
    "plt.axhline(1, color = 'red',linestyle = 'dashed', linewidth = 1)\n",
    "plt.ylabel('Enrichment over Library')\n",
    "plt.xlabel('Variant Annotation')\n",
    "plt.xticks([0,1,2,3],[ 'Synonymous','Missense','Upstream','Downstream'], rotation = 45);\n",
    "\n",
    "plt.ylabel('Enrichment over Library')\n",
    "plt.savefig('../GxE_Figures/Figure_3/fig3f_FC.svg')"
   ]
  },
  {
   "cell_type": "code",
   "execution_count": null,
   "metadata": {},
   "outputs": [],
   "source": [
    "annotations[annotations.index.isin(gxe_vars)]['Consequence'].value_counts()"
   ]
  },
  {
   "cell_type": "code",
   "execution_count": null,
   "metadata": {},
   "outputs": [],
   "source": [
    "annotations[annotations.index.isin(all_vars)]['Consequence'].value_counts()"
   ]
  },
  {
   "cell_type": "code",
   "execution_count": null,
   "metadata": {},
   "outputs": [],
   "source": [
    "#Bonferroni Correction (4 tests, 2 sided)\n",
    "#Probably overkill\n",
    "\n",
    "#missense enrichment\n",
    "hypergeom.sf(98-1,1432,376,256)*8"
   ]
  },
  {
   "cell_type": "code",
   "execution_count": null,
   "metadata": {},
   "outputs": [],
   "source": [
    "#upstream enrichmentz\n",
    "hypergeom.sf(69-1,1432,336,256)*8"
   ]
  },
  {
   "cell_type": "code",
   "execution_count": null,
   "metadata": {},
   "outputs": [],
   "source": [
    "#downstream depletion\n",
    "hypergeom.cdf(12+1,1432,159,256)*8"
   ]
  },
  {
   "cell_type": "code",
   "execution_count": null,
   "metadata": {},
   "outputs": [],
   "source": [
    "#synonymous depletion\n",
    "hypergeom.cdf(59+1,1432,570,256)*8"
   ]
  },
  {
   "cell_type": "code",
   "execution_count": null,
   "metadata": {},
   "outputs": [],
   "source": []
  },
  {
   "cell_type": "code",
   "execution_count": null,
   "metadata": {},
   "outputs": [],
   "source": []
  }
 ],
 "metadata": {
  "kernelspec": {
   "display_name": "CRISPEY_GxE",
   "language": "python",
   "name": "crispey_gxe"
  },
  "language_info": {
   "codemirror_mode": {
    "name": "ipython",
    "version": 3
   },
   "file_extension": ".py",
   "mimetype": "text/x-python",
   "name": "python",
   "nbconvert_exporter": "python",
   "pygments_lexer": "ipython3",
   "version": "3.9.7"
  },
  "toc": {
   "base_numbering": 1,
   "nav_menu": {},
   "number_sections": true,
   "sideBar": true,
   "skip_h1_title": false,
   "title_cell": "Table of Contents",
   "title_sidebar": "Contents",
   "toc_cell": false,
   "toc_position": {},
   "toc_section_display": true,
   "toc_window_display": false
  }
 },
 "nbformat": 4,
 "nbformat_minor": 2
}
