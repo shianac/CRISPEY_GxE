{
 "cells": [
  {
   "cell_type": "code",
   "execution_count": null,
   "metadata": {},
   "outputs": [],
   "source": [
    "import pandas as pd\n",
    "import matplotlib.pyplot as plt\n",
    "from matplotlib.lines import Line2D\n",
    "import matplotlib.legend_handler\n",
    "\n",
    "plt.rcParams['font.family'] = 'Arial'\n",
    "plt.rcParams['font.size'] = 7\n",
    "plt.rcParams['lines.linewidth'] = .5\n",
    "\n",
    "%matplotlib inline"
   ]
  },
  {
   "cell_type": "code",
   "execution_count": null,
   "metadata": {},
   "outputs": [],
   "source": [
    "library_df =pd.read_excel('../data_tables/crispey3_libraries_by_pool_number.xlsx')"
   ]
  },
  {
   "cell_type": "code",
   "execution_count": null,
   "metadata": {},
   "outputs": [],
   "source": [
    "counts = pd.read_csv('../data_tables/mapped_counts_pbc_umi_TBF_SC.tsv', '\\t')\n",
    "counts['well'] = counts.barcode_id.str.split('_').str[0].astype(float)\n",
    "counts = counts[counts['well'].isin(library_df['ergosterol'].dropna().tolist())]\n",
    "for col in counts.filter(regex = 'counts').columns:\n",
    "    counts[col] = (counts[col]/counts[col].sum())*1000000"
   ]
  },
  {
   "cell_type": "code",
   "execution_count": null,
   "metadata": {},
   "outputs": [],
   "source": [
    "def raw_count_fraction_plotter(barcode_list, condition, color, generations):\n",
    "    if color == 'red':\n",
    "        colors = ['red','firebrick']\n",
    "    elif color == 'royalblue':\n",
    "        colors = ['deepskyblue','blue', 'navy']\n",
    "    else: \n",
    "        colors = [color]*len(barcode_list)\n",
    "    if color == 'black':\n",
    "        colors = ['black','darkgrey','slategrey','lightslategrey','lightgrey','dimgray',]\n",
    "        alpha = .3\n",
    "    else:\n",
    "        alpha = .9\n",
    "    hit = counts[counts['barcode_id'].isin(barcode_list)].filter(regex = condition+'|barcode_id')\n",
    "    gens = [5,10,15,20,25,30]\n",
    "    for i,barcode in enumerate(barcode_list):\n",
    "        bc = hit[hit['barcode_id']==barcode].filter(regex = condition).T\n",
    "        cc = colors[i]\n",
    "        for col in bc.columns:\n",
    "            for flask in ['F1','F2','F3']:\n",
    "                gens = generations[flask]\n",
    "                gens_for_plot  = [i-gens[0] for i in gens]\n",
    "                plt.plot(gens_for_plot, (bc.loc[bc.index.str.contains(flask), col])/(bc.loc[bc.index.str.contains(flask), col].values[0]), c= cc, alpha = alpha)\n",
    "     \n",
    "        "
   ]
  },
  {
   "cell_type": "code",
   "execution_count": null,
   "metadata": {},
   "outputs": [],
   "source": [
    "\n",
    "fig, ax = plt.subplots(figsize = (2.1,2.0))\n",
    "generations = {'F1':[4.7830620088,10.0796047852,15.3915487915,20.6512920552,26.309503538,31.5670410456],\n",
    "              'F2':[4.8673622314,10.3251737544,15.5862196071,20.845606236,26.5411052128,31.7249571723],\n",
    "              'F3':[4.8567048384,10.3777886461,15.7608693786,20.9214261975,26.3615721454,31.6419211365]}\n",
    "raw_count_fraction_plotter(['012_009','012_010'], 'TBF','red', generations)\n",
    "raw_count_fraction_plotter(['002_012','002_013'], 'TBF', 'royalblue', generations)\n",
    "raw_count_fraction_plotter(['033_117','015_119','032_117','018_119','027_111','027_113'], 'TBF', 'black', generations)\n",
    "plt.xticks([0,5,10,15,20,25])\n",
    "plt.xlim(0,26)\n",
    "\n",
    "custom_lines = [(Line2D([0], [0], color='red', lw=4),\n",
    "                Line2D([0], [0], color='firebrick', lw=4)),\n",
    "                (Line2D([0], [0], color='black', lw=4),\n",
    "                Line2D([0], [0], color='darkgrey', lw=4),\n",
    "                Line2D([0], [0], color='lightgrey', lw=4),\n",
    "                Line2D([0], [0], color='slategrey', lw=4),\n",
    "                Line2D([0], [0], color='dimgrey', lw=4),\n",
    "                Line2D([0], [0], color='lightslategrey', lw=4)), \n",
    "                (Line2D([0], [0], color='deepskyblue', lw=4),\n",
    "               Line2D([0], [0], color='blue', lw=4))]\n",
    "leg = ax.legend(handles = custom_lines, handlelength = 3, title = '  BCs   Chr7 Variants', labels = ['847050C>A', 'No-edit', '848783AC>A'],\n",
    "           handler_map = {tuple: matplotlib.legend_handler.HandlerTuple(None)}, loc = 'lower left', bbox_to_anchor = (-.01,-.01), fontsize = 5,title_fontsize=5)\n",
    "leg._legend_box.align = \"left\"\n",
    "plt.yscale('log')\n",
    "plt.ylim([.08,10])\n",
    "plt.xticks(fontsize = 7)\n",
    "plt.yticks(fontsize = 7)\n",
    "plt.xlabel('Time (generations)', fontsize = 7)\n",
    "plt.ylabel('Log Fold Change in Abundance', fontsize = 7)\n",
    "plt.savefig('../GxE_Figures/Figure_1/figure1g.svg')\n"
   ]
  },
  {
   "cell_type": "code",
   "execution_count": null,
   "metadata": {},
   "outputs": [],
   "source": []
  }
 ],
 "metadata": {
  "kernelspec": {
   "display_name": "CRISPEY_GxE",
   "language": "python",
   "name": "crispey_gxe"
  },
  "language_info": {
   "codemirror_mode": {
    "name": "ipython",
    "version": 3
   },
   "file_extension": ".py",
   "mimetype": "text/x-python",
   "name": "python",
   "nbconvert_exporter": "python",
   "pygments_lexer": "ipython3",
   "version": "3.9.7"
  },
  "toc": {
   "base_numbering": 1,
   "nav_menu": {},
   "number_sections": true,
   "sideBar": true,
   "skip_h1_title": false,
   "title_cell": "Table of Contents",
   "title_sidebar": "Contents",
   "toc_cell": false,
   "toc_position": {},
   "toc_section_display": true,
   "toc_window_display": false
  }
 },
 "nbformat": 4,
 "nbformat_minor": 2
}
