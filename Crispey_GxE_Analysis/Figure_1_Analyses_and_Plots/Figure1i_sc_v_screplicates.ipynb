{
 "cells": [
  {
   "cell_type": "code",
   "execution_count": 1,
   "metadata": {},
   "outputs": [],
   "source": [
    "import pandas as pd\n",
    "import matplotlib.pyplot as plt\n",
    "from scipy.stats import pearsonr, spearmanr\n",
    "SIZE = 7\n",
    "plt.rcParams['font.size'] = SIZE\n",
    "plt.rcParams['font.family'] = 'Arial'\n",
    "\n",
    "plt.rc('font', size=SIZE)          # controls default text sizes\n",
    "plt.rc('axes', titlesize=SIZE)     # fontsize of the axes title\n",
    "plt.rc('axes', labelsize=SIZE)    # fontsize of the x and y labels\n",
    "plt.rc('xtick', labelsize=SIZE)    # fontsize of the tick labels\n",
    "plt.rc('ytick', labelsize=SIZE)    # fontsize of the tick labels\n",
    "plt.rc('legend', fontsize=SIZE)    # legend fontsize\n",
    "plt.rc('figure', titlesize=SIZE)  # fontsize of the figure title\n",
    "\n",
    "%matplotlib inline\n"
   ]
  },
  {
   "cell_type": "code",
   "execution_count": 3,
   "metadata": {},
   "outputs": [],
   "source": [
    "var_fitness_df =pd.read_csv('../data_tables/Fitness_files/ergosterol_pathway_fitness_separate_SC_replicates.tsv',sep = '\\t')\n",
    "annotations = pd.read_csv('../data_tables/erg_annos.tsv',sep='\\t')\n",
    "annotated_fitness = var_fitness_df.merge(annotations, 'inner', 'var_id')"
   ]
  },
  {
   "cell_type": "code",
   "execution_count": 4,
   "metadata": {},
   "outputs": [
    {
     "data": {
      "image/png": "[encoded data removed]",
      "text/plain": [
       "<Figure size 144x144 with 1 Axes>"
      ]
     },
     "metadata": {
      "needs_background": "light"
     },
     "output_type": "display_data"
    }
   ],
   "source": [
    "\n",
    "fig,ax = plt.subplots(figsize = (2,2))\n",
    "\n",
    "h = annotated_fitness[(annotated_fitness['padj']<.25)&(annotated_fitness['condition'].isin(['SC','SC2']))].var_id.unique()\n",
    "annotated_fitness.pivot(index = 'var_id',columns = 'condition',values = 'coef').plot.scatter('SC','SC2', ax = ax, c = u'#1f77b4', s =2)\n",
    "annotated_fitness[annotated_fitness['var_id'].isin(h)].pivot(index = 'var_id',columns = 'condition',values = 'coef').plot.scatter('SC','SC2', ax = ax, c = u'#ff7f0e', s =2.5)\n",
    "\n",
    "plt.legend([u'FDR\\u22650.25', 'FDR<0.25'])\n",
    "plt.axhline(0,color = 'grey', linewidth = 0.5, linestyle = 'dashed')\n",
    "plt.axvline(0, color = 'grey', linewidth = 0.5, linestyle = 'dashed')\n",
    "plt.xticks([-0.12,-0.08,-0.04,0.0,0.04])\n",
    "plt.yticks([-0.12,-0.08,-0.04,0.0,0.04])\n",
    "plt.ylim(-.12,.05)\n",
    "plt.xlim(-.12,.05)\n",
    "plt.ylabel('SC Replicate #2 Fitness')\n",
    "plt.xlabel('SC Replicate #1 Fitness')\n",
    "ax.set_box_aspect(1)\n",
    "plt.savefig('../GxE_Figures/Figure_1/figure1i_sc_v_sc_replication.svg')"
   ]
  },
  {
   "cell_type": "code",
   "execution_count": 5,
   "metadata": {},
   "outputs": [],
   "source": [
    "sc_v_sc_fitness= annotated_fitness[(annotated_fitness['padj']<=0.25)&(annotated_fitness['condition'].isin(['SC','SC2']))].pivot(index = 'var_id',columns = 'condition',values = 'coef')"
   ]
  },
  {
   "cell_type": "code",
   "execution_count": 6,
   "metadata": {},
   "outputs": [],
   "source": [
    "sc_overlapping_hit_variants = sc_v_sc_fitness.dropna()"
   ]
  },
  {
   "cell_type": "code",
   "execution_count": 7,
   "metadata": {},
   "outputs": [],
   "source": [
    "r, p = pearsonr(sc_overlapping_hit_variants['SC'],sc_overlapping_hit_variants['SC2'])"
   ]
  },
  {
   "cell_type": "code",
   "execution_count": 8,
   "metadata": {},
   "outputs": [
    {
     "name": "stdout",
     "output_type": "stream",
     "text": [
      "Pearson r = 0.9954314182842009\n",
      "p = 3.9500487068726783e-72\n"
     ]
    }
   ],
   "source": [
    "print('Pearson r = '+str(r))\n",
    "print('p = '+str(p))"
   ]
  },
  {
   "cell_type": "code",
   "execution_count": 9,
   "metadata": {},
   "outputs": [],
   "source": [
    "r, p = spearmanr(sc_overlapping_hit_variants['SC'],sc_overlapping_hit_variants['SC2'])"
   ]
  },
  {
   "cell_type": "code",
   "execution_count": 10,
   "metadata": {},
   "outputs": [
    {
     "data": {
      "text/plain": [
       "(0.9024144869215291, 6.2226338715378434e-27)"
      ]
     },
     "execution_count": 10,
     "metadata": {},
     "output_type": "execute_result"
    }
   ],
   "source": [
    "r,p"
   ]
  },
  {
   "cell_type": "code",
   "execution_count": 11,
   "metadata": {},
   "outputs": [
    {
     "data": {
      "text/plain": [
       "71"
      ]
     },
     "execution_count": 11,
     "metadata": {},
     "output_type": "execute_result"
    }
   ],
   "source": [
    "sc_overlapping_hit_variants.index.nunique()"
   ]
  },
  {
   "cell_type": "code",
   "execution_count": null,
   "metadata": {},
   "outputs": [],
   "source": []
  },
  {
   "cell_type": "code",
   "execution_count": null,
   "metadata": {},
   "outputs": [],
   "source": []
  }
 ],
 "metadata": {
  "kernelspec": {
   "display_name": "CRISPEY_GxE",
   "language": "python",
   "name": "crispey_gxe"
  },
  "language_info": {
   "codemirror_mode": {
    "name": "ipython",
    "version": 3
   },
   "file_extension": ".py",
   "mimetype": "text/x-python",
   "name": "python",
   "nbconvert_exporter": "python",
   "pygments_lexer": "ipython3",
   "version": "3.9.7"
  },
  "toc": {
   "base_numbering": 1,
   "nav_menu": {},
   "number_sections": true,
   "sideBar": true,
   "skip_h1_title": false,
   "title_cell": "Table of Contents",
   "title_sidebar": "Contents",
   "toc_cell": false,
   "toc_position": {},
   "toc_section_display": true,
   "toc_window_display": false
  }
 },
 "nbformat": 4,
 "nbformat_minor": 2
}
