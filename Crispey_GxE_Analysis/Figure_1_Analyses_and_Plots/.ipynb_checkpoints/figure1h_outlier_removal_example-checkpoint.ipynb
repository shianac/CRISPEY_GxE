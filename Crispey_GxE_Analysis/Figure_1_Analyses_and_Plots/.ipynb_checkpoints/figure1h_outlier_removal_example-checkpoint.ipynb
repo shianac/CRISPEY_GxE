{
 "cells": [
  {
   "cell_type": "code",
   "execution_count": null,
   "metadata": {},
   "outputs": [],
   "source": [
    "import pandas as pd\n",
    "import matplotlib.pyplot as plt\n",
    "from matplotlib.lines import Line2D\n",
    "\n",
    "plt.rcParams['font.family'] = 'Arial'\n",
    "plt.rcParams['font.size'] = 7\n",
    "plt.rcParams['lines.linewidth'] = 2\n",
    "\n",
    "%matplotlib inline"
   ]
  },
  {
   "cell_type": "code",
   "execution_count": null,
   "metadata": {},
   "outputs": [],
   "source": [
    "library_df =pd.read_excel('../data_tables/crispey3_libraries_by_pool_number.xlsx')"
   ]
  },
  {
   "cell_type": "code",
   "execution_count": null,
   "metadata": {},
   "outputs": [],
   "source": [
    "counts = pd.read_csv('../data_tables/mapped_counts_pbc_umi_CAFF_COCL_NACL_LOV.tsv', '\\t')\n",
    "counts['barcode_id'] = counts.oligo_name.str.split('_').str[1:3].str.join('_')\n",
    "counts['well'] = counts.barcode_id.str.split('_').str[0].astype(float)\n",
    "counts = counts[counts['well'].isin(library_df['ergosterol'].dropna().tolist())]\n",
    "for col in counts.filter(regex = 'counts').columns:\n",
    "    counts[col] = (counts[col]/counts[col].sum())*1000000"
   ]
  },
  {
   "cell_type": "code",
   "execution_count": null,
   "metadata": {},
   "outputs": [],
   "source": [
    "fig, ax = plt.subplots(figsize = (2.1,2.0))\n",
    "\n",
    "var = ['018_053']\n",
    "condition = 'NACL'\n",
    "\n",
    "hit = counts[counts['barcode_id'].isin(var)].filter(regex = condition+'|barcode_id')\n",
    "gens = [0,4.2900394343,8.4380959921,12.59468422,16.5642368546,21.0984075671]\n",
    "cmap = plt.get_cmap(\"tab10\")\n",
    "for i,barcode in enumerate(var):\n",
    "    bc = hit[hit['barcode_id']==barcode].filter(regex = condition).T\n",
    "    bc['tp'] = bc.index.str.split('_').str[0:3].str.join('_')\n",
    "    bc = bc.groupby('tp').agg('sum')\n",
    "    \n",
    "    for col in bc.columns:\n",
    "        color = 'lightgrey'\n",
    "        plt.plot(gens, (bc.loc[:, col])/(bc.loc[:, col].values[0]), c= 'lightgrey', alpha = 1)\n",
    "hit[hit['barcode_id']==var[0]].filter(regex = condition).T\n",
    "plt.plot(gens, (bc.loc[:, 12657])/(bc.loc[:, 12657].values[0]), c= 'chartreuse', alpha = 1)\n",
    "\n",
    "fixed_stacked = hit.drop(12657).filter(regex='counts').T\n",
    "\n",
    "fixed_stacked['tp'] = fixed_stacked.index.str.split('_').str[0:3].str.join('_')\n",
    "\n",
    "fixed_stacked = fixed_stacked.groupby('tp').agg('sum')\n",
    "sumstack = fixed_stacked.sum(axis = 1)\n",
    "f = sumstack/(sumstack['P1_NACL_T1'])\n",
    "\n",
    "plt.plot(gens, f, c = 'black', linestyle = 'dotted')\n",
    "stacked = hit.filter(regex = 'counts').T\n",
    "stacked['tp'] = stacked.index.str.split('_').str[0:3].str.join('_')\n",
    "\n",
    "stacked = stacked.groupby('tp').agg('sum')\n",
    "sumfullstack = stacked.sum(axis = 1)\n",
    "f2 = sumfullstack/(sumfullstack['P1_NACL_T1'])\n",
    "\n",
    "plt.plot(gens, f2, c = 'chartreuse', linestyle = 'dotted')    \n",
    "custom_lines = [Line2D([0], [0], color='chartreuse', lw=2),\n",
    "                Line2D([0], [0], color='chartreuse', lw=2, linestyle = 'dotted'),\n",
    "                Line2D([0], [0], color='grey', lw=2),\n",
    "               Line2D([0], [0], color='black', lw=2, linestyle = 'dotted')]\n",
    "plt.yscale('log')\n",
    "plt.xticks([0,5,10,15,20,25]);\n",
    "plt.xlim(0,22)\n",
    "plt.xticks(fontsize =7)\n",
    "plt.yticks(fontsize =7)\n",
    "plt.xlabel('Timepoint', fontsize = 7)\n",
    "plt.ylabel('Change in CPM from T1', fontsize = 7)\n",
    "plt.legend(handles = custom_lines, labels = ['Outlier UMI', 'Sum w/ Outlier', 'Remaining UMIs', 'Sum w/o Outlier'], fontsize =6 )\n",
    "plt.savefig('../GxE_Figures/Figure_1/figure1h.svg')"
   ]
  },
  {
   "cell_type": "code",
   "execution_count": null,
   "metadata": {},
   "outputs": [],
   "source": []
  },
  {
   "cell_type": "code",
   "execution_count": null,
   "metadata": {},
   "outputs": [],
   "source": []
  },
  {
   "cell_type": "code",
   "execution_count": null,
   "metadata": {},
   "outputs": [],
   "source": []
  },
  {
   "cell_type": "code",
   "execution_count": null,
   "metadata": {},
   "outputs": [],
   "source": []
  }
 ],
 "metadata": {
  "kernelspec": {
   "display_name": "CRISPEY_GxE",
   "language": "python",
   "name": "crispey_gxe"
  },
  "language_info": {
   "codemirror_mode": {
    "name": "ipython",
    "version": 3
   },
   "file_extension": ".py",
   "mimetype": "text/x-python",
   "name": "python",
   "nbconvert_exporter": "python",
   "pygments_lexer": "ipython3",
   "version": "3.9.7"
  },
  "toc": {
   "base_numbering": 1,
   "nav_menu": {},
   "number_sections": true,
   "sideBar": true,
   "skip_h1_title": false,
   "title_cell": "Table of Contents",
   "title_sidebar": "Contents",
   "toc_cell": false,
   "toc_position": {},
   "toc_section_display": true,
   "toc_window_display": false
  }
 },
 "nbformat": 4,
 "nbformat_minor": 2
}
