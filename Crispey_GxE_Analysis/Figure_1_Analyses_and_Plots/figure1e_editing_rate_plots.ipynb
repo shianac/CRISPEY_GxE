{
 "cells": [
  {
   "cell_type": "code",
   "execution_count": null,
   "metadata": {},
   "outputs": [],
   "source": [
    "import matplotlib.pyplot as plt\n",
    "plt.rcParams['font.family'] = \"sans-serif\"\n",
    "plt.rcParams['font.sans-serif'] = 'Arial'\n",
    "plt.rcParams['mathtext.fontset'] = 'custom'\n",
    "plt.rcParams['mathtext.cal'] = 'Arial' \n",
    "plt.rcParams['font.size'] = 7\n",
    "\n",
    "fig1, ax1 = plt.subplots(figsize = (.75,.75))\n",
    "ax1.pie([22,2], autopct='%1.1f%%',\n",
    "         startangle=90, colors=[u'#1f77b4',u'#ff7f0e'], textprops = {'color':'white', 'weight':'bold'})\n",
    "ax1.axis('equal')  # Equal aspect ratio ensures that pie is drawn as a circle.\n",
    "\n",
    "plt.savefig('../GxE_Figures/Figure_1/Fig1e_piechart.svg')\n",
    "\n"
   ]
  },
  {
   "cell_type": "code",
   "execution_count": null,
   "metadata": {},
   "outputs": [],
   "source": [
    "plt.subplots(figsize = (1,1.75))\n",
    "#edited = plt.bar(['Overall','CoCl$_2$','Caffeine','Fluconazole'],[24,7,7,10], color = 'black')\n",
    "#nonedited = plt.bar(['Overall','CoCl$_2$','Caffeine','Fluconazole'], [2,0,0,2], bottom =[24,7,7,10], color = 'grey')\n",
    "edited = plt.bar(['CoCl$_2$','Caffeine','Fluconazole'],[7,7,10], color = u'#1f77b4')\n",
    "nonedited = plt.bar(['CoCl$_2$','Caffeine','Fluconazole'], [0,0,2], bottom =[7,7,10], color = u'#ff7f0e')\n",
    "\n",
    "\n",
    "plt.xlabel('Edited yeast pool')\n",
    "plt.xticks(rotation = 45)\n",
    "plt.ylabel('# of Clones')\n",
    "#plt.annotate(text = '24',xy =('Overall',22),ha='center', va='center', color = 'white')\n",
    "plt.annotate(text = '7',xy =('CoCl$_2$',5),ha='center', va='center', color = 'white', weight = 'bold')\n",
    "plt.annotate(text = '7',xy =('Caffeine',5),ha='center', va='center', color = 'white', weight = 'bold')\n",
    "plt.annotate(text = '10',xy =('Fluconazole',8),ha='center', va='center', color = 'white', weight = 'bold')\n",
    "#plt.annotate(text = '2',xy =('Overall',25),ha='center', va='center', color = 'white')\n",
    "plt.annotate(text = '2',xy =('Fluconazole',11),ha='center', va='center', color = 'black', weight = 'bold')\n",
    "plt.legend(['Edited','Unedited'], bbox_to_anchor = (1,1))\n",
    "plt.yticks(range(0,13,2))\n",
    "plt.savefig('../GxE_Figures/Figure_1/figure1e_editingrate.svg')"
   ]
  },
  {
   "cell_type": "code",
   "execution_count": null,
   "metadata": {},
   "outputs": [],
   "source": []
  }
 ],
 "metadata": {
  "kernelspec": {
   "display_name": "CRISPEY_GxE",
   "language": "python",
   "name": "crispey_gxe"
  },
  "language_info": {
   "codemirror_mode": {
    "name": "ipython",
    "version": 3
   },
   "file_extension": ".py",
   "mimetype": "text/x-python",
   "name": "python",
   "nbconvert_exporter": "python",
   "pygments_lexer": "ipython3",
   "version": "3.9.7"
  },
  "toc": {
   "base_numbering": 1,
   "nav_menu": {},
   "number_sections": true,
   "sideBar": true,
   "skip_h1_title": false,
   "title_cell": "Table of Contents",
   "title_sidebar": "Contents",
   "toc_cell": false,
   "toc_position": {},
   "toc_section_display": true,
   "toc_window_display": false
  }
 },
 "nbformat": 4,
 "nbformat_minor": 2
}
