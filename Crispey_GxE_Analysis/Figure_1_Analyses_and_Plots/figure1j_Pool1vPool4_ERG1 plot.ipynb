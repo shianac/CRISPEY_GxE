{
 "cells": [
  {
   "cell_type": "code",
   "execution_count": 1,
   "metadata": {},
   "outputs": [],
   "source": [
    "import matplotlib.pyplot as plt\n",
    "import pandas as pd\n",
    "from scipy.stats import pearsonr, spearmanr\n",
    "%matplotlib inline\n",
    "\n",
    "SIZE = 7\n",
    "plt.rcParams['font.size'] = SIZE\n",
    "plt.rcParams['font.family'] = 'Arial'\n",
    "\n",
    "plt.rc('font', size=SIZE)          # controls default text sizes\n",
    "plt.rc('axes', titlesize=SIZE)     # fontsize of the axes title\n",
    "plt.rc('axes', labelsize=SIZE)    # fontsize of the x and y labels\n",
    "plt.rc('xtick', labelsize=SIZE)    # fontsize of the tick labels\n",
    "plt.rc('ytick', labelsize=SIZE)    # fontsize of the tick labels\n",
    "plt.rc('legend', fontsize=SIZE)    # legend fontsize\n",
    "plt.rc('figure', titlesize=SIZE) \n",
    "\n"
   ]
  },
  {
   "cell_type": "code",
   "execution_count": 2,
   "metadata": {},
   "outputs": [],
   "source": [
    "qtl_annos = pd.read_csv('../data_tables/QTL_pool_annotations.tsv',sep = '\\t')\n"
   ]
  },
  {
   "cell_type": "code",
   "execution_count": 3,
   "metadata": {},
   "outputs": [],
   "source": [
    "annotations = pd.read_csv('../data_tables/ergosterol_annotations.tsv',sep = '\\t', index_col='var_id')\n",
    "fitness = pd.read_csv('../data_tables/Fitness_files/ergosterol_pathway_fitness.tsv', sep = '\\t')\n",
    "annotated_fit = fitness.merge(annotations, 'inner', 'var_id')\n",
    "pool4 = pd.read_csv('../data_tables/Fitness_files/pool4_fitness_fc.tsv', sep = '\\t')\n",
    "anno_pool4 = qtl_annos.merge(pool4, 'inner', 'var_id')\n",
    "\n",
    "cocl = annotated_fit[annotated_fit['condition']=='COCL']\n",
    "cocl_p4 = anno_pool4[(anno_pool4['condition']=='COCL')]\n",
    "p4_erg1 = cocl_p4[cocl_p4['Gene']=='ERG1']\n"
   ]
  },
  {
   "cell_type": "code",
   "execution_count": 4,
   "metadata": {},
   "outputs": [
    {
     "data": {
      "image/png": "[encoded data removed]",
      "text/plain": [
       "<Figure size 144x144 with 1 Axes>"
      ]
     },
     "metadata": {
      "needs_background": "light"
     },
     "output_type": "display_data"
    }
   ],
   "source": [
    "fig,ax = plt.subplots(figsize = (2,2))\n",
    "\n",
    "cocl.merge(p4_erg1, 'inner', ['chrom','SNP_chr_pos'], suffixes = ('_P1','_P4')).plot.scatter('coef_P4','coef_P1', ax = ax,s=2)\n",
    "ax.set_box_aspect(1)\n",
    "cocl[cocl['padj']<.25].merge(p4_erg1, 'inner', ['chrom','SNP_chr_pos'], suffixes = ('_P1','_P4')).plot.scatter('coef_P4','coef_P1', c = u'#ff7f0e', ax = ax,s=2)\n",
    "plt.xlabel('Pool #4 Fitness')\n",
    "plt.ylabel('Pool #1 Fitness')\n",
    "plt.yticks([-.025,0,.025,.05,.075,.1])\n",
    "plt.xticks([-.025,0,.025,.05,.075,.1])\n",
    "plt.xlim([-.025,.102])\n",
    "plt.ylim([-.025,.102])\n",
    "plt.legend(title = 'Pool #1 FDR', labels = [u'\\u22650.25', '<0.25'], loc = 'upper left')\n",
    "plt.axhline(0,color = 'grey', linewidth = 0.5, linestyle = 'dashed')\n",
    "plt.axvline(0, color = 'grey', linewidth = 0.5, linestyle = 'dashed')\n",
    "plt.savefig('../GxE_Figures/Figure_1/figure1j_pool4vpool1.svg')"
   ]
  },
  {
   "cell_type": "code",
   "execution_count": 5,
   "metadata": {},
   "outputs": [],
   "source": [
    "erg1_overlap = cocl[cocl['padj']<=.25].merge(p4_erg1, 'inner', ['chrom','SNP_chr_pos'], suffixes = ('_P1','_P4'))"
   ]
  },
  {
   "cell_type": "code",
   "execution_count": 6,
   "metadata": {},
   "outputs": [
    {
     "data": {
      "text/plain": [
       "(0.9792551692479481, 1.5155106478215345e-07)"
      ]
     },
     "execution_count": 6,
     "metadata": {},
     "output_type": "execute_result"
    }
   ],
   "source": [
    "pearsonr(erg1_overlap['coef_P1'],erg1_overlap['coef_P4'])"
   ]
  },
  {
   "cell_type": "code",
   "execution_count": 7,
   "metadata": {},
   "outputs": [
    {
     "data": {
      "text/plain": [
       "SpearmanrResult(correlation=0.9406392694063928, pvalue=1.6249257526166228e-05)"
      ]
     },
     "execution_count": 7,
     "metadata": {},
     "output_type": "execute_result"
    }
   ],
   "source": [
    "spearmanr(erg1_overlap['coef_P1'],erg1_overlap['coef_P4'])"
   ]
  },
  {
   "cell_type": "code",
   "execution_count": 8,
   "metadata": {},
   "outputs": [
    {
     "data": {
      "text/plain": [
       "11"
      ]
     },
     "execution_count": 8,
     "metadata": {},
     "output_type": "execute_result"
    }
   ],
   "source": [
    "erg1_overlap.index.nunique()"
   ]
  },
  {
   "cell_type": "code",
   "execution_count": null,
   "metadata": {},
   "outputs": [],
   "source": []
  }
 ],
 "metadata": {
  "kernelspec": {
   "display_name": "CRISPEY_GxE",
   "language": "python",
   "name": "crispey_gxe"
  },
  "language_info": {
   "codemirror_mode": {
    "name": "ipython",
    "version": 3
   },
   "file_extension": ".py",
   "mimetype": "text/x-python",
   "name": "python",
   "nbconvert_exporter": "python",
   "pygments_lexer": "ipython3",
   "version": "3.9.7"
  },
  "toc": {
   "base_numbering": 1,
   "nav_menu": {},
   "number_sections": true,
   "sideBar": true,
   "skip_h1_title": false,
   "title_cell": "Table of Contents",
   "title_sidebar": "Contents",
   "toc_cell": false,
   "toc_position": {},
   "toc_section_display": true,
   "toc_window_display": false
  }
 },
 "nbformat": 4,
 "nbformat_minor": 2
}
