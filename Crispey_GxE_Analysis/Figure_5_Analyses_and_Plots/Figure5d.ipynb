{
 "cells": [
  {
   "cell_type": "code",
   "execution_count": 1,
   "metadata": {},
   "outputs": [],
   "source": [
    "import pandas as pd\n",
    "import numpy as np\n",
    "from scipy.stats import hypergeom\n",
    "import matplotlib.pyplot as plt\n",
    "import seaborn as sns\n",
    "from scipy.stats import mannwhitneyu\n",
    "\n",
    "%matplotlib inline\n",
    "plt.rcParams['font.size'] = 7\n",
    "plt.rcParams['font.family'] = 'Arial'\n",
    "\n",
    "\n",
    "annotations = pd.read_csv('../data_tables/ergosterol_annotations.tsv',sep = '\\t', index_col='var_id')\n",
    "gxe = pd.read_csv('../data_tables/ergosterol_pathway_gxe_interactions.tsv', sep = '\\t')\n",
    "annotated_gxe = gxe.merge(annotations,'inner','var_id')\n",
    "var_fits = pd.read_csv('../data_tables/Fitness_files/ergosterol_pathway_fitness.tsv', sep = '\\t')\n",
    "annotated_fits = var_fits.merge(annotations,'inner','var_id')\n"
   ]
  },
  {
   "cell_type": "code",
   "execution_count": 53,
   "metadata": {},
   "outputs": [],
   "source": [
    "def get_GxE_vars(annotated_gxe_df, annotated_fitness_df):\n",
    "    '''This code generates the list of GxE variants based on our stringent two-part definition:\n",
    "    1) the variant has a GxE term with FDR<0.01, and 2) for that term, the direction\n",
    "    of effect in the two conditions is in opposite directions.\n",
    "    inputs:\n",
    "        annotated_gxe_df (pandas DataFrame): table containing pairwise GxE coefficients and pvalues for variants,\n",
    "        annotated by genomic location.\n",
    "        annotated_fitness_df (pandas DataFrame):  table containing fitness values for variants in \n",
    "        all relevant conditions,annotated by genomic location.\n",
    "    returns:\n",
    "        gxe_vars (list of strings): list of variants which show GxE according to our definition \n",
    "        (not unique, many represented multiple times) \n",
    "    '''\n",
    "    gxe_vars =[] \n",
    "    for i, row in annotated_gxe_df[(annotated_gxe_df['padj']<0.01)].iterrows():\n",
    "        var = row['var_id']\n",
    "        conds = row['gxe'].split('-')\n",
    "        if annotated_fitness_df[(annotated_fitness_df['var_id']==var)&\\\n",
    "                                (annotated_fitness_df['condition'].isin(conds))]['coef'].prod()<0:\n",
    "            gxe_vars.append(var)\n",
    "    return gxe_vars\n",
    "def sign_change_checker(arr):\n",
    "    a = np.array(arr)\n",
    "    if len(a[a>0])*len(a[a<0]):\n",
    "        return True\n",
    "    return False"
   ]
  },
  {
   "cell_type": "code",
   "execution_count": 2,
   "metadata": {},
   "outputs": [],
   "source": [
    "annotated_fits['num_conds'] = annotated_fits.groupby('var_id')['coef'].transform('size')\n",
    "annotated_fits['abscoef'] = abs(annotated_fits['coef'])"
   ]
  },
  {
   "cell_type": "code",
   "execution_count": 5,
   "metadata": {},
   "outputs": [
    {
     "name": "stderr",
     "output_type": "stream",
     "text": [
      "/tmp/ipykernel_98750/2239054205.py:2: SettingWithCopyWarning: \n",
      "A value is trying to be set on a copy of a slice from a DataFrame.\n",
      "Try using .loc[row_indexer,col_indexer] = value instead\n",
      "\n",
      "See the caveats in the documentation: https://pandas.pydata.org/pandas-docs/stable/user_guide/indexing.html#returning-a-view-versus-a-copy\n",
      "  hit_in_one_cond['signchange'] = hit_in_one_cond.groupby('var_id')['coef'].transform(sign_change_checker)\n",
      "/tmp/ipykernel_98750/2239054205.py:3: SettingWithCopyWarning: \n",
      "A value is trying to be set on a copy of a slice from a DataFrame.\n",
      "Try using .loc[row_indexer,col_indexer] = value instead\n",
      "\n",
      "See the caveats in the documentation: https://pandas.pydata.org/pandas-docs/stable/user_guide/indexing.html#returning-a-view-versus-a-copy\n",
      "  hit_in_one_cond['num_conds'] = hit_in_one_cond.groupby('var_id')['coef'].transform('size')\n"
     ]
    }
   ],
   "source": [
    "hit_in_one_cond = annotated_fits[(annotated_fits['padj']<.01)&(annotated_fits['num_conds']==6)]\n",
    "hit_in_one_cond['signchange'] = hit_in_one_cond.groupby('var_id')['coef'].transform(sign_change_checker)\n",
    "hit_in_one_cond['num_conds'] = hit_in_one_cond.groupby('var_id')['coef'].transform('size')"
   ]
  },
  {
   "cell_type": "code",
   "execution_count": 9,
   "metadata": {},
   "outputs": [
    {
     "name": "stderr",
     "output_type": "stream",
     "text": [
      "/tmp/ipykernel_98750/3975989087.py:1: SettingWithCopyWarning: \n",
      "A value is trying to be set on a copy of a slice from a DataFrame.\n",
      "Try using .loc[row_indexer,col_indexer] = value instead\n",
      "\n",
      "See the caveats in the documentation: https://pandas.pydata.org/pandas-docs/stable/user_guide/indexing.html#returning-a-view-versus-a-copy\n",
      "  hit_in_one_cond.loc[(hit_in_one_cond['num_conds']>1)&(~hit_in_one_cond['signchange']),'color'] = 'Unidirectional'\n"
     ]
    }
   ],
   "source": [
    "hit_in_one_cond.loc[(hit_in_one_cond['num_conds']>1)&(~hit_in_one_cond['signchange']),'color'] = 'Unidirectional'\n",
    "hit_in_one_cond.loc[(hit_in_one_cond['num_conds']>1)&(hit_in_one_cond['signchange']),'color'] = 'Sign GxE'\n",
    "hit_in_one_cond.loc[(hit_in_one_cond['num_conds']==1),'color'] = 'Single Condition'"
   ]
  },
  {
   "cell_type": "code",
   "execution_count": 10,
   "metadata": {},
   "outputs": [],
   "source": [
    "max_effect_df = hit_in_one_cond[['var_id','abscoef','color']].groupby('var_id').agg('max')"
   ]
  },
  {
   "cell_type": "code",
   "execution_count": 16,
   "metadata": {},
   "outputs": [
    {
     "data": {
      "text/plain": [
       "Single Condition    142\n",
       "Sign GxE             43\n",
       "Unidirectional       20\n",
       "Name: color, dtype: int64"
      ]
     },
     "execution_count": 16,
     "metadata": {},
     "output_type": "execute_result"
    }
   ],
   "source": [
    "max_effect_df['color'].value_counts()"
   ]
  },
  {
   "cell_type": "code",
   "execution_count": 17,
   "metadata": {},
   "outputs": [
    {
     "name": "stdout",
     "output_type": "stream",
     "text": [
      "MannwhitneyuResult(statistic=1600.0, pvalue=2.342130568288112e-06)\n"
     ]
    }
   ],
   "source": [
    "print(mannwhitneyu(max_effect_df[max_effect_df['color']=='Single Condition']['abscoef'],max_effect_df[max_effect_df['color']=='Sign GxE']['abscoef']))"
   ]
  },
  {
   "cell_type": "code",
   "execution_count": 14,
   "metadata": {},
   "outputs": [
    {
     "name": "stdout",
     "output_type": "stream",
     "text": [
      "MannwhitneyuResult(statistic=288.0, pvalue=0.036677677085502215)\n",
      "KstestResult(statistic=0.3453488372093023, pvalue=0.05617633965699975)\n"
     ]
    }
   ],
   "source": [
    "print(mannwhitneyu(max_effect_df[max_effect_df['color']=='Unidirectional']['abscoef'],max_effect_df[max_effect_df['color']=='Sign GxE']['abscoef']))"
   ]
  },
  {
   "cell_type": "code",
   "execution_count": 15,
   "metadata": {},
   "outputs": [
    {
     "name": "stdout",
     "output_type": "stream",
     "text": [
      "MannwhitneyuResult(statistic=1758.0, pvalue=0.08573293820573062)\n",
      "KstestResult(statistic=0.27887323943661974, pvalue=0.10604162106950621)\n"
     ]
    }
   ],
   "source": [
    "print(mannwhitneyu(max_effect_df[max_effect_df['color']=='Unidirectional']['abscoef'],max_effect_df[max_effect_df['color']=='Single Condition']['abscoef']))"
   ]
  },
  {
   "cell_type": "code",
   "execution_count": 25,
   "metadata": {},
   "outputs": [
    {
     "data": {
      "image/png": "[encoded data removed]",
      "text/plain": [
       "<Figure size 144x108 with 1 Axes>"
      ]
     },
     "metadata": {
      "needs_background": "light"
     },
     "output_type": "display_data"
    }
   ],
   "source": [
    "fig,ax = plt.subplots(figsize = (2,1.5))\n",
    " \n",
    "flierprops = dict(marker='.', markerfacecolor='black', markersize=2,\n",
    "                  linestyle='none', markeredgecolor='black')\n",
    "sns.boxplot(x = 'color',y = 'abscoef', data = max_effect_df, order=['Single Condition', 'Unidirectional', 'Sign GxE'], palette = ['orange','magenta', 'darkgreen'], flierprops = flierprops, linewidth=1);\n",
    "plt.ylabel('Max Fitness Effect')\n",
    "plt.xticks(rotation = 45)\n",
    "plt.xlabel(None)\n",
    "plt.savefig('../GxE_Figures/Figure_5/figure5d_effectsizeboxplot.svg')"
   ]
  },
  {
   "cell_type": "code",
   "execution_count": 26,
   "metadata": {},
   "outputs": [
    {
     "data": {
      "text/plain": [
       "0.15018315018315018"
      ]
     },
     "execution_count": 26,
     "metadata": {},
     "output_type": "execute_result"
    }
   ],
   "source": [
    "#fraction of variants measured in all 6 conditions with at least one significant effect on fitness\n",
    "hit_in_one_cond['var_id'].nunique()/annotated_fits[annotated_fits['num_conds']==6]['var_id'].nunique()"
   ]
  },
  {
   "cell_type": "code",
   "execution_count": 27,
   "metadata": {},
   "outputs": [
    {
     "data": {
      "text/plain": [
       "0.3073170731707317"
      ]
     },
     "execution_count": 27,
     "metadata": {},
     "output_type": "execute_result"
    }
   ],
   "source": [
    "#fraction of variants with one significant effect which have significant effects in other conditions\n",
    "hit_in_one_cond.loc[(hit_in_one_cond['num_conds']>1)]['var_id'].nunique()/hit_in_one_cond['var_id'].nunique()"
   ]
  },
  {
   "cell_type": "code",
   "execution_count": 38,
   "metadata": {},
   "outputs": [
    {
     "data": {
      "text/plain": [
       "5.274016978467109e-10"
      ]
     },
     "execution_count": 38,
     "metadata": {},
     "output_type": "execute_result"
    }
   ],
   "source": [
    "#enrichment of fitness effects among variants with one significant effect\n",
    "#multiplying by 2 for two-sided test\n",
    "hypergeom.sf(hit_in_one_cond.loc[(hit_in_one_cond['num_conds']>1)]['var_id'].nunique()-1,\\\n",
    "             annotated_fits[annotated_fits['num_conds']==6]['var_id'].nunique(),\\\n",
    "            hit_in_one_cond['var_id'].nunique(),hit_in_one_cond['var_id'].nunique())*2"
   ]
  },
  {
   "cell_type": "code",
   "execution_count": 45,
   "metadata": {},
   "outputs": [
    {
     "data": {
      "text/plain": [
       "missense_variant         27\n",
       "upstream_gene_variant    11\n",
       "synonymous_variant        4\n",
       "stop_gained               1\n",
       "Name: Consequence, dtype: int64"
      ]
     },
     "execution_count": 45,
     "metadata": {},
     "output_type": "execute_result"
    }
   ],
   "source": [
    "annotations[annotations.index.isin(max_effect_df[max_effect_df['color'] == 'Sign GxE'].index)]['Consequence'].value_counts()"
   ]
  },
  {
   "cell_type": "code",
   "execution_count": 59,
   "metadata": {},
   "outputs": [
    {
     "data": {
      "text/plain": [
       "missense_variant           95\n",
       "synonymous_variant         77\n",
       "upstream_gene_variant      69\n",
       "downstream_gene_variant    12\n",
       "stop_gained                 2\n",
       "inframe_deletion            1\n",
       "Name: Consequence, dtype: int64"
      ]
     },
     "execution_count": 59,
     "metadata": {},
     "output_type": "execute_result"
    }
   ],
   "source": [
    "gxe_vars = get_GxE_vars(annotated_gxe,annotated_fits)\n",
    "annotations[annotations.index.isin(set(gxe_vars))]['Consequence'].value_counts()"
   ]
  },
  {
   "cell_type": "code",
   "execution_count": 60,
   "metadata": {},
   "outputs": [
    {
     "data": {
      "text/plain": [
       "8.898833321059686e-05"
      ]
     },
     "execution_count": 60,
     "metadata": {},
     "output_type": "execute_result"
    }
   ],
   "source": [
    "#counting stop_gained and inframe_deletion as missense variants, calculating annotation enrichments relative to \n",
    "#gxe variants for missense variants among Sign GxE variants\n",
    "hypergeom.sf(28-1,256,98,43)\n"
   ]
  },
  {
   "cell_type": "code",
   "execution_count": 61,
   "metadata": {},
   "outputs": [
    {
     "data": {
      "text/plain": [
       "0.0020527319571756503"
      ]
     },
     "execution_count": 61,
     "metadata": {},
     "output_type": "execute_result"
    }
   ],
   "source": [
    "#calculating annotation depletion relative to \n",
    "#gxe variants for synonymous variants among Sign GxE variants\n",
    "hypergeom.cdf(4+1,256,77,43)"
   ]
  },
  {
   "cell_type": "code",
   "execution_count": null,
   "metadata": {},
   "outputs": [],
   "source": []
  }
 ],
 "metadata": {
  "kernelspec": {
   "display_name": "CRISPEY_GxE",
   "language": "python",
   "name": "crispey_gxe"
  },
  "language_info": {
   "codemirror_mode": {
    "name": "ipython",
    "version": 3
   },
   "file_extension": ".py",
   "mimetype": "text/x-python",
   "name": "python",
   "nbconvert_exporter": "python",
   "pygments_lexer": "ipython3",
   "version": "3.9.7"
  },
  "toc": {
   "base_numbering": 1,
   "nav_menu": {},
   "number_sections": true,
   "sideBar": true,
   "skip_h1_title": false,
   "title_cell": "Table of Contents",
   "title_sidebar": "Contents",
   "toc_cell": false,
   "toc_position": {},
   "toc_section_display": true,
   "toc_window_display": false
  }
 },
 "nbformat": 4,
 "nbformat_minor": 2
}
