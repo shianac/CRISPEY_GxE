{
 "cells": [
  {
   "cell_type": "code",
   "execution_count": null,
   "metadata": {},
   "outputs": [],
   "source": [
    "import pandas as pd\n",
    "import numpy as np\n",
    "import matplotlib.pyplot as plt\n",
    "import roman\n",
    "from statsmodels.robust.scale import mad\n",
    "import seaborn as sns\n",
    "\n",
    "OLIGO_TABLE_PATH = '../data_tables/oligos_nonuniq_crispey3_GG_9bp_OLIGO_with_seq_primers.txt'\n",
    "#gxe_df =pd.read_csv('gxe_interaction_5cond_bc_filter_added_6repscm.tsv',sep = '\\t')\n",
    "#var_fitness_df =pd.read_csv('gxe_fitness_5cond_bcfilter_added_6repscm.tsv',sep = '\\t')\n",
    "oli_info = pd.read_csv(OLIGO_TABLE_PATH,'\\t')\n",
    "\n",
    "\n",
    "annotations = pd.read_csv('../data_tables/ergosterol_annotations.tsv',sep = '\\t')\n",
    "oli_info['ALT'] = oli_info['ALT'].str.split('[').str[1].str.split(']').str[0]\n",
    "annos = annotations.merge(oli_info,'inner',['var_id','chrom','SNP_chr_pos','ALT'])\n",
    "annos  = annos[['var_id','chrom','SNP_chr_pos','Gene','Consequence','CDS_position','ALT','REF', 'chromosome']].drop_duplicates()"
   ]
  },
  {
   "cell_type": "code",
   "execution_count": null,
   "metadata": {},
   "outputs": [],
   "source": [
    "def robust_outlier_removal(umi_df, fc_cutoff=3.5, basemean_cutoff=5):\n",
    "    '''\n",
    "    accepts a dataframe of deseq results and removes outliers based on log2FoldChange or baseMean values\n",
    "    filters log2FoldChange by robust MADs - shrinks variance in logFC values\n",
    "    filters baseMean by simple X-fold cutoff above median - reduces dependence on high leverage barcodes\n",
    "    adjust cutoffs as necessary\n",
    "    '''\n",
    "    if len(umi_df)==1:\n",
    "        return pd.DataFrame(index=umi_df.index)\n",
    "    \n",
    "    indices = umi_df.index.values\n",
    "    fcs = umi_df['log2FoldChange'].values\n",
    "    fc_outlier_stats = [abs(i-np.median(fcs))/mad(fcs) for i in fcs]\n",
    "    outliers = []\n",
    "    for i in range(len(indices)):\n",
    "        if fc_outlier_stats[i]>fc_cutoff:\n",
    "            outliers.append(indices[i])\n",
    "    \n",
    "    return umi_df.drop(outliers)"
   ]
  },
  {
   "cell_type": "code",
   "execution_count": null,
   "metadata": {},
   "outputs": [],
   "source": [
    "lova = pd.read_csv('../data_tables/Deseq_outputs/deseq2_res_bar_P1_LOV_competitiontime_SCM_umi_level.tsv', sep = '\\t')\n",
    "nacl = pd.read_csv('../data_tables/Deseq_outputs/deseq2_res_bar_P1_NACL_competitiontime_SCM_umi_level.tsv', sep = '\\t')\n",
    "caff = pd.read_csv('../data_tables/Deseq_outputs/deseq2_res_bar_P1_CAFF_competitiontime_SCM_umi_level.tsv', sep = '\\t')\n",
    "sc = pd.read_csv('../data_tables/Deseq_outputs/deseq2_res_bar_P1_SCM_competitiontime_SCM_umi_level.tsv', sep = '\\t')\n",
    "cocl = pd.read_csv('../data_tables/Deseq_outputs/deseq2_res_bar_P1_COCL_competitiontime_SCM_umi_level.tsv', sep = '\\t')\n",
    "tbf = pd.read_csv('../data_tables/Deseq_outputs/deseq2_res_bar_P1_TBF_competitiontime_SCM_umi_level.tsv', sep = '\\t')\n",
    "\n",
    "\n",
    "lova['barcode_id'] =lova.index.str.split('_').str[1:3].str.join('_')\n",
    "nacl['barcode_id'] =nacl.index.str.split('_').str[1:3].str.join('_')\n",
    "caff['barcode_id'] =caff.index.str.split('_').str[1:3].str.join('_')\n",
    "sc['barcode_id'] =sc.index.str.split('_').str[1:3].str.join('_')\n",
    "cocl['barcode_id'] =cocl.index.str.split('_').str[1:3].str.join('_')\n",
    "tbf['barcode_id'] = tbf.index.str.split('_').str[1:3].str.join('_')\n",
    "\n",
    "def remove_outliers(df,title=None):\n",
    "    fig, ax = plt.subplots()\n",
    "    df.plot.scatter('baseMean', 'log2FoldChange', c = 'r', ax = ax)\n",
    "    df2 = df.groupby('barcode_id').apply(robust_outlier_removal).droplevel('barcode_id')\n",
    "    df2.plot.scatter('baseMean', 'log2FoldChange', c = 'black', ax = ax)\n",
    "    ax.set_xscale('log')\n",
    "    ax.set_title(title)\n",
    "    return df2\n",
    "\n",
    "lova_filt = remove_outliers(lova, 'LOV')\n",
    "cocl_filt = remove_outliers(cocl, 'COCL')\n",
    "caff_filt = remove_outliers(caff,'CAFF')\n",
    "nacl_filt = remove_outliers(nacl, 'NACL')\n",
    "sc_filt = remove_outliers(sc, 'SC')\n",
    "tbf_filt = remove_outliers(tbf, 'TBF')\n",
    "\n",
    "lova_inf = lova_filt.merge(oli_info, 'inner','barcode_id')\n",
    "cocl_inf = cocl_filt.merge(oli_info, 'inner','barcode_id')\n",
    "nacl_inf = nacl_filt.merge(oli_info, 'inner','barcode_id')\n",
    "caff_inf = caff_filt.merge(oli_info, 'inner','barcode_id')\n",
    "sc_inf = sc_filt.merge(oli_info, 'inner','barcode_id')\n",
    "tbf_inf = tbf_filt.merge(oli_info, 'inner','barcode_id')"
   ]
  },
  {
   "cell_type": "code",
   "execution_count": null,
   "metadata": {},
   "outputs": [],
   "source": [
    "\n",
    "def bc_filter(df, cutoff):\n",
    "    df_stds = df.groupby('barcode_id')['log2FoldChange'].std()\n",
    "    good_bcs = df_stds[df_stds<cutoff].index\n",
    "    return df[df['barcode_id'].isin(good_bcs)]\n",
    "\n",
    "\n",
    "lova_inf =bc_filter(lova_inf,0.05)\n",
    "cocl_inf = bc_filter(cocl_inf,0.05)\n",
    "nacl_inf = bc_filter(nacl_inf,0.05)\n",
    "caff_inf = bc_filter(caff_inf, 0.05)\n",
    "sc_inf = bc_filter(sc_inf, 0.05)\n",
    "tbf_inf = bc_filter(tbf_inf,0.05)\n"
   ]
  },
  {
   "cell_type": "code",
   "execution_count": null,
   "metadata": {},
   "outputs": [],
   "source": [
    "plt.rcParams['font.family'] = 'Arial'\n",
    "plt.rcParams['font.size'] = 7\n",
    "plt.rcParams[\"axes.titlesize\"] = 7\n",
    "plt.rcParams[\"axes.labelsize\"] = 7\n",
    "\n",
    "def var_plotter(var):\n",
    "    cocl_oli = cocl_inf.merge(oli_info)\n",
    "    lova_oli =  lova_inf.merge(oli_info)\n",
    "    nacl_oli = nacl_inf.merge(oli_info)\n",
    "    caff_oli = caff_inf.merge(oli_info)\n",
    "    scm_oli = sc_inf.merge(oli_info)\n",
    "    tbf_oli = tbf_inf.merge(oli_info)\n",
    "    ref = oli_info[oli_info['var_id']==var]['REF'].values[0]\n",
    "    alt = oli_info[oli_info['var_id']==var]['ALT'].values[0]\n",
    "    chrom = oli_info[oli_info['var_id']==var]['chrom'].values[0]\n",
    "    pos = oli_info[oli_info['var_id']==var]['SNP_chr_pos'].values[0].astype(str)\n",
    "    tbfv = tbf_oli[tbf_oli['var_id']==var][['log2FoldChange', 'barcode_id']]\n",
    "    tbfv['Condition'] = 'Terbinafine'\n",
    "    caffv = caff_oli[caff_oli['var_id']==var][['log2FoldChange', 'barcode_id']]\n",
    "    caffv['Condition'] = 'Caffeine'\n",
    "    naclv = nacl_oli[nacl_oli['var_id']==var][['log2FoldChange', 'barcode_id']]\n",
    "    naclv['Condition'] = 'NaCl'\n",
    "    coclv = cocl_oli[cocl_oli['var_id']==var][['log2FoldChange', 'barcode_id']]\n",
    "    coclv['Condition'] = 'CoCl2'\n",
    "    lovav = lova_oli[lova_oli['var_id']==var][['log2FoldChange', 'barcode_id']]\n",
    "    lovav['Condition'] = 'Lovastatin'\n",
    "    scmv = scm_oli[scm_oli['var_id']==var][['log2FoldChange', 'barcode_id']]\n",
    "    scmv['Condition'] = 'SCM'\n",
    "    sns.swarmplot(x = 'Condition', y = 'log2FoldChange',data = pd.concat([scmv, caffv,lovav,tbfv, naclv, coclv]), color = 'black', s = 2)\n",
    "    plt.ylabel('Relative Fitness')\n",
    "    plt.axhline(0,linestyle = 'dashed', color = 'black', linewidth = .5)\n",
    "    plt.title('chr'+str(roman.fromRoman(chrom))+':'+str(pos)+ref+'>'+alt)"
   ]
  },
  {
   "cell_type": "code",
   "execution_count": null,
   "metadata": {},
   "outputs": [],
   "source": [
    "fig,ax = plt.subplots(figsize = (2,1.5))\n",
    "\n",
    "var_plotter('EGD_00098');\n",
    "plt.xticks(rotation = 45);\n",
    "plt.xlabel(None);\n",
    "plt.yticks([.025,0,-.025,-.05,-.075,-0.10]);\n",
    "plt.savefig('../GxE_Figures/Figure_5/fig5a_onecondition.svg')"
   ]
  },
  {
   "cell_type": "code",
   "execution_count": null,
   "metadata": {},
   "outputs": [],
   "source": [
    "fig,ax = plt.subplots(figsize = (2,1.5))\n",
    "\n",
    "var_plotter('ERG_00397')\n",
    "plt.xticks(rotation = 45)\n",
    "plt.xlabel(None)\n",
    "plt.yticks([-.025,0,.025,.05])\n",
    "plt.savefig('../GxE_Figures/Figure_5/fig5b_onedirection.svg')"
   ]
  },
  {
   "cell_type": "code",
   "execution_count": null,
   "metadata": {},
   "outputs": [],
   "source": [
    "fig,ax =plt.subplots(figsize = (2,1.5))\n",
    "\n",
    "var_plotter('ERG_00086')\n",
    "plt.xticks(rotation = 45)\n",
    "plt.xlabel(None)\n",
    "plt.yticks([.025,0,-.025,-.05,-.075,-.10])\n",
    "plt.savefig('../GxE_Figures/Figure_5/fig5c_signGxE.svg')"
   ]
  },
  {
   "cell_type": "code",
   "execution_count": null,
   "metadata": {},
   "outputs": [],
   "source": []
  }
 ],
 "metadata": {
  "kernelspec": {
   "display_name": "CRISPEY_GxE",
   "language": "python",
   "name": "crispey_gxe"
  },
  "language_info": {
   "codemirror_mode": {
    "name": "ipython",
    "version": 3
   },
   "file_extension": ".py",
   "mimetype": "text/x-python",
   "name": "python",
   "nbconvert_exporter": "python",
   "pygments_lexer": "ipython3",
   "version": "3.9.7"
  },
  "toc": {
   "base_numbering": 1,
   "nav_menu": {},
   "number_sections": true,
   "sideBar": true,
   "skip_h1_title": false,
   "title_cell": "Table of Contents",
   "title_sidebar": "Contents",
   "toc_cell": false,
   "toc_position": {},
   "toc_section_display": true,
   "toc_window_display": false
  }
 },
 "nbformat": 4,
 "nbformat_minor": 2
}
