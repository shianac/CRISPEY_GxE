{
 "cells": [
  {
   "cell_type": "code",
   "execution_count": null,
   "metadata": {},
   "outputs": [],
   "source": [
    "import pandas as pd\n",
    "import matplotlib.pyplot as plt\n",
    "import seaborn as sns"
   ]
  },
  {
   "cell_type": "code",
   "execution_count": null,
   "metadata": {},
   "outputs": [],
   "source": [
    "qpcr_data = pd.read_csv('../data_tables/rpn4_qpcrdata.csv', sep = ',')"
   ]
  },
  {
   "cell_type": "code",
   "execution_count": null,
   "metadata": {},
   "outputs": [],
   "source": [
    "qpcr_Wideform = pd.wide_to_long(qpcr_data, ['SCM','LOV'],i= 'Unnamed: 0', j = 'Rep', sep = '_rep')"
   ]
  },
  {
   "cell_type": "code",
   "execution_count": null,
   "metadata": {},
   "outputs": [],
   "source": [
    "qpcr_Wideform['replicate'] = qpcr_Wideform.index.get_level_values('Rep')"
   ]
  },
  {
   "cell_type": "code",
   "execution_count": null,
   "metadata": {},
   "outputs": [],
   "source": [
    "qpcr_Wideform['Variant'] =qpcr_Wideform.index.get_level_values('Unnamed: 0')"
   ]
  },
  {
   "cell_type": "code",
   "execution_count": null,
   "metadata": {},
   "outputs": [],
   "source": [
    "plot_df = pd.melt(qpcr_Wideform, id_vars= ['Variant','replicate'], value_vars = ['SCM','LOV'], var_name = 'condition', value_name = 'ERG4 Expression ratio')"
   ]
  },
  {
   "cell_type": "code",
   "execution_count": null,
   "metadata": {},
   "outputs": [],
   "source": [
    "plt.rcParams['font.family'] = 'Arial'\n",
    "plt.rcParams['font.size'] = 7\n",
    "plt.rcParams['lines.linewidth'] = .8\n",
    "fig, ax  = plt.subplots(figsize = (2.5,2))\n",
    "\n",
    "sns.barplot(y='Variant', x = 'ERG4 Expression ratio',hue = 'condition', data = plot_df, ax=ax, order = ['Consensus','Wildtype','chr7:472522 C>A','chr7:472525 T>A','Mutated TFBS'], ci = 'sd', capsize= .1, palette = ['lightgrey','black'])\n",
    "ax.set_ylabel(None)\n",
    "ax.axvline(1, linestyle = 'dashed', color= 'black')\n",
    "ax.legend(title = None)\n",
    "ax.set_xlabel('$ERG4$ Expression Fold Change')\n",
    "plt.savefig('../GxE_Figures/Figure_5/erg4_QPCR_plot.svg')"
   ]
  },
  {
   "cell_type": "code",
   "execution_count": null,
   "metadata": {},
   "outputs": [],
   "source": []
  }
 ],
 "metadata": {
  "kernelspec": {
   "display_name": "CRISPEY_GxE",
   "language": "python",
   "name": "crispey_gxe"
  },
  "language_info": {
   "codemirror_mode": {
    "name": "ipython",
    "version": 3
   },
   "file_extension": ".py",
   "mimetype": "text/x-python",
   "name": "python",
   "nbconvert_exporter": "python",
   "pygments_lexer": "ipython3",
   "version": "3.9.7"
  },
  "toc": {
   "base_numbering": 1,
   "nav_menu": {},
   "number_sections": true,
   "sideBar": true,
   "skip_h1_title": false,
   "title_cell": "Table of Contents",
   "title_sidebar": "Contents",
   "toc_cell": false,
   "toc_position": {},
   "toc_section_display": true,
   "toc_window_display": false
  }
 },
 "nbformat": 4,
 "nbformat_minor": 2
}
