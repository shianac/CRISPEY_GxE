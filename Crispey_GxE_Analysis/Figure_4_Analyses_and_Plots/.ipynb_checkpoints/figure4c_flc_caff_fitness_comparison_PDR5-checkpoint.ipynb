{
 "cells": [
  {
   "cell_type": "code",
   "execution_count": null,
   "metadata": {},
   "outputs": [],
   "source": [
    "import pandas as pd\n",
    "import matplotlib.pyplot as plt\n",
    "from scipy.stats import pearsonr\n",
    "%matplotlib inline\n",
    "\n",
    "plt.rcParams['font.family'] = 'Arial'\n",
    "plt.rcParams['font.size'] = 7"
   ]
  },
  {
   "cell_type": "code",
   "execution_count": null,
   "metadata": {},
   "outputs": [],
   "source": [
    "annos = pd.read_csv('../data_tables/QTL_pool_annotations.tsv',sep = '\\t')\n",
    "pdr5_annos =annos[annos['Gene']=='PDR5']\n",
    "pdr5_fit = pd.read_csv('../data_tables/Fitness_files/pdr5_fitness_FC.tsv',sep= '\\t')\n",
    "pdr5_fit = pdr5_fit.merge(pdr5_annos,'inner', 'var_id')"
   ]
  },
  {
   "cell_type": "code",
   "execution_count": null,
   "metadata": {},
   "outputs": [],
   "source": [
    "fluc_hits = pdr5_fit[(pdr5_fit['condition']=='FLUC')&(pdr5_fit['padj']<.01)]['var_id'].unique()\n",
    "caff_hits = pdr5_fit[(pdr5_fit['condition']=='CAFF')&(pdr5_fit['padj']<.01)]['var_id'].unique()\n",
    "hit_in_both = set(caff_hits).intersection(set(fluc_hits))"
   ]
  },
  {
   "cell_type": "code",
   "execution_count": null,
   "metadata": {},
   "outputs": [],
   "source": [
    "fitness_column_df =pdr5_fit.pivot('var_id','condition','coef').dropna()\n",
    "pearsonr(fitness_column_df['CAFF'],fitness_column_df['FLUC'])"
   ]
  },
  {
   "cell_type": "code",
   "execution_count": null,
   "metadata": {},
   "outputs": [],
   "source": [
    "\n",
    "fig,ax  = plt.subplots(figsize = (1.75,1.75))\n",
    "\n",
    "pdr5_fit.pivot('var_id','condition','coef').plot.scatter('CAFF','FLUC', ax = ax, color = 'grey', s = 2)\n",
    "pdr5_fit[pdr5_fit['var_id'].isin(fluc_hits)].pivot('var_id','condition','coef').plot.scatter('CAFF','FLUC', ax = ax, color = 'orange', s = 2)\n",
    "pdr5_fit[pdr5_fit['var_id'].isin(caff_hits)].pivot('var_id','condition','coef').plot.scatter('CAFF','FLUC', ax = ax, color = 'magenta', s = 2)\n",
    "pdr5_fit[pdr5_fit['var_id'].isin(hit_in_both)].pivot('var_id','condition','coef').plot.scatter('CAFF','FLUC', ax = ax, color = 'brown', s = 2)\n",
    "lgnd = plt.legend(['Neither', 'FLC', 'CAFF', 'Both'],title = 'Hit in', loc = 'lower right', fontsize = 5)\n",
    "lgnd.legendHandles[0]._sizes = [20]\n",
    "lgnd.legendHandles[1]._sizes = [20]\n",
    "lgnd.legendHandles[2]._sizes = [20]\n",
    "lgnd.legendHandles[3]._sizes = [20]\n",
    "plt.axhline(0,linestyle='dashed', color= 'grey', linewidth = 0.5)\n",
    "plt.axvline(0,linestyle='dashed', color= 'grey', linewidth = 0.5)\n",
    "\n",
    "plt.xlim(-.1,.1)\n",
    "plt.ylim(-.3,.3)\n",
    "plt.xlabel('CAFF Variant Fitness')\n",
    "plt.ylabel('FLC Variant Fitness')\n",
    "plt.savefig('../GxE_Figures/Figure_4/figure4c_pdr5_concordance_CAFF_FLC.svg')"
   ]
  }
 ],
 "metadata": {
  "kernelspec": {
   "display_name": "CRISPEY_GxE",
   "language": "python",
   "name": "crispey_gxe"
  },
  "language_info": {
   "codemirror_mode": {
    "name": "ipython",
    "version": 3
   },
   "file_extension": ".py",
   "mimetype": "text/x-python",
   "name": "python",
   "nbconvert_exporter": "python",
   "pygments_lexer": "ipython3",
   "version": "3.9.7"
  },
  "toc": {
   "base_numbering": 1,
   "nav_menu": {},
   "number_sections": true,
   "sideBar": true,
   "skip_h1_title": false,
   "title_cell": "Table of Contents",
   "title_sidebar": "Contents",
   "toc_cell": false,
   "toc_position": {},
   "toc_section_display": true,
   "toc_window_display": false
  }
 },
 "nbformat": 4,
 "nbformat_minor": 2
}
