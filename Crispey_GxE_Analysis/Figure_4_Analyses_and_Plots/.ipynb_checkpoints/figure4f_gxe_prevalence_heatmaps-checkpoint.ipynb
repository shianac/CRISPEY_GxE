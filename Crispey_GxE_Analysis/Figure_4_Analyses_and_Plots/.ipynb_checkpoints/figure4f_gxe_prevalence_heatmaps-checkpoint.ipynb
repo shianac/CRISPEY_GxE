{
 "cells": [
  {
   "cell_type": "code",
   "execution_count": 1,
   "metadata": {},
   "outputs": [],
   "source": [
    "import pandas as pd\n",
    "import matplotlib.pyplot as plt\n",
    "import seaborn as sns\n",
    "import warnings\n",
    "\n",
    "warnings.filterwarnings('ignore')\n",
    "%matplotlib inline\n",
    "plt.rcParams['font.size'] = 7\n",
    "plt.rcParams['font.family'] = 'Arial'\n",
    "\n",
    "\n",
    "annotations = pd.read_csv('../data_tables/ergosterol_annotations.tsv',sep = '\\t', index_col='var_id')\n",
    "gxe = pd.read_csv('../data_tables/ergosterol_pathway_gxe_interactions.tsv', sep = '\\t')\n",
    "var_fits = pd.read_csv('../data_tables/Fitness_files/ergosterol_pathway_fitness.tsv', sep = '\\t')\n",
    "annotated_gxe = gxe.merge(annotations,'inner','var_id')\n",
    "annotated_fits = var_fits.merge(annotations,'inner','var_id')"
   ]
  },
  {
   "cell_type": "code",
   "execution_count": 2,
   "metadata": {},
   "outputs": [],
   "source": [
    "def get_GxE_vars(annotated_gxe_df, annotated_fitness_df):\n",
    "    '''This code generates the list of GxE variants based on our stringent two-part definition:\n",
    "    1) the variant has a GxE term with FDR<0.01, and 2) for that term, the direction\n",
    "    of effect in the two conditions is in opposite directions.\n",
    "    inputs:\n",
    "        annotated_gxe_df (pandas DataFrame): table containing pairwise GxE coefficients and pvalues for variants,\n",
    "        annotated by genomic location.\n",
    "        annotated_fitness_df (pandas DataFrame):  table containing fitness values for variants in \n",
    "        all relevant conditions,annotated by genomic location.\n",
    "    returns:\n",
    "        gxe_vars (list of strings): list of variants which show GxE according to our definition \n",
    "        (not unique, many represented multiple times) \n",
    "    '''\n",
    "    gxe_vars =[] \n",
    "    for i, row in annotated_gxe_df[(annotated_gxe_df['padj']<0.01)].iterrows():\n",
    "        var = row['var_id']\n",
    "        conds = row['gxe'].split('-')\n",
    "        if annotated_fitness_df[(annotated_fitness_df['var_id']==var)&\\\n",
    "                                (annotated_fitness_df['condition'].isin(conds))]['coef'].prod()<0:\n",
    "            gxe_vars.append(var)\n",
    "    return gxe_vars"
   ]
  },
  {
   "cell_type": "code",
   "execution_count": 3,
   "metadata": {},
   "outputs": [
    {
     "name": "stdout",
     "output_type": "stream",
     "text": [
      "Fraction GxE: 0.9366\n"
     ]
    }
   ],
   "source": [
    "annotated_fits['num_conds'] = annotated_fits.groupby('var_id')['coef'].transform('size')\n",
    "\n",
    "#getting all variants measured in all 6 conditions with at least one significant\n",
    "#effect on fitness\n",
    "hit_in_one_cond = annotated_fits[(annotated_fits['num_conds']==6)&(annotated_fits['padj']<.01)]['var_id'].unique()\n",
    "\n",
    "#getting variants with significant GxE interactions\n",
    "gxe_vars = get_GxE_vars(annotated_gxe,annotated_fits)\n",
    "\n",
    "#getting variants with significant fitness effects which do not show GxE\n",
    "not_gxe =set(hit_in_one_cond)-set(gxe_vars)\n",
    "\n",
    "#calculating the fraction of variants showing Gxe\n",
    "print('Fraction GxE: '+str(round(1-len(not_gxe)/len(hit_in_one_cond),4))) \n",
    "real_frac_gxe = 1-len(not_gxe)/len(hit_in_one_cond)"
   ]
  },
  {
   "cell_type": "code",
   "execution_count": 4,
   "metadata": {},
   "outputs": [
    {
     "data": {
      "text/plain": [
       "205"
      ]
     },
     "execution_count": 4,
     "metadata": {},
     "output_type": "execute_result"
    }
   ],
   "source": [
    "len(hit_in_one_cond)"
   ]
  },
  {
   "cell_type": "code",
   "execution_count": 5,
   "metadata": {},
   "outputs": [],
   "source": [
    "#getting all variants measured in all 6 conditions with at least one significant\n",
    "#effect on fitness\n",
    "\n",
    "hitset = annotated_fits[annotated_fits['var_id'].isin(hit_in_one_cond)]\n",
    "\n",
    "#recoding these variants as to whether or not they have a significant GxE interaction,\n",
    "#1 if they show GxE, 0 if not\n",
    "hitset.loc[hitset['var_id'].isin(set(gxe_vars)), 'GxE'] = 1\n",
    "hitset.loc[~hitset['var_id'].isin(set(gxe_vars)), 'GxE'] = 0\n",
    "\n",
    "#recoding the fitness effects of these variants into 4 bins for easier visualization\n",
    "#in the heatmap\n",
    "#for significant fitness effects, they are coded as 1 or -1 depending on their direction\n",
    "hitset.loc[(hitset['coef']>0)&(hitset['padj']<.01),'codedfitness'] = 1\n",
    "hitset.loc[(hitset['coef']<0)&(hitset['padj']<.01),'codedfitness'] = -1\n",
    "\n",
    "#for non-significant effects, they are coded as 0.45 and -0.45 depending on direction.\n",
    "hitset.loc[(hitset['padj']>=.01)&(hitset['coef']>0),'codedfitness'] = .45\n",
    "hitset.loc[(hitset['padj']>=.01)&(hitset['coef']<0),'codedfitness'] = -.45"
   ]
  },
  {
   "cell_type": "code",
   "execution_count": 6,
   "metadata": {},
   "outputs": [],
   "source": [
    "gxe_heatmap_df = hitset[['var_id','GxE']].drop_duplicates()\n",
    "gxe_heatmap_df.index = gxe_heatmap_df['var_id']"
   ]
  },
  {
   "cell_type": "code",
   "execution_count": 8,
   "metadata": {},
   "outputs": [],
   "source": [
    "gxe_heatmap_df.drop('var_id',axis= 1 ,inplace = True)\n",
    "fitness_heatmap_df = hitset.pivot('var_id','condition','codedfitness').dropna()\n",
    "\n",
    "#sorting the fitness columns and GxE column together so they will be in the same order\n",
    "merged_df = fitness_heatmap_df.merge(gxe_heatmap_df,'inner',right_index=True,left_index = True)\n",
    "ordering = merged_df.sort_values(['GxE','LOV','CAFF','COCL','TBF','SC','NACL']).index"
   ]
  },
  {
   "cell_type": "code",
   "execution_count": 9,
   "metadata": {},
   "outputs": [
    {
     "data": {
      "image/png": "[encoded data removed]",
      "text/plain": [
       "<Figure size 21.6x126 with 1 Axes>"
      ]
     },
     "metadata": {
      "needs_background": "light"
     },
     "output_type": "display_data"
    }
   ],
   "source": [
    "plt.subplots(figsize=(.3,1.75))\n",
    "\n",
    "\n",
    "a = sns.heatmap(gxe_heatmap_df.loc[ordering],cmap = ['lightgrey','green'],cbar = None)\n",
    "a.set(yticklabels=[],yticks = [], ylabel=None)\n",
    "plt.xlabel(None)\n",
    "plt.savefig('../GxE_Figures/Figure_4/fig4f_ii_ergosterol_heatmap_GxE.svg')"
   ]
  },
  {
   "cell_type": "code",
   "execution_count": 10,
   "metadata": {},
   "outputs": [
    {
     "data": {
      "image/png": "[encoded data removed]",
      "text/plain": [
       "<Figure size 216x126 with 2 Axes>"
      ]
     },
     "metadata": {
      "needs_background": "light"
     },
     "output_type": "display_data"
    }
   ],
   "source": [
    "plt.subplots(figsize=(3,1.75))\n",
    "\n",
    "cg = sns.heatmap(fitness_heatmap_df.loc[ordering, ['SC','CAFF','NACL','LOV','TBF','COCL']],\\\n",
    "                 cmap = ['red','pink','skyblue','blue'][::-1],yticklabels=False, cbar = True)\n",
    "\n",
    "\n",
    "plt.xticks([0.5,1.5,2.5,3.5,4.5,5.5],['SC','CAFF','NaCl','LOV','TBF','CoCl$_2$'])\n",
    "\n",
    "plt.xlabel(None)\n",
    "plt.ylabel(None)\n",
    "plt.savefig('../GxE_Figures/Figure_4/fig4f_ergosterol_heatmap_FCs.svg')"
   ]
  },
  {
   "cell_type": "code",
   "execution_count": null,
   "metadata": {},
   "outputs": [],
   "source": []
  }
 ],
 "metadata": {
  "kernelspec": {
   "display_name": "CRISPEY_GxE",
   "language": "python",
   "name": "crispey_gxe"
  },
  "language_info": {
   "codemirror_mode": {
    "name": "ipython",
    "version": 3
   },
   "file_extension": ".py",
   "mimetype": "text/x-python",
   "name": "python",
   "nbconvert_exporter": "python",
   "pygments_lexer": "ipython3",
   "version": "3.9.7"
  },
  "toc": {
   "base_numbering": 1,
   "nav_menu": {},
   "number_sections": true,
   "sideBar": true,
   "skip_h1_title": false,
   "title_cell": "Table of Contents",
   "title_sidebar": "Contents",
   "toc_cell": false,
   "toc_position": {},
   "toc_section_display": true,
   "toc_window_display": false
  }
 },
 "nbformat": 4,
 "nbformat_minor": 2
}
