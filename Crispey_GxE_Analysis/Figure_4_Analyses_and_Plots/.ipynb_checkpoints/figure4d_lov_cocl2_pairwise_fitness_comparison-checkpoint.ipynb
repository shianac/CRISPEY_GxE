{
 "cells": [
  {
   "cell_type": "code",
   "execution_count": 1,
   "metadata": {},
   "outputs": [],
   "source": [
    "import pandas as pd\n",
    "import matplotlib.pyplot as plt\n",
    "from scipy.stats import pearsonr\n",
    "\n",
    "%matplotlib inline\n",
    "plt.rcParams['font.size'] = 7\n",
    "plt.rcParams['font.family'] = 'Arial'\n",
    "plt.rcParams['mathtext.fontset'] = 'custom'\n",
    "plt.rcParams['mathtext.cal'] = 'Arial' \n",
    "\n",
    "annotations = pd.read_csv('../data_tables/erg_annos.tsv',sep = '\\t', index_col='var_id')\n",
    "var_fits = pd.read_csv('../data_tables/Fitness_files/ergosterol_pathway_fitness.tsv', sep = '\\t')\n",
    "annotated_fits = var_fits.merge(annotations,'inner','var_id')\n"
   ]
  },
  {
   "cell_type": "code",
   "execution_count": 2,
   "metadata": {},
   "outputs": [
    {
     "data": {
      "text/plain": [
       "(-0.11783949372191693, 1.1228155612837654e-05)"
      ]
     },
     "execution_count": 2,
     "metadata": {},
     "output_type": "execute_result"
    }
   ],
   "source": [
    "lov_cocl_fitness_df = annotated_fits[annotated_fits['condition'].isin(['COCL','LOV'])]\\\n",
    "                        .pivot('var_id','condition','coef')[['COCL','LOV']].dropna()\n",
    "\n",
    "pearsonr(lov_cocl_fitness_df['LOV'], lov_cocl_fitness_df['COCL'])"
   ]
  },
  {
   "cell_type": "code",
   "execution_count": 3,
   "metadata": {},
   "outputs": [],
   "source": [
    "lov_hits = annotated_fits[(annotated_fits['condition']=='LOV')&(annotated_fits['padj']<.01)].var_id.unique()\n",
    "cocl_hits = annotated_fits[(annotated_fits['condition']=='COCL')&(annotated_fits['padj']<.01)].var_id.unique()\n",
    "hit_in_both = set(lov_hits).intersection(set(cocl_hits))"
   ]
  },
  {
   "cell_type": "code",
   "execution_count": 4,
   "metadata": {},
   "outputs": [
    {
     "data": {
      "image/png": "[encoded data removed]",
      "text/plain": [
       "<Figure size 126x126 with 1 Axes>"
      ]
     },
     "metadata": {
      "needs_background": "light"
     },
     "output_type": "display_data"
    }
   ],
   "source": [
    "fig,ax  = plt.subplots(figsize = (1.75,1.75))\n",
    "annotated_fits[annotated_fits['condition'].isin(['COCL','LOV'])].pivot('var_id','condition','coef').plot.scatter('COCL','LOV', ax = ax, color = 'grey', s = 2)\n",
    "annotated_fits[annotated_fits['condition'].isin(['COCL','LOV'])&(annotated_fits['var_id'].isin(lov_hits))].pivot('var_id','condition','coef').plot.scatter('COCL','LOV',ax = ax, color = 'orange', s = 2)\n",
    "annotated_fits[annotated_fits['condition'].isin(['COCL','LOV'])&(annotated_fits['var_id'].isin(cocl_hits))].pivot('var_id','condition','coef').plot.scatter('COCL','LOV',ax = ax, color = 'magenta', s = 2)\n",
    "annotated_fits[annotated_fits['condition'].isin(['COCL','LOV'])&(annotated_fits['var_id'].isin(hit_in_both))].pivot('var_id','condition','coef').plot.scatter('COCL','LOV',ax = ax, color = 'brown', s = 2)\n",
    "lgnd = plt.legend(['Neither', 'LOV', 'CoCl$_2$', 'Both'],title = 'Hit in', fontsize = 5,handletextpad = .5, labelspacing = .3)\n",
    "lgnd.legendHandles[0]._sizes = [10]\n",
    "lgnd.legendHandles[1]._sizes = [10]\n",
    "lgnd.legendHandles[2]._sizes = [10]\n",
    "lgnd.legendHandles[3]._sizes = [10]\n",
    "plt.axhline(0,linestyle='dashed', color= 'grey', linewidth = 0.5)\n",
    "plt.axvline(0,linestyle='dashed', color= 'grey', linewidth = 0.5)\n",
    "\n",
    "plt.xlim(-.18,.18)\n",
    "plt.ylim(-.18,.18)\n",
    "plt.xlabel('CoCl$_2$ Variant Fitness')\n",
    "plt.ylabel('LOV Variant Fitness')\n",
    "\n",
    "plt.savefig('../GxE_Figures/Figure_4/fig4d_lov_v_cocl_gxe_FC.svg')"
   ]
  },
  {
   "cell_type": "code",
   "execution_count": null,
   "metadata": {},
   "outputs": [],
   "source": []
  }
 ],
 "metadata": {
  "kernelspec": {
   "display_name": "CRISPEY_GxE",
   "language": "python",
   "name": "crispey_gxe"
  },
  "language_info": {
   "codemirror_mode": {
    "name": "ipython",
    "version": 3
   },
   "file_extension": ".py",
   "mimetype": "text/x-python",
   "name": "python",
   "nbconvert_exporter": "python",
   "pygments_lexer": "ipython3",
   "version": "3.9.7"
  },
  "toc": {
   "base_numbering": 1,
   "nav_menu": {},
   "number_sections": true,
   "sideBar": true,
   "skip_h1_title": false,
   "title_cell": "Table of Contents",
   "title_sidebar": "Contents",
   "toc_cell": false,
   "toc_position": {},
   "toc_section_display": true,
   "toc_window_display": false
  }
 },
 "nbformat": 4,
 "nbformat_minor": 2
}
