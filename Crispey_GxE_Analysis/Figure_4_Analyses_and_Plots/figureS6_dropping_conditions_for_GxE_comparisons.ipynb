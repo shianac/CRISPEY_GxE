{
 "cells": [
  {
   "cell_type": "code",
   "execution_count": 3,
   "metadata": {},
   "outputs": [],
   "source": [
    "import pandas as pd\n",
    "import numpy as np\n",
    "import matplotlib.pyplot as plt\n",
    "import seaborn as sns\n",
    "import warnings\n",
    "\n",
    "warnings.filterwarnings('ignore')\n",
    "%matplotlib inline\n",
    "plt.rcParams['font.size'] = 7\n",
    "plt.rcParams['font.family'] = 'Arial'\n",
    "\n",
    "\n",
    "annotations = pd.read_csv('../data_tables/ergosterol_annotations.tsv',sep = '\\t', index_col='var_id')\n",
    "gxe = pd.read_csv('../data_tables/ergosterol_pathway_gxe_interactions.tsv', sep = '\\t')\n",
    "var_fits = pd.read_csv('../data_tables/Fitness_files/ergosterol_pathway_fitness.tsv', sep = '\\t')\n",
    "annotated_gxe = gxe.merge(annotations,'inner','var_id')\n",
    "annotated_fits = var_fits.merge(annotations,'inner','var_id')"
   ]
  },
  {
   "cell_type": "code",
   "execution_count": 10,
   "metadata": {},
   "outputs": [],
   "source": [
    "def get_GxE_vars(annotated_gxe_df, annotated_fitness_df):\n",
    "    '''This code generates the list of GxE variants based on our stringent two-part definition:\n",
    "    1) the variant has a GxE term with FDR<0.01, and 2) for that term, the direction\n",
    "    of effect in the two conditions is in opposite directions.\n",
    "    inputs:\n",
    "        annotated_gxe_df (pandas DataFrame): table containing pairwise GxE coefficients and pvalues for variants,\n",
    "        annotated by genomic location.\n",
    "        annotated_fitness_df (pandas DataFrame):  table containing fitness values for variants in \n",
    "        all relevant conditions,annotated by genomic location.\n",
    "    returns:\n",
    "        gxe_vars (list of strings): list of variants which show GxE according to our definition \n",
    "        (not unique, many represented multiple times) \n",
    "    '''\n",
    "    gxe_vars =[] \n",
    "    for i, row in annotated_gxe_df[(annotated_gxe_df['padj']<0.01)].iterrows():\n",
    "        var = row['var_id']\n",
    "        conds = row['gxe'].split('-')\n",
    "        if annotated_fitness_df[(annotated_fitness_df['var_id']==var)&\\\n",
    "                                (annotated_fitness_df['condition'].isin(conds))]['coef'].prod()<0:\n",
    "            gxe_vars.append(var)\n",
    "    return gxe_vars"
   ]
  },
  {
   "cell_type": "code",
   "execution_count": 11,
   "metadata": {},
   "outputs": [
    {
     "name": "stdout",
     "output_type": "stream",
     "text": [
      "Frac GxE: 0.9366\n"
     ]
    }
   ],
   "source": [
    "annotated_fits_min = annotated_fits\n",
    "annotated_fits_min['num_conds'] = annotated_fits_min.groupby('var_id')['coef'].transform('size')\n",
    "fitness_hit_in_one_cond = annotated_fits_min[(annotated_fits_min['num_conds']==6)&(annotated_fits_min['padj']<.01)]['var_id'].unique()\n",
    "\n",
    "gxe_vars = get_GxE_vars(annotated_gxe,annotated_fits)\n",
    "\n",
    "not_gxe =set(hit_in_one_cond)-set(gxe_vars)\n",
    "print('Frac GxE: '+str(round(1-len(not_gxe)/len(fitness_hit_in_one_cond),4))) \n",
    "real_frac_gxe = 1-len(not_gxe)/len(fitness_hit_in_one_cond)"
   ]
  },
  {
   "cell_type": "code",
   "execution_count": 21,
   "metadata": {},
   "outputs": [
    {
     "name": "stdout",
     "output_type": "stream",
     "text": [
      "CAFF\n",
      "Condition excluded: CAFF\n",
      "Frac GxE: 0.7475\n",
      "COCL\n",
      "Condition excluded: COCL\n",
      "Frac GxE: 0.9023\n",
      "LOV\n",
      "Condition excluded: LOV\n",
      "Frac GxE: 0.8926\n",
      "NACL\n",
      "Condition excluded: NACL\n",
      "Frac GxE: 0.9175\n",
      "SC\n",
      "Condition excluded: SC\n",
      "Frac GxE: 0.8984\n",
      "TBF\n",
      "Condition excluded: TBF\n",
      "Frac GxE: 0.9091\n"
     ]
    }
   ],
   "source": [
    "frac_gxe = []\n",
    "for c1 in annotated_fits['condition'].unique():\n",
    "    print(c1)\n",
    "\n",
    "    annotated_fits_min = annotated_fits[~annotated_fits['condition'].isin([c1])]\n",
    "    annotated_fits_min['num_conds'] = annotated_fits_min.groupby('var_id')['coef'].transform('size')\n",
    "    fitness_hit_in_one_cond = annotated_fits_min[(annotated_fits_min['num_conds']==5)&(annotated_fits_min['padj']<.01)]['var_id'].unique()\n",
    "    dropout_gxe = annotated_gxe[(~annotated_gxe['gxe'].str.contains(c1))]\n",
    "    gxe_vars_dropout = get_GxE_vars(dropout_gxe,annotated_fits_min)\n",
    "    not_gxe =set(fitness_hit_in_one_cond)-set(gxe_vars_dropout)\n",
    "    \n",
    "    print('Condition excluded: '+c1)\n",
    "    print('Frac GxE: '+str(round(1-len(not_gxe)/len(fitness_hit_in_one_cond),4))) \n",
    "    frac_gxe.append(1-len(not_gxe)/len(fitness_hit_in_one_cond))"
   ]
  },
  {
   "cell_type": "code",
   "execution_count": 22,
   "metadata": {},
   "outputs": [
    {
     "name": "stdout",
     "output_type": "stream",
     "text": [
      "Conditions excluded: CAFF,COCL\n",
      "Frac GxE: 0.6407\n",
      "Conditions excluded: CAFF,LOV\n",
      "Frac GxE: 0.6259\n",
      "Conditions excluded: CAFF,NACL\n",
      "Frac GxE: 0.6613\n",
      "Conditions excluded: CAFF,SC\n",
      "Frac GxE: 0.7216\n",
      "Conditions excluded: CAFF,TBF\n",
      "Frac GxE: 0.6722\n",
      "Conditions excluded: COCL,LOV\n",
      "Frac GxE: 0.8224\n",
      "Conditions excluded: COCL,NACL\n",
      "Frac GxE: 0.8765\n",
      "Conditions excluded: COCL,SC\n",
      "Frac GxE: 0.8289\n",
      "Conditions excluded: COCL,TBF\n",
      "Frac GxE: 0.8581\n",
      "Conditions excluded: LOV,NACL\n",
      "Frac GxE: 0.8333\n",
      "Conditions excluded: LOV,SC\n",
      "Frac GxE: 0.8295\n",
      "Conditions excluded: LOV,TBF\n",
      "Frac GxE: 0.8819\n",
      "Conditions excluded: NACL,SC\n",
      "Frac GxE: 0.8636\n",
      "Conditions excluded: NACL,TBF\n",
      "Frac GxE: 0.875\n",
      "Conditions excluded: SC,TBF\n",
      "Frac GxE: 0.8024\n"
     ]
    }
   ],
   "source": [
    "cond_pairs_tested= []\n",
    "frac_gxe_2 = []\n",
    "for c1 in annotated_fits['condition'].unique():\n",
    "    for c2 in annotated_fits['condition'].unique():\n",
    "        if c1!=c2:\n",
    "            if set([c1,c2]) not in cond_pairs_tested:\n",
    "                cond_pairs_tested.append(set([c1,c2]))\n",
    "                annotated_fits_min = annotated_fits[~annotated_fits['condition'].isin([c1,c2])]\n",
    "                annotated_fits_min['num_conds'] = annotated_fits_min.groupby('var_id')['coef'].transform('size')\n",
    "                fitness_hit_in_one_cond = annotated_fits_min[(annotated_fits_min['num_conds']==4)&(annotated_fits_min['padj']<.01)]['var_id'].unique()\n",
    "                dropout_gxe = annotated_gxe[(~annotated_gxe['gxe'].str.contains(c1))\\\n",
    "                                           &(~annotated_gxe['gxe'].str.contains(c2))]\n",
    "                gxe_vars_dropout = get_GxE_vars(dropout_gxe,annotated_fits_min)\n",
    "                \n",
    "                not_gxe =set(fitness_hit_in_one_cond)-set(gxe_vars_dropout)\n",
    "                print('Conditions excluded: '+c1+','+c2)\n",
    "                frac_gxe_2.append(1-len(not_gxe)/len(fitness_hit_in_one_cond))\n",
    "                print('Frac GxE: '+str(round(1-len(not_gxe)/len(fitness_hit_in_one_cond),4)))   "
   ]
  },
  {
   "cell_type": "code",
   "execution_count": 25,
   "metadata": {},
   "outputs": [
    {
     "name": "stdout",
     "output_type": "stream",
     "text": [
      "Conditions excluded: CAFF,COCL,LOV\n",
      "Frac GxE: 0.4433\n",
      "Conditions excluded: CAFF,COCL,NACL\n",
      "Frac GxE: 0.513\n",
      "Conditions excluded: CAFF,COCL,SC\n",
      "Frac GxE: 0.5217\n",
      "Conditions excluded: CAFF,COCL,TBF\n",
      "Frac GxE: 0.5286\n",
      "Conditions excluded: CAFF,LOV,NACL\n",
      "Frac GxE: 0.4921\n",
      "Conditions excluded: CAFF,LOV,SC\n",
      "Frac GxE: 0.5965\n",
      "Conditions excluded: CAFF,LOV,TBF\n",
      "Frac GxE: 0.5345\n",
      "Conditions excluded: CAFF,NACL,SC\n",
      "Frac GxE: 0.6037\n",
      "Conditions excluded: CAFF,NACL,TBF\n",
      "Frac GxE: 0.5629\n",
      "Conditions excluded: CAFF,SC,TBF\n",
      "Frac GxE: 0.5833\n",
      "Conditions excluded: COCL,LOV,NACL\n",
      "Frac GxE: 0.7553\n",
      "Conditions excluded: COCL,LOV,SC\n",
      "Frac GxE: 0.679\n",
      "Conditions excluded: COCL,LOV,TBF\n",
      "Frac GxE: 0.7867\n",
      "Conditions excluded: COCL,NACL,SC\n",
      "Frac GxE: 0.7929\n",
      "Conditions excluded: COCL,NACL,TBF\n",
      "Frac GxE: 0.8235\n",
      "Conditions excluded: COCL,SC,TBF\n",
      "Frac GxE: 0.6774\n",
      "Conditions excluded: LOV,NACL,SC\n",
      "Frac GxE: 0.7288\n",
      "Conditions excluded: LOV,NACL,TBF\n",
      "Frac GxE: 0.7692\n",
      "Conditions excluded: LOV,SC,TBF\n",
      "Frac GxE: 0.7143\n",
      "Conditions excluded: NACL,SC,TBF\n",
      "Frac GxE: 0.7308\n"
     ]
    }
   ],
   "source": [
    "cond_pairs_tested= []\n",
    "frac_gxe_3 = []\n",
    "for c1 in annotated_fits['condition'].unique():\n",
    "    for c2 in annotated_fits['condition'].unique():\n",
    "         for c3 in annotated_fits['condition'].unique():\n",
    "            if c1!=c2 and c2!=c3 and c1!=c3:\n",
    "                if set([c1,c2,c3]) not in cond_pairs_tested:\n",
    "                    cond_pairs_tested.append(set([c1,c2,c3]))\n",
    "                    annotated_fits_min = annotated_fits[~annotated_fits['condition'].isin([c1,c2,c3])]\n",
    "                    annotated_fits_min['num_conds'] = annotated_fits_min.groupby('var_id')['coef'].transform('size')\n",
    "                    fitness_hit_in_one_cond = annotated_fits_min[(annotated_fits_min['num_conds']==3)&(annotated_fits_min['padj']<.01)]['var_id'].unique()\n",
    "                    dropout_gxe = annotated_gxe[(~annotated_gxe['gxe'].str.contains(c1))\\\n",
    "                                             &(~annotated_gxe['gxe'].str.contains(c2))\\\n",
    "                                             &(~annotated_gxe['gxe'].str.contains(c3))]\n",
    "                    gxe_vars_dropout = get_GxE_vars(dropout_gxe,annotated_fits_min)\n",
    "\n",
    "                    not_gxe =set(fitness_hit_in_one_cond)-set(gxe_vars_dropout)\n",
    "                    print('Conditions excluded: '+c1+','+c2+','+c3)\n",
    "                    frac_gxe_3.append(1-len(not_gxe)/len(fitness_hit_in_one_cond))\n",
    "                    print('Frac GxE: '+str(round(1-len(not_gxe)/len(fitness_hit_in_one_cond),4)))   "
   ]
  },
  {
   "cell_type": "code",
   "execution_count": 26,
   "metadata": {},
   "outputs": [
    {
     "name": "stdout",
     "output_type": "stream",
     "text": [
      "Conditions excluded: CAFF,COCL\n",
      "Frac GxE: 0.4\n",
      "Conditions excluded: CAFF,LOV\n",
      "Frac GxE: 0.5766\n",
      "Conditions excluded: CAFF,NACL\n",
      "Frac GxE: 0.4043\n",
      "Conditions excluded: CAFF,SC\n",
      "Frac GxE: 0.7143\n",
      "Conditions excluded: CAFF,TBF\n",
      "Frac GxE: 0.5821\n",
      "Conditions excluded: COCL,LOV\n",
      "Frac GxE: 0.4196\n",
      "Conditions excluded: COCL,NACL\n",
      "Frac GxE: 0.4659\n",
      "Conditions excluded: COCL,SC\n",
      "Frac GxE: 0.2816\n",
      "Conditions excluded: COCL,TBF\n",
      "Frac GxE: 0.4059\n",
      "Conditions excluded: LOV,NACL\n",
      "Frac GxE: 0.2963\n",
      "Conditions excluded: LOV,SC\n",
      "Frac GxE: 0.381\n",
      "Conditions excluded: LOV,TBF\n",
      "Frac GxE: 0.336\n",
      "Conditions excluded: NACL,SC\n",
      "Frac GxE: 0.2742\n",
      "Conditions excluded: NACL,TBF\n",
      "Frac GxE: 0.3016\n",
      "Conditions excluded: SC,TBF\n",
      "Frac GxE: 0.2439\n"
     ]
    }
   ],
   "source": [
    "cond_pairs_tested= []\n",
    "frac_gxe_4= []\n",
    "for c1 in annotated_fits['condition'].unique():\n",
    "    for c2 in annotated_fits['condition'].unique():\n",
    "        if c1!=c2:\n",
    "            if set([c1,c2]) not in cond_pairs_tested:\n",
    "                cond_pairs_tested.append(set([c1,c2]))\n",
    "                annotated_fits_min = annotated_fits[annotated_fits['condition'].isin([c1,c2])]\n",
    "                annotated_fits_min['num_conds'] = annotated_fits_min.groupby('var_id')['coef'].transform('size')\n",
    "                fitness_hit_in_one_cond = annotated_fits_min[(annotated_fits_min['num_conds']==2)&(annotated_fits_min['padj']<.01)]['var_id'].unique()\n",
    "                annotated_fits_min['signchange'] = annotated_fits_min.groupby('var_id')['coef'].transform(sign_change_checker)\n",
    "                dropout_gxe = annotated_gxe[(annotated_gxe['gxe'].str.contains(c1))\\\n",
    "                                           &(annotated_gxe['gxe'].str.contains(c2))]\n",
    "\n",
    "                gxe_vars_dropout = get_GxE_vars(dropout_gxe,annotated_fits_min)\n",
    "                not_gxe =set(fitness_hit_in_one_cond)-set(gxe_vars_dropout)\n",
    "                print('Conditions excluded: '+c1+','+c2)\n",
    "                frac_gxe_4.append(1-len(not_gxe)/len(fitness_hit_in_one_cond))\n",
    "                print('Frac GxE: '+str(round(1-len(not_gxe)/len(fitness_hit_in_one_cond),4)))   "
   ]
  },
  {
   "cell_type": "code",
   "execution_count": 28,
   "metadata": {},
   "outputs": [
    {
     "data": {
      "image/png": "[encoded data removed]",
      "text/plain": [
       "<Figure size 216x216 with 1 Axes>"
      ]
     },
     "metadata": {
      "needs_background": "light"
     },
     "output_type": "display_data"
    }
   ],
   "source": [
    "plt.subplots(figsize = (3,3))\n",
    "sns.swarmplot(data = [frac_gxe,frac_gxe_2,frac_gxe_3,frac_gxe_4][::-1], color = 'black')\n",
    "sns.boxplot(data = [frac_gxe,frac_gxe_2,frac_gxe_3,frac_gxe_4][::-1], fliersize = 0)\n",
    "plt.xticks([0,1,2,3],[2,3,4,5])\n",
    "plt.axhline(0.9365853658536585, linestyle = 'dashed', color = 'grey')\n",
    "plt.ylim(0,1)\n",
    "plt.xlabel('Number of conditions')\n",
    "plt.ylabel('Fraction fitness affecting variants showing GxE')\n",
    "plt.savefig('../GxE_Figures/Figure_S6.svg')"
   ]
  },
  {
   "cell_type": "code",
   "execution_count": null,
   "metadata": {},
   "outputs": [],
   "source": []
  }
 ],
 "metadata": {
  "kernelspec": {
   "display_name": "CRISPEY_GxE",
   "language": "python",
   "name": "crispey_gxe"
  },
  "language_info": {
   "codemirror_mode": {
    "name": "ipython",
    "version": 3
   },
   "file_extension": ".py",
   "mimetype": "text/x-python",
   "name": "python",
   "nbconvert_exporter": "python",
   "pygments_lexer": "ipython3",
   "version": "3.9.7"
  },
  "toc": {
   "base_numbering": 1,
   "nav_menu": {},
   "number_sections": true,
   "sideBar": true,
   "skip_h1_title": false,
   "title_cell": "Table of Contents",
   "title_sidebar": "Contents",
   "toc_cell": false,
   "toc_position": {},
   "toc_section_display": true,
   "toc_window_display": false
  }
 },
 "nbformat": 4,
 "nbformat_minor": 2
}
