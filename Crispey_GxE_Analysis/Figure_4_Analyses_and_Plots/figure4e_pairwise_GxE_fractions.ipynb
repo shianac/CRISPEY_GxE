{
 "cells": [
  {
   "cell_type": "code",
   "execution_count": 1,
   "metadata": {},
   "outputs": [],
   "source": [
    "import pandas as pd\n",
    "import matplotlib.pyplot as plt\n",
    "import warnings\n",
    "\n",
    "warnings.filterwarnings('ignore')\n",
    "%matplotlib inline\n",
    "plt.rcParams['font.size'] = 7\n",
    "plt.rcParams['font.family'] = 'Arial'\n",
    "\n",
    "\n",
    "annotations = pd.read_csv('../data_tables/erg_annos.tsv',sep = '\\t', index_col='var_id')\n",
    "gxe = pd.read_csv('../data_tables/ergosterol_pathway_gxe_interactions.tsv', sep = '\\t')\n",
    "var_fits = pd.read_csv('../data_tables/Fitness_files/ergosterol_pathway_fitness.tsv', sep = '\\t')\n",
    "annotated_gxe = gxe.merge(annotations,'inner','var_id')\n",
    "annotated_fits = var_fits.merge(annotations,'inner','var_id')\n"
   ]
  },
  {
   "cell_type": "code",
   "execution_count": 2,
   "metadata": {},
   "outputs": [],
   "source": [
    "def get_GxE_vars(annotated_gxe_df, annotated_fitness_df):\n",
    "    '''This code generates the list of GxE variants based on our stringent two-part definition:\n",
    "    1) the variant has a GxE term with FDR<0.01, and 2) for that term, the direction\n",
    "    of effect in the two conditions is in opposite directions.\n",
    "    inputs:\n",
    "        annotated_gxe_df (pandas DataFrame): table containing pairwise GxE coefficients and pvalues for variants,\n",
    "        annotated by genomic location.\n",
    "        annotated_fitness_df (pandas DataFrame):  table containing fitness values for variants in \n",
    "        all relevant conditions,annotated by genomic location.\n",
    "    returns:\n",
    "        gxe_vars (list of strings): list of variants which show GxE according to our definition \n",
    "        (not unique, many represented multiple times) \n",
    "    '''\n",
    "    gxe_vars =[] \n",
    "    for i, row in annotated_gxe_df[(annotated_gxe_df['padj']<0.01)].iterrows():\n",
    "        var = row['var_id']\n",
    "        conds = row['gxe'].split('-')\n",
    "        if annotated_fitness_df[(annotated_fitness_df['var_id']==var)&\\\n",
    "                                (annotated_fitness_df['condition'].isin(conds))]['coef'].prod()<0:\n",
    "            gxe_vars.append(var)\n",
    "    return gxe_vars"
   ]
  },
  {
   "cell_type": "code",
   "execution_count": 3,
   "metadata": {},
   "outputs": [],
   "source": [
    "annotated_fits['num_conds'] = annotated_fits.groupby('var_id')['coef'].transform('size')\n",
    "hit_in_one_cond = annotated_fits[(annotated_fits['num_conds']==6)&(annotated_fits['padj']<.01)]['var_id'].unique()"
   ]
  },
  {
   "cell_type": "code",
   "execution_count": 4,
   "metadata": {},
   "outputs": [],
   "source": [
    "gxe_vars = get_GxE_vars(annotated_gxe,annotated_fits)"
   ]
  },
  {
   "cell_type": "code",
   "execution_count": 5,
   "metadata": {},
   "outputs": [
    {
     "data": {
      "text/plain": [
       "205"
      ]
     },
     "execution_count": 5,
     "metadata": {},
     "output_type": "execute_result"
    }
   ],
   "source": [
    "len(hit_in_one_cond)"
   ]
  },
  {
   "cell_type": "code",
   "execution_count": 6,
   "metadata": {},
   "outputs": [
    {
     "data": {
      "text/plain": [
       "256"
      ]
     },
     "execution_count": 6,
     "metadata": {},
     "output_type": "execute_result"
    }
   ],
   "source": [
    "len(set(gxe_vars))"
   ]
  },
  {
   "cell_type": "code",
   "execution_count": 7,
   "metadata": {},
   "outputs": [
    {
     "data": {
      "text/plain": [
       "0.9365853658536585"
      ]
     },
     "execution_count": 7,
     "metadata": {},
     "output_type": "execute_result"
    }
   ],
   "source": [
    "#Fraction of variants with fitness effects showing GxE\n",
    "not_gxe =set(hit_in_one_cond)-set(gxe_vars)\n",
    "1-len(not_gxe)/len(hit_in_one_cond)"
   ]
  },
  {
   "cell_type": "code",
   "execution_count": 8,
   "metadata": {},
   "outputs": [],
   "source": [
    "#calculating the fraction of variants with significant fitness effects in each \n",
    "#pair of conditions which show GxE between those conditions.\n",
    "\n",
    "conditions = annotated_fits['condition'].unique().tolist()\n",
    "fracs = []\n",
    "for i,cond1 in enumerate(conditions):\n",
    "    for cond2 in conditions[i+1:]:\n",
    "        if cond1!=cond2:\n",
    "            cond1cond2 = annotated_fits[annotated_fits.condition.isin([cond1,cond2])]\n",
    "            #getting all variants with a significan fitness effect in either condition\n",
    "            hitscond1cond2 = cond1cond2[(cond1cond2['padj']<.01)].var_id.unique()\n",
    "            #Generating possible GxE term names\n",
    "            gxe_possibilities = [cond1+'-'+cond2,cond2+'-'+cond1]\n",
    "            #getting variants showing GxE term p-values with FDR<0.01 between the two conditions\n",
    "            gxe_hits = annotated_gxe[(annotated_gxe['gxe'].isin(gxe_possibilities))&(annotated_gxe['padj']<.01)].var_id.unique()\n",
    "            #getting the fitness effects of each of the fitness affecting variants in the two conditions\n",
    "            hits_all = annotated_fits[(annotated_fits['var_id'].isin(hitscond1cond2))&(annotated_fits.condition.isin([cond1,cond2]))]\n",
    "            #only keeping variants with measurements in both conditions\n",
    "            hits_all['num_conds'] = hits_all.groupby('var_id')['var_id'].transform('size')\n",
    "            hits_all = hits_all[hits_all['num_conds']==2]\n",
    "            \n",
    "            #getting the number of variants with significant fitness effects in these 2 conditions\n",
    "            num_hits = hits_all.var_id.nunique()\n",
    "            \n",
    "            #checking to see if the fitness effects are in opposite directions, as is required\n",
    "            #for our GxE definition. Product will be negative if there is a sign change.\n",
    "            hits_all['signchange'] = hits_all.groupby('var_id')['coef'].transform('prod')\n",
    "            \n",
    "            #getting the number of variants with significant fitness effects with GxE in these two conditions\n",
    "            gxe_c1c2 = hits_all[(hits_all['signchange']<0)&(hits_all['var_id'].isin(gxe_hits))]['var_id'].unique().tolist()\n",
    "            \n",
    "            #calculating the fraction of fitness affecting variants showing GxE in these 2 conditions\n",
    "            frac  = len(gxe_c1c2)/num_hits\n",
    "            fracs.append(frac)\n",
    "           \n",
    "\n"
   ]
  },
  {
   "cell_type": "code",
   "execution_count": 10,
   "metadata": {},
   "outputs": [
    {
     "data": {
      "image/png": "[encoded data removed]",
      "text/plain": [
       "<Figure size 108x108 with 1 Axes>"
      ]
     },
     "metadata": {
      "needs_background": "light"
     },
     "output_type": "display_data"
    }
   ],
   "source": [
    "plt.subplots(figsize= (1.5,1.5))\n",
    "plt.hist(fracs,bins = 5, color = 'black');\n",
    "\n",
    "plt.xlabel('Fraction of GxE Variants', fontsize = 7)\n",
    "plt.axvline(0.29230769230769227, c = 'grey',linestyle = 'dashed', linewidth = 1)\n",
    "plt.xlim([0,1])\n",
    "plt.legend(['PDR5'], fontsize = 5)\n",
    "plt.ylabel('# of Pairwise Comparisons')\n",
    "plt.savefig('../GxE_Figures/Figure_4/fig4f_pairwiseconcordance_FC.svg')"
   ]
  },
  {
   "cell_type": "code",
   "execution_count": 11,
   "metadata": {},
   "outputs": [
    {
     "data": {
      "text/plain": [
       "0.8224901834400324"
      ]
     },
     "execution_count": 11,
     "metadata": {},
     "output_type": "execute_result"
    }
   ],
   "source": [
    "#fraction of variants showing GxE if all conditions \n",
    "#had the same fraction of GxE as PDR5 caffeine and fluconazole\n",
    "1-(1-0.29230769230769227)**5"
   ]
  },
  {
   "cell_type": "code",
   "execution_count": null,
   "metadata": {},
   "outputs": [],
   "source": []
  }
 ],
 "metadata": {
  "kernelspec": {
   "display_name": "CRISPEY_GxE",
   "language": "python",
   "name": "crispey_gxe"
  },
  "language_info": {
   "codemirror_mode": {
    "name": "ipython",
    "version": 3
   },
   "file_extension": ".py",
   "mimetype": "text/x-python",
   "name": "python",
   "nbconvert_exporter": "python",
   "pygments_lexer": "ipython3",
   "version": "3.9.7"
  },
  "toc": {
   "base_numbering": 1,
   "nav_menu": {},
   "number_sections": true,
   "sideBar": true,
   "skip_h1_title": false,
   "title_cell": "Table of Contents",
   "title_sidebar": "Contents",
   "toc_cell": false,
   "toc_position": {},
   "toc_section_display": true,
   "toc_window_display": false
  }
 },
 "nbformat": 4,
 "nbformat_minor": 2
}
