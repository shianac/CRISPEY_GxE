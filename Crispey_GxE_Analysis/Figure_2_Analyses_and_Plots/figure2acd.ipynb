{
 "cells": [
  {
   "cell_type": "code",
   "execution_count": null,
   "metadata": {},
   "outputs": [],
   "source": [
    "import pandas as pd\n",
    "import numpy as np\n",
    "import matplotlib.pyplot as plt\n",
    "\n",
    "plt.rcParams['font.family'] = \"sans-serif\"\n",
    "plt.rcParams['font.sans-serif'] = 'Arial'\n",
    "plt.rcParams['mathtext.fontset'] = 'custom'\n",
    "plt.rcParams['mathtext.cal'] = 'Arial' \n",
    "\n",
    "%matplotlib inline"
   ]
  },
  {
   "cell_type": "markdown",
   "metadata": {},
   "source": [
    "## Pre-processing"
   ]
  },
  {
   "cell_type": "code",
   "execution_count": null,
   "metadata": {},
   "outputs": [],
   "source": [
    "#Loading in full variant annotations\n",
    "annos = pd.read_csv('../data_tables/QTL_pool_annotations.tsv',sep = '\\t')\n",
    "\n",
    "#loading in QTL information from Bloom 2019\n",
    "qtl_list = pd.read_csv('../data_tables/qtl_list.tsv', sep= '\\t')\n",
    "\n",
    "#loading in assignment of each well to each library\n",
    "libraries= pd.read_excel(\"/home/shian/CRISPEY3_fraserserver/tables/crispey3_libraries_by_pool_number.xlsx\")\n",
    "\n",
    "#loading in fitness measurement tables for QTL pools\n",
    "p9 = pd.read_csv('../data_tables/Fitness_files/pool9_fitness_fc.tsv', sep = '\\t')\n",
    "p4 = pd.read_csv('../data_tables/Fitness_files/pool4_fitness_fc.tsv', sep = '\\t')\n",
    "p7 = pd.read_csv('../data_tables/Fitness_files/pool7_fitness_fc.tsv', sep = '\\t')\n",
    "\n",
    "\n",
    "#loading in oligo information mastersheet\n",
    "oli_info = pd.read_csv('../data_tables/oligos_nonuniq_crispey3_GG_9bp_OLIGO_with_seq_primers.txt', sep = '\\t')\n",
    "\n"
   ]
  },
  {
   "cell_type": "code",
   "execution_count": null,
   "metadata": {},
   "outputs": [],
   "source": [
    "#splitting fitness measurements by condition\n",
    "fluc = p9[p9['condition']=='FLUC']\n",
    "scp9 = p9[p9['condition']=='P9SC']\n",
    "cocl = p4[p4['condition']=='COCL']\n",
    "scp4 = p4[p4['condition']=='P4SC']\n",
    "caff = p7[p7['condition']=='CAFF']\n",
    "scp7 = p7[p7['condition']=='P7SC']"
   ]
  },
  {
   "cell_type": "markdown",
   "metadata": {},
   "source": [
    "## Figure 2a"
   ]
  },
  {
   "cell_type": "code",
   "execution_count": null,
   "metadata": {},
   "outputs": [],
   "source": [
    "def get_annotated_df(df,condition):\n",
    "    cond_genes = qtl_list[qtl_list['trait']==condition]['Gene ID'].unique().tolist()\n",
    "    df_anno = df.merge(annos,'inner','var_id')\n",
    "    return df_anno[df_anno['Gene'].isin(cond_genes)]"
   ]
  },
  {
   "cell_type": "code",
   "execution_count": null,
   "metadata": {},
   "outputs": [],
   "source": [
    "#Getting designed variants for each pool which are in the relevant QTLs\n",
    "\n",
    "#getting list of genes in caffeine QTLs in library\n",
    "caff_genes = qtl_list[qtl_list['trait']=='Caffeine;15mM;2']['Gene ID'].unique().tolist()\n",
    "#getting variant ids for variants within caffeine genes\n",
    "designed_caffeine_vars = oli_info[(oli_info['set_name']=='gxe')&(oli_info.pool.isin(libraries['GxE_Caffeine'].dropna().astype(int)))].var_id.unique()\n",
    "#getting annotations for variants within caffeine genes\n",
    "designed_caff_qtl_vars = annos[annos['var_id'].isin(designed_caffeine_vars)&(annos['Gene'].isin(caff_genes))]\n",
    "\n",
    "cocl2_genes = qtl_list[qtl_list['trait']=='Cobalt_Chloride;2mM;2']['Gene ID'].unique().tolist()\n",
    "designed_cocl2_vars = oli_info[(oli_info['set_name']=='gxe')&(oli_info.pool.isin(libraries['GxE_CoCl2'].dropna().astype(int)))].var_id.unique()\n",
    "designed_cocl2_qtl_vars = annos[annos['var_id'].isin(designed_cocl2_vars)&(annos['Gene'].isin(cocl2_genes))]\n",
    "\n",
    "fluc_genes = qtl_list[qtl_list['trait']=='Fluconazole;100uM;2']['Gene ID'].unique().tolist()\n",
    "designed_fluconazole_vars = oli_info[(oli_info['set_name']=='gxe')&(oli_info.pool.isin(libraries['GxE_Fluconazole'].dropna().astype(int)))].var_id.unique()\n",
    "designed_fluconazole_qtl_vars = annos[annos['var_id'].isin(designed_fluconazole_vars)&(annos['Gene'].isin(fluc_genes))]"
   ]
  },
  {
   "cell_type": "code",
   "execution_count": null,
   "metadata": {},
   "outputs": [],
   "source": [
    "#Printing data to use for figure 2A\n",
    "\n",
    "print('Designed Caffeine Variants:',designed_caff_qtl_vars.var_id.nunique())\n",
    "print('Designed CoCl\\u2082 Variants:',designed_cocl2_qtl_vars.var_id.nunique())\n",
    "print('Designed Fluconazole Variants:',designed_fluconazole_qtl_vars.var_id.nunique())\n",
    "\n",
    "print('############################################################################')\n",
    "print('Designed Caffeine Gene QTLs:',designed_caff_qtl_vars.Gene.nunique())\n",
    "print('Designed CoCl\\u2082 Gene QTLs:',designed_cocl2_qtl_vars.Gene.nunique())\n",
    "print('Designed Fluconazole Gene QTLs:',designed_fluconazole_qtl_vars.Gene.nunique())\n",
    "\n",
    "#Getting annotated fitness dataframes, so only variants which \n",
    "#we were able to measure fitness for\n",
    "caff_ann = get_annotated_df(caff,'Caffeine;15mM;2')\n",
    "fluc_ann = get_annotated_df(fluc,'Fluconazole;100uM;2')\n",
    "cocl_ann = get_annotated_df(cocl, 'Cobalt_Chloride;2mM;2')\n",
    "\n",
    "p7sc_ann = get_annotated_df(scp7,'Caffeine;15mM;2')\n",
    "p9sc_ann = get_annotated_df(scp9,'Fluconazole;100uM;2')\n",
    "p4sc_ann = get_annotated_df(scp4, 'Cobalt_Chloride;2mM;2')\n",
    "\n",
    "print('############################################################################')\n",
    "print('Measured Caffeine Variants:',caff_ann.var_id.nunique())\n",
    "print('Measured CoCl\\u2082 Variants:',cocl_ann.var_id.nunique())\n",
    "print('Measured Fluconazole Variants:',fluc_ann.var_id.nunique())"
   ]
  },
  {
   "cell_type": "markdown",
   "metadata": {},
   "source": [
    "## Calling Hits"
   ]
  },
  {
   "cell_type": "code",
   "execution_count": null,
   "metadata": {},
   "outputs": [],
   "source": [
    "#Calling hits with FDR<0.01\n",
    "p7sc_hits = p7sc_ann[(p7sc_ann['padj']<.01)]\n",
    "p9sc_hits = p9sc_ann[(p9sc_ann['padj']<.01)]\n",
    "p4sc_hits = p4sc_ann[(p4sc_ann['padj']<.01)]\n",
    "\n",
    "caff_hits = caff_ann[(caff_ann['padj']<.01)]\n",
    "fluc_hits = fluc_ann[(fluc_ann['padj']<.01)]\n",
    "cocl_hits = cocl_ann[(cocl_ann['padj']<.01)]"
   ]
  },
  {
   "cell_type": "code",
   "execution_count": null,
   "metadata": {},
   "outputs": [],
   "source": [
    "#Setting font sizes for graphs\n",
    "SIZE = 7\n",
    "\n",
    "\n",
    "plt.rc('font', size=SIZE)          # controls default text sizes\n",
    "plt.rc('axes', titlesize=SIZE)     # fontsize of the axes title\n",
    "plt.rc('axes', labelsize=SIZE)    # fontsize of the x and y labels\n",
    "plt.rc('xtick', labelsize=SIZE)    # fontsize of the tick labels\n",
    "plt.rc('ytick', labelsize=SIZE)    # fontsize of the tick labels\n",
    "plt.rc('legend', fontsize=SIZE)    # legend fontsize\n",
    "plt.rc('figure', titlesize=SIZE)  # fontsize of the figure title\n"
   ]
  },
  {
   "cell_type": "markdown",
   "metadata": {},
   "source": [
    "## Figure 2c\n"
   ]
  },
  {
   "cell_type": "code",
   "execution_count": null,
   "metadata": {},
   "outputs": [],
   "source": [
    "#getting numbers of hits for QTL conditions and \n",
    "#baseline SC media\n",
    "num_caffpool_caff_hits = caff_hits.var_id.nunique()\n",
    "num_caffpool_sc_hits = p7sc_hits.var_id.nunique()\n",
    "\n",
    "num_coclpool_cocl_hits = cocl_hits.var_id.nunique()\n",
    "num_coclpool_sc_hits = p4sc_hits.var_id.nunique()\n",
    "\n",
    "num_flucpool_fluc_hits = fluc_hits.var_id.nunique()\n",
    "num_flucpool_sc_hits = p9sc_hits.var_id.nunique()\n",
    "fig,ax = plt.subplots(figsize = (1.5,1.5))\n",
    "\n",
    "#putting numbers of hits for the conditions into a dataframe\n",
    "numhits = pd.DataFrame({'SC':[num_caffpool_sc_hits,num_flucpool_sc_hits,num_coclpool_sc_hits],\\\n",
    "                        'Stress':[num_caffpool_caff_hits,num_flucpool_fluc_hits,num_coclpool_cocl_hits]})\n",
    "\n",
    "#setting index for number of hits dataframe\n",
    "numhits.index = ['CAFF', 'FLC', r'CoCl$_2$']\n",
    "\n",
    "#plotting a bar plot for the number of hits within each \n",
    "#condition\n",
    "numhits.plot.bar(ax = ax, color = ['grey','black'])\n",
    "ax.set_ylabel('Variants with FDR <.01')\n",
    "plt.xlabel('Variant Set')\n",
    "plt.xticks(rotation = 0)\n",
    "plt.legend(loc = 'upper left',handlelength=.5, handleheight=.5)\n",
    "plt.savefig('../GxE_Figures/Figure_2/figure2c_sc_v_condition_hit_comp_fc.svg')"
   ]
  },
  {
   "cell_type": "markdown",
   "metadata": {},
   "source": [
    "## Figure 2d"
   ]
  },
  {
   "cell_type": "code",
   "execution_count": null,
   "metadata": {},
   "outputs": [],
   "source": [
    "#Calculating variant annotation enrichments for hit variants \n",
    "#relative to the measured variants.\n",
    "\n",
    "#copying annotation dataframe\n",
    "p4sc_all_var_annos_for_plot = p4sc_ann.copy()\n",
    "#copying hit dataframe\n",
    "p4sc_hit_annos_for_plot = p4sc_hits.copy()\n",
    "#Setting frameshift variants, stop gained variants, and inframe deletions\n",
    "#as missense variants (very few)\n",
    "p4sc_all_var_annos_for_plot.loc[p4sc_all_var_annos_for_plot['Consequence'].isin(['frameshift_variant','stop_gained','inframe_insertion']), 'Consequence']='missense_variant'\n",
    "p4sc_hit_annos_for_plot.loc[p4sc_hit_annos_for_plot['Consequence'].isin(['frameshift_variant','stop_gained','inframe_insertion']), 'Consequence']='missense_variant'\n",
    "\n",
    "#generating a dataframe of variant proportions in measured variants\n",
    "p4sc_consequence_counts = pd.DataFrame(p4sc_all_var_annos_for_plot.Consequence.value_counts()/len(p4sc_all_var_annos_for_plot))\n",
    "#renaming the column to show the library proportions of each annotation\n",
    "p4sc_consequence_counts['Library Proportions'] = p4sc_consequence_counts['Consequence']\n",
    "#adding a column for hit variant proportions of each annotation\n",
    "p4sc_consequence_counts['Hit Proportions'] = p4sc_hit_annos_for_plot.Consequence.value_counts()/len(p4sc_hit_annos_for_plot)\n",
    "#dropping unnecessary column\n",
    "p4sc_consequence_counts.drop('Consequence',axis = 1, inplace = True)\n",
    "\n",
    "\n",
    "p7sc_all_var_annos_for_plot = p7sc_ann.copy()\n",
    "p7sc_hit_var_annos_for_plot = p7sc_hits.copy()\n",
    "p7sc_all_var_annos_for_plot.loc[p7sc_all_var_annos_for_plot['Consequence'].isin(['frameshift_variant','stop_gained','inframe_insertion', 'inframe_deletion','stop_lost']), 'Consequence']='missense_variant'\n",
    "p7sc_hit_var_annos_for_plot.loc[p7sc_hit_var_annos_for_plot['Consequence'].isin(['frameshift_variant','stop_gained','inframe_insertion','inframe_deletion', 'stop_lost']), 'Consequence']='missense_variant'\n",
    "p7sc_consequence_counts = pd.DataFrame((p7sc_all_var_annos_for_plot.Consequence.value_counts()/len(p7sc_all_var_annos_for_plot)))\n",
    "p7sc_consequence_counts['Library Proportions'] = p7sc_consequence_counts['Consequence']\n",
    "p7sc_consequence_counts['Hit Proportions'] = p7sc_hit_var_annos_for_plot.Consequence.value_counts()/len(p7sc_hit_var_annos_for_plot)\n",
    "p7sc_consequence_counts.drop('Consequence',axis = 1, inplace = True)\n",
    "\n",
    "p9sc_all_var_annos_for_plot = p9sc_ann.copy()\n",
    "p9sc_hit_var_annos_for_plot = p9sc_hits.copy()\n",
    "p9sc_all_var_annos_for_plot.loc[p9sc_all_var_annos_for_plot['Consequence'].isin(['frameshift_variant','stop_gained','inframe_insertion', 'inframe_deletion','stop_lost']), 'Consequence']='missense_variant'\n",
    "p9sc_hit_var_annos_for_plot.loc[p9sc_hit_var_annos_for_plot['Consequence'].isin(['frameshift_variant','stop_gained','inframe_insertion','inframe_deletion', 'stop_lost']), 'Consequence']='missense_variant'\n",
    "p9sc_consequence_counts = pd.DataFrame((p9sc_all_var_annos_for_plot.Consequence.value_counts()/len(p9sc_all_var_annos_for_plot)))\n",
    "p9sc_consequence_counts['Library Proportions'] = p9sc_consequence_counts['Consequence']\n",
    "p9sc_consequence_counts['Hit Proportions'] = p9sc_hit_var_annos_for_plot.Consequence.value_counts()/len(p9sc_hit_var_annos_for_plot)\n",
    "p9sc_consequence_counts.drop('Consequence',axis = 1, inplace = True)\n"
   ]
  },
  {
   "cell_type": "code",
   "execution_count": null,
   "metadata": {},
   "outputs": [],
   "source": [
    "cocl_all_var_annos_for_plot = cocl_ann.copy()\n",
    "cocl_hit_annos_for_plot = cocl_hits.copy()\n",
    "cocl_all_var_annos_for_plot.loc[cocl_all_var_annos_for_plot['Consequence'].isin(['frameshift_variant','stop_gained','inframe_insertion']), 'Consequence']='missense_variant'\n",
    "cocl_hit_annos_for_plot.loc[cocl_hit_annos_for_plot['Consequence'].isin(['frameshift_variant','stop_gained','inframe_insertion']), 'Consequence']='missense_variant'\n",
    "cocl_consequence_counts = pd.DataFrame(cocl_all_var_annos_for_plot.Consequence.value_counts()/len(cocl_all_var_annos_for_plot))\n",
    "cocl_consequence_counts['Library Proportions'] = cocl_consequence_counts['Consequence']\n",
    "cocl_consequence_counts['Hit Proportions'] = cocl_hit_annos_for_plot.Consequence.value_counts()/len(cocl_hit_annos_for_plot)\n",
    "cocl_consequence_counts.drop('Consequence',axis = 1, inplace = True)\n",
    "\n",
    "\n",
    "caff_all_var_annos_for_plot = caff_ann.copy()\n",
    "caff_hit_var_annos_for_plot = caff_hits.copy()\n",
    "caff_all_var_annos_for_plot.loc[caff_all_var_annos_for_plot['Consequence'].isin(['frameshift_variant','stop_gained','inframe_insertion', 'inframe_deletion','stop_lost']), 'Consequence']='missense_variant'\n",
    "caff_hit_var_annos_for_plot.loc[caff_hit_var_annos_for_plot['Consequence'].isin(['frameshift_variant','stop_gained','inframe_insertion','inframe_deletion', 'stop_lost']), 'Consequence']='missense_variant'\n",
    "caff_consequence_counts = pd.DataFrame((caff_all_var_annos_for_plot.Consequence.value_counts()/len(caff_all_var_annos_for_plot)))\n",
    "caff_consequence_counts['Library Proportions'] = caff_consequence_counts['Consequence']\n",
    "caff_consequence_counts['Hit Proportions'] = caff_hit_var_annos_for_plot.Consequence.value_counts()/len(caff_hit_var_annos_for_plot)\n",
    "caff_consequence_counts.drop('Consequence',axis = 1, inplace = True)\n",
    "\n",
    "fluc_all_var_annos_for_plot = fluc_ann.copy()\n",
    "fluc_hit_var_annos_for_plot = fluc_hits.copy()\n",
    "fluc_all_var_annos_for_plot.loc[fluc_all_var_annos_for_plot['Consequence'].isin(['frameshift_variant','stop_gained','inframe_insertion', 'inframe_deletion','stop_lost']), 'Consequence']='missense_variant'\n",
    "fluc_hit_var_annos_for_plot.loc[fluc_hit_var_annos_for_plot['Consequence'].isin(['frameshift_variant','stop_gained','inframe_insertion','inframe_deletion', 'stop_lost']), 'Consequence']='missense_variant'\n",
    "fluc_consequence_counts = pd.DataFrame((fluc_all_var_annos_for_plot.Consequence.value_counts()/len(fluc_all_var_annos_for_plot)))\n",
    "fluc_consequence_counts['Library Proportions'] = fluc_consequence_counts['Consequence']\n",
    "fluc_consequence_counts['Hit Proportions'] = fluc_hit_var_annos_for_plot.Consequence.value_counts()/len(fluc_hit_var_annos_for_plot)\n",
    "fluc_consequence_counts.drop('Consequence',axis = 1, inplace = True)\n"
   ]
  },
  {
   "cell_type": "code",
   "execution_count": null,
   "metadata": {},
   "outputs": [],
   "source": [
    "from scipy.stats import fisher_exact"
   ]
  },
  {
   "cell_type": "code",
   "execution_count": null,
   "metadata": {},
   "outputs": [],
   "source": [
    "#Calculating enrichment of missense annotation for fluconazole hits\n",
    "num_fluc_missense_hits = fluc_hit_var_annos_for_plot[fluc_hit_var_annos_for_plot['Consequence']=='missense_variant'].var_id.nunique()\n",
    "num_fluc_missense_variants = fluc_all_var_annos_for_plot[fluc_all_var_annos_for_plot['Consequence']=='missense_variant'].var_id.nunique()\n",
    "num_fluc_hits = fluc_hits.var_id.nunique()\n",
    "num_fluc_variants = fluc_all_var_annos_for_plot.var_id.nunique()\n",
    "fluc_table= np.array([[num_fluc_missense_hits,num_fluc_missense_variants-num_fluc_missense_hits],\n",
    "         [num_fluc_hits-num_fluc_missense_hits, num_fluc_variants-num_fluc_hits-num_fluc_missense_variants+num_fluc_missense_hits]])\n",
    "#correcting for four annotations multiple test correction\n",
    "odd_r,p = fisher_exact(fluc_table, 'two-sided')\n",
    "print(p*4)"
   ]
  },
  {
   "cell_type": "code",
   "execution_count": null,
   "metadata": {},
   "outputs": [],
   "source": [
    "#Calculating enrichment of missense annotation for cocl hits\n",
    "num_cocl_missense_hits = cocl_hit_annos_for_plot[cocl_hit_annos_for_plot['Consequence']=='missense_variant'].var_id.nunique()\n",
    "num_cocl_missense_variants = cocl_all_var_annos_for_plot[cocl_all_var_annos_for_plot['Consequence']=='missense_variant'].var_id.nunique()\n",
    "num_cocl_hits = cocl_hits.var_id.nunique()\n",
    "num_cocl_variants = cocl_all_var_annos_for_plot.var_id.nunique()\n",
    "cocl_table = np.array([[num_cocl_missense_hits,num_cocl_missense_variants-num_cocl_missense_hits],\n",
    "         [num_cocl_hits-num_cocl_missense_hits, num_cocl_variants-num_cocl_hits-num_cocl_missense_variants+num_cocl_missense_hits]])\n",
    "#correcting for four annotations multiple test correction\n",
    "odd_r,p = fisher_exact(cocl_table,'two-sided')\n",
    "print(p*4)"
   ]
  },
  {
   "cell_type": "code",
   "execution_count": null,
   "metadata": {},
   "outputs": [],
   "source": [
    "#Calculating enrichment of missense annotation for caffeine hits\n",
    "num_caff_missense_hits = caff_hit_var_annos_for_plot[caff_hit_var_annos_for_plot['Consequence']=='missense_variant'].var_id.nunique()\n",
    "num_caff_missense_variants = caff_all_var_annos_for_plot[caff_all_var_annos_for_plot['Consequence']=='missense_variant'].var_id.nunique()\n",
    "num_caff_hits = caff_hits.var_id.nunique()\n",
    "num_caff_variants = caff_all_var_annos_for_plot.var_id.nunique()\n",
    "caff_table = np.array([[num_caff_missense_hits,num_caff_missense_variants-num_caff_missense_hits],\n",
    "         [num_caff_hits-num_caff_missense_hits, num_caff_variants-num_caff_hits-num_caff_missense_variants+num_caff_missense_hits]])\n",
    "#correcting for four annotations multiple test correction\n",
    "odd_r, p  = fisher_exact(caff_table,'two-sided')\n",
    "print(p*4)"
   ]
  },
  {
   "cell_type": "code",
   "execution_count": null,
   "metadata": {},
   "outputs": [],
   "source": [
    "fluc_consequence_counts['Enrichment'] = fluc_consequence_counts['Hit Proportions']/fluc_consequence_counts['Library Proportions']\n",
    "caff_consequence_counts['Enrichment'] = caff_consequence_counts['Hit Proportions']/caff_consequence_counts['Library Proportions']\n",
    "cocl_consequence_counts['Enrichment'] = cocl_consequence_counts['Hit Proportions']/cocl_consequence_counts['Library Proportions']\n",
    "fig,ax = plt.subplots(figsize = (1.5,1.5))\n",
    "plt.rcParams['font.size'] = 7\n",
    "allconds = fluc_consequence_counts.merge(caff_consequence_counts, left_index=True, right_index=True, suffixes = ('fluc', 'caff')).merge(cocl_consequence_counts,left_index=True, right_index=True)\n",
    "allconds = allconds.filter(regex = 'Enrichment')\n",
    "allconds.loc[['synonymous_variant','missense_variant','upstream_gene_variant','downstream_gene_variant']].plot.bar(ax= ax)\n",
    "lgnd = plt.legend(['FLC', 'CAFF',r'CoCl$_2$'],  loc='upper right',handlelength=.5, handleheight=.5)\n",
    "\n",
    "plt.axhline(1, color = 'darkgrey',linestyle = 'dashed')\n",
    "plt.ylabel('Enrichment over Library')\n",
    "plt.xlabel('Variant Annotation')\n",
    "plt.xticks([0,1,2,3],[ 'Synonymous','Missense','Upstream','Downstream'], rotation = 45);\n",
    "plt.savefig('../GxE_Figures/Figure_2/figure2d_annotation_enrichments_fc.svg')"
   ]
  },
  {
   "cell_type": "code",
   "execution_count": null,
   "metadata": {},
   "outputs": [],
   "source": []
  },
  {
   "cell_type": "code",
   "execution_count": null,
   "metadata": {},
   "outputs": [],
   "source": []
  }
 ],
 "metadata": {
  "kernelspec": {
   "display_name": "CRISPEY_GxE",
   "language": "python",
   "name": "crispey_gxe"
  },
  "language_info": {
   "codemirror_mode": {
    "name": "ipython",
    "version": 3
   },
   "file_extension": ".py",
   "mimetype": "text/x-python",
   "name": "python",
   "nbconvert_exporter": "python",
   "pygments_lexer": "ipython3",
   "version": "3.9.7"
  },
  "toc": {
   "base_numbering": 1,
   "nav_menu": {},
   "number_sections": true,
   "sideBar": true,
   "skip_h1_title": false,
   "title_cell": "Table of Contents",
   "title_sidebar": "Contents",
   "toc_cell": false,
   "toc_position": {},
   "toc_section_display": true,
   "toc_window_display": false
  }
 },
 "nbformat": 4,
 "nbformat_minor": 2
}
