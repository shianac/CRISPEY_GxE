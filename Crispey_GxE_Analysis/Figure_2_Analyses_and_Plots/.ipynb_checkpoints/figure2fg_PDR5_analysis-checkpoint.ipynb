{
 "cells": [
  {
   "cell_type": "code",
   "execution_count": null,
   "metadata": {},
   "outputs": [],
   "source": [
    "import pandas as pd\n",
    "import matplotlib.pyplot as plt\n",
    "from matplotlib.patches import Rectangle\n",
    "%matplotlib inline\n",
    "\n",
    "#setting plot fonts\n",
    "plt.rcParams['font.family'] = 'Arial'\n",
    "plt.rcParams['font.size'] = 7"
   ]
  },
  {
   "cell_type": "code",
   "execution_count": null,
   "metadata": {},
   "outputs": [],
   "source": [
    "#getting annotations for PDR5 variants\n",
    "annos = pd.read_csv('../data_tables/QTL_pool_annotations.tsv',sep = '\\t')\n",
    "pdr5_annos =annos[annos['Gene']=='PDR5']"
   ]
  },
  {
   "cell_type": "code",
   "execution_count": null,
   "metadata": {},
   "outputs": [],
   "source": [
    "#getting fitness values for PDR5 variants\n",
    "pdr5_fit = pd.read_csv('../data_tables/Fitness_files/pdr5_fitness_FC.tsv',sep= '\\t')\n",
    "pdr5_fit = pdr5_fit.merge(pdr5_annos,'inner', 'var_id')"
   ]
  },
  {
   "cell_type": "code",
   "execution_count": null,
   "metadata": {},
   "outputs": [],
   "source": [
    "#setting line width\n",
    "plt.rcParams['lines.linewidth'] = .8\n",
    "fig,ax = plt.subplots(figsize=(2.75,2))\n",
    "\n",
    "\n",
    "#removing SC fitness values\n",
    "justcaff_and_fluc = pdr5_fit[pdr5_fit['condition'].isin(['CAFF','FLUC'])]\n",
    "justcaff = justcaff_and_fluc[justcaff_and_fluc['condition']=='CAFF']\n",
    "justfluc = justcaff_and_fluc[justcaff_and_fluc['condition']=='FLUC']\n",
    "\n",
    "#plotting lines connecting fitness values for the same variant in \n",
    "#caffeine and fluconazole\n",
    "for key,grp in justcaff_and_fluc.groupby('var_id'):\n",
    "    plt.plot(grp.SNP_chr_pos,grp.coef,label = key, color = 'black', alpha  =.4)\n",
    "    \n",
    "#plotting markers for caffeine and fluconazole fitness for each variant    \n",
    "fluc = ax.scatter(justfluc['SNP_chr_pos'],justfluc['coef'], marker = 'o', s = 3)\n",
    "caff = ax.scatter(justcaff['SNP_chr_pos'],justcaff['coef'], marker = 'o', s = 3)\n",
    "\n",
    "#defining patches to denote promoter/noncoding regions of PDR5\n",
    "prom = ax.axvspan(619000,619840, alpha = .2, facecolor = 'dimgrey')\n",
    "coding = ax.axvspan(619840,624375, alpha = .2, facecolor = 'white')\n",
    "ax.axvspan(624375,624800, alpha = .2, color = 'dimgrey')\n",
    "\n",
    "#creating rectangles to serve as markers for patches in the legend (otherwise the white patch will be blank)\n",
    "prom = Rectangle(xy = (0,0),width = 10,height = 5, facecolor = 'dimgrey', alpha = .2, edgecolor = 'black')\n",
    "coding = Rectangle(xy = (0,0),width = 10,height = 5, facecolor = 'white', alpha = .2, edgecolor = 'black')\n",
    "ax.set_xlim(619200,624800)\n",
    "#preventing overlapping x tick markers\n",
    "ax.locator_params(tight = True,axis=\"x\", nbins=3)\n",
    "lgnd = ax.legend([caff, fluc, prom, coding], ['CAFF', 'FLC','Noncoding','Coding'],loc='center left', bbox_to_anchor=(1, 0.5))\n",
    "#making legend markers larger for easier reading\n",
    "lgnd.legendHandles[0]._sizes = [20]\n",
    "lgnd.legendHandles[1]._sizes = [20]\n",
    "\n",
    "\n",
    "plt.xlabel('Genomic Coordinates (chr15)')\n",
    "plt.ylabel('Variant Fitness')\n",
    "plt.savefig('../GxE_Figures/Figure_2/figure2g_genomic_coords_PDR5_FC.svg')\n"
   ]
  },
  {
   "cell_type": "code",
   "execution_count": null,
   "metadata": {},
   "outputs": [],
   "source": [
    "#Generating ecological origins data for figure 2g"
   ]
  },
  {
   "cell_type": "code",
   "execution_count": null,
   "metadata": {},
   "outputs": [],
   "source": [
    "pdr5_fit[pdr5_fit['SNP_chr_pos'].isin([622657,622658])]"
   ]
  },
  {
   "cell_type": "code",
   "execution_count": null,
   "metadata": {},
   "outputs": [],
   "source": [
    "inf = pd.read_csv('../../1011_genome_info_var_ids.tsv',sep = '\\t')\n",
    "\n",
    "def f(l):\n",
    "    try:\n",
    "        return(sum([int(i)for i in l]))\n",
    "    except:\n",
    "        return(0)\n",
    "\n",
    "for col in inf.columns[14:]:\n",
    "    inf[col] = inf[col].str.split(':').str[0].str.split('/').apply(lambda x: f(x))\n",
    "\n",
    "inf.drop_duplicates(inplace = True)"
   ]
  },
  {
   "cell_type": "code",
   "execution_count": null,
   "metadata": {},
   "outputs": [],
   "source": [
    "eco = pd.read_excel('../data_tables/1011_genomes_suppdata.xls', header = 3)\n",
    "strains = eco['Standardized name'].dropna().tolist()\n",
    "strains.remove('ALT')\n",
    "def get_strains(pos):\n",
    "    counts = inf[inf['POS'] == pos].loc[:,strains].sum()\n",
    "    \n",
    "    return eco[eco['Standardized name'].isin(counts[counts!=0].index.tolist())]['Standardized name'].tolist()"
   ]
  },
  {
   "cell_type": "code",
   "execution_count": null,
   "metadata": {},
   "outputs": [],
   "source": [
    "eco[eco['Standardized name'].isin(get_strains(622657))]['Ecological origins'].value_counts()"
   ]
  },
  {
   "cell_type": "code",
   "execution_count": null,
   "metadata": {},
   "outputs": [],
   "source": [
    "eco[eco['Standardized name'].isin(get_strains(622658))]['Ecological origins'].value_counts()"
   ]
  },
  {
   "cell_type": "code",
   "execution_count": null,
   "metadata": {},
   "outputs": [],
   "source": []
  }
 ],
 "metadata": {
  "kernelspec": {
   "display_name": "CRISPEY_GxE",
   "language": "python",
   "name": "crispey_gxe"
  },
  "language_info": {
   "codemirror_mode": {
    "name": "ipython",
    "version": 3
   },
   "file_extension": ".py",
   "mimetype": "text/x-python",
   "name": "python",
   "nbconvert_exporter": "python",
   "pygments_lexer": "ipython3",
   "version": "3.9.7"
  },
  "toc": {
   "base_numbering": 1,
   "nav_menu": {},
   "number_sections": true,
   "sideBar": true,
   "skip_h1_title": false,
   "title_cell": "Table of Contents",
   "title_sidebar": "Contents",
   "toc_cell": false,
   "toc_position": {},
   "toc_section_display": true,
   "toc_window_display": false
  }
 },
 "nbformat": 4,
 "nbformat_minor": 2
}
