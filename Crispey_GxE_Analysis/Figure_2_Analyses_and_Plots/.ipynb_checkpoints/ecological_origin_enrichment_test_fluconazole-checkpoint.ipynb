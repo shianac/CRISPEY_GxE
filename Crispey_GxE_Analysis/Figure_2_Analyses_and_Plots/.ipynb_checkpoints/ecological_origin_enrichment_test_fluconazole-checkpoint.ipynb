{
 "cells": [
  {
   "cell_type": "code",
   "execution_count": null,
   "metadata": {},
   "outputs": [],
   "source": [
    "import pandas as pd\n",
    "import numpy as np\n",
    "from scipy.stats import hypergeom\n",
    "\n",
    "OLIGO_TABLE_PATH = '../data_tables/oligos_nonuniq_crispey3_GG_9bp_OLIGO_with_seq_primers.txt'\n",
    "oli_info = pd.read_csv(OLIGO_TABLE_PATH,'\\t')"
   ]
  },
  {
   "cell_type": "code",
   "execution_count": null,
   "metadata": {},
   "outputs": [],
   "source": [
    "annos = pd.read_csv('../data_tables/QTL_pool_annotations.tsv',sep = '\\t')\n",
    "#loading in assignment of each well to each library\n",
    "libraries= pd.read_excel('../data_tables/crispey3_libraries_by_pool_number.xlsx')\n",
    "\n",
    "\n",
    "qtl_list = pd.read_csv('../data_tables/qtl_list.tsv', sep= '\\t')\n",
    "#getting single gene QTLs for relevant conditions\n",
    "targeted_genes = qtl_list[qtl_list['trait'].isin(['Caffeine;15mM;2','Fluconazole;100uM;2','Cobalt_Chloride;2mM;2'])]['Gene ID'].unique().tolist()\n",
    "\n",
    "#variants in coding regions have distance of 0 to the closest gene\n",
    "annos.loc[annos['DISTANCE']=='-', 'DISTANCE'] = 0\n",
    "annos = annos[annos['Gene'].isin(targeted_genes)]\n",
    "#for noncoding variants, keeping the one with the shortest distance to a gene within the set of targeted genes\n",
    "annos['DISTANCE'] = annos['DISTANCE'].astype(int)\n",
    "annos = annos[annos['Gene']!='-']\n",
    "annos['mindist'] =annos.groupby('var_id')['DISTANCE'].transform('min')\n",
    "annos = annos[(annos['DISTANCE']==annos['mindist'])]"
   ]
  },
  {
   "cell_type": "code",
   "execution_count": null,
   "metadata": {},
   "outputs": [],
   "source": [
    "pool9 = pd.read_csv('../data_tables/Fitness_files/pool9_fitness_fc.tsv', sep = '\\t')\n",
    "anno_pool9 = annos.merge(pool9, 'inner', 'var_id')\n",
    "fluc = anno_pool9[anno_pool9['condition']=='FLUC']"
   ]
  },
  {
   "cell_type": "code",
   "execution_count": null,
   "metadata": {},
   "outputs": [],
   "source": [
    "eco = pd.read_excel('../data_tables/1011_genomes_suppdata.xls', header = 3)\n",
    "strains = eco['Standardized name'].dropna().tolist()\n",
    "strains.remove('ALT')\n",
    "def get_strains(pos):\n",
    "    counts = inf[inf['POS'] == pos].loc[:,strains].sum()\n",
    "    \n",
    "    return eco[eco['Standardized name'].isin(counts[counts!=0].index.tolist())]['Standardized name'].tolist()\n",
    "inf = pd.read_csv('../data_tables/1011_genome_info_var_ids.tsv', sep='\\t')\n",
    "\n",
    "def f(l):\n",
    "    try:\n",
    "        i = sum([int(i)for i in l])\n",
    "        if i>0:\n",
    "            return 1\n",
    "        return 0\n",
    "    except:\n",
    "        return 0 \n",
    "\n",
    "for col in strains:\n",
    "    inf[col] = inf[col].str.split(':').str[0].str.split('/').apply(lambda x: f(x))\n",
    "\n",
    "inf.drop_duplicates(inplace = True)\n"
   ]
  },
  {
   "cell_type": "code",
   "execution_count": null,
   "metadata": {},
   "outputs": [],
   "source": [
    "human_strains = eco[eco['Ecological origins'].isin(['Human','Human, clinical'])]['Standardized name'].unique().tolist()"
   ]
  },
  {
   "cell_type": "code",
   "execution_count": null,
   "metadata": {},
   "outputs": [],
   "source": [
    "fluc_hits= fluc[(fluc['padj']<=.01)]"
   ]
  },
  {
   "cell_type": "code",
   "execution_count": null,
   "metadata": {},
   "outputs": [],
   "source": [
    "pos_fluc_hits = fluc_hits[fluc_hits['coef']>0][['var_id','coef','chrom','SNP_chr_pos', 'padj','ALT']].drop_duplicates()\n",
    "neg_fluc_hits = fluc_hits[fluc_hits['coef']<0][['var_id','coef','chrom','SNP_chr_pos', 'padj','ALT']].drop_duplicates()"
   ]
  },
  {
   "cell_type": "code",
   "execution_count": null,
   "metadata": {},
   "outputs": [],
   "source": [
    "positive_count = (pos_fluc_hits.drop([1614,1618]).merge(inf, 'inner', on = 'var_id').loc[:,strains]>0).sum()\n",
    "negative_count = (neg_fluc_hits.merge(inf, 'inner', on = 'var_id').loc[:,strains]>0).sum()"
   ]
  },
  {
   "cell_type": "code",
   "execution_count": null,
   "metadata": {},
   "outputs": [],
   "source": [
    "score = positive_count+neg_fluc_hits['var_id'].nunique()-negative_count"
   ]
  },
  {
   "cell_type": "code",
   "execution_count": null,
   "metadata": {},
   "outputs": [],
   "source": [
    "eco[eco['Standardized name'].isin([i for i in score.sort_values(ascending = False).iloc[:100].index if i in human_strains])]['Clades'].nunique()"
   ]
  },
  {
   "cell_type": "code",
   "execution_count": null,
   "metadata": {},
   "outputs": [],
   "source": [
    "len([i for i in score.sort_values(ascending = False).iloc[:100].index if i in human_strains])"
   ]
  },
  {
   "cell_type": "code",
   "execution_count": null,
   "metadata": {},
   "outputs": [],
   "source": [
    "hypergeom.sf(40, 1010, len(hums),100)*2"
   ]
  },
  {
   "cell_type": "code",
   "execution_count": null,
   "metadata": {},
   "outputs": [],
   "source": []
  }
 ],
 "metadata": {
  "kernelspec": {
   "display_name": "CRISPEY_GxE",
   "language": "python",
   "name": "crispey_gxe"
  },
  "language_info": {
   "codemirror_mode": {
    "name": "ipython",
    "version": 3
   },
   "file_extension": ".py",
   "mimetype": "text/x-python",
   "name": "python",
   "nbconvert_exporter": "python",
   "pygments_lexer": "ipython3",
   "version": "3.9.7"
  },
  "toc": {
   "base_numbering": 1,
   "nav_menu": {},
   "number_sections": true,
   "sideBar": true,
   "skip_h1_title": false,
   "title_cell": "Table of Contents",
   "title_sidebar": "Contents",
   "toc_cell": false,
   "toc_position": {},
   "toc_section_display": true,
   "toc_window_display": false
  }
 },
 "nbformat": 4,
 "nbformat_minor": 2
}
