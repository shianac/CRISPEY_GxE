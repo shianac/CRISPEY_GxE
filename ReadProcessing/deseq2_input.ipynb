{
 "cells": [
  {
   "cell_type": "code",
   "execution_count": 1,
   "metadata": {},
   "outputs": [],
   "source": [
    "import os\n",
    "import errno\n",
    "import gzip\n",
    "import pandas as pd\n",
    "import numpy as np\n",
    "import matplotlib.pyplot as plt"
   ]
  },
  {
   "cell_type": "markdown",
   "metadata": {},
   "source": [
    "# inputs"
   ]
  },
  {
   "cell_type": "code",
   "execution_count": 2,
   "metadata": {},
   "outputs": [],
   "source": [
    "work_dir = './test_read_processing/'\n",
    "data_dir = './test_data/'\n",
    "COUNTS_PATH = 'mapped_counts_with_umi.tsv'\n",
    "SAMPLE_TABLE_PATH = data_dir + 'TEST_SAMPLE_INFO.tsv'\n",
    "POOL_TABLE_PATH = data_dir + 'pool_assignment.xlsx'"
   ]
  },
  {
   "cell_type": "markdown",
   "metadata": {},
   "source": [
    "# outputs"
   ]
  },
  {
   "cell_type": "code",
   "execution_count": 3,
   "metadata": {},
   "outputs": [],
   "source": [
    "POOL = 'P1'\n",
    "CONDS = ['SCM']\n",
    "POOL_DESIGN = 'ergosterol'"
   ]
  },
  {
   "cell_type": "markdown",
   "metadata": {},
   "source": [
    "# load pool well numbers"
   ]
  },
  {
   "cell_type": "code",
   "execution_count": 4,
   "metadata": {},
   "outputs": [],
   "source": [
    "pool_dict = pd.read_excel(POOL_TABLE_PATH).to_dict(orient='list')\n",
    "well_list = [x for x in pool_dict[POOL_DESIGN] if x>0]\n",
    "well_list.append(192)"
   ]
  },
  {
   "cell_type": "markdown",
   "metadata": {},
   "source": [
    "# generate paired samplesheet and counts file for deseq2"
   ]
  },
  {
   "cell_type": "code",
   "execution_count": 5,
   "metadata": {},
   "outputs": [],
   "source": [
    "def deseq_input(COUNTS_PATH,SAMPLE_TABLE_PATH,POOL,COND):\n",
    "    # output files\n",
    "    DESEQ2_COUNTS = work_dir + 'DESEQ2_COUNTS_' + POOL + '_' + COND + '.tsv'\n",
    "    DESEQ2_COUNTS_STACKED = work_dir + 'DESEQ2_STACKED_COUNTS_' + POOL + '_' + COND + '.tsv'\n",
    "    DESEQ2_SAMPLES = work_dir + 'DESEQ2_SAMPLES_' + POOL + '_' + COND + '.tsv'\n",
    "    # load counts table\n",
    "    all_counts=pd.read_csv(COUNTS_PATH, sep = '\\t', index_col='oligo_name').filter(regex='('+ POOL + '_' + COND +')')\n",
    "    all_counts.columns = [x.rstrip('_counts') for x in all_counts.columns]\n",
    "    # filter oligos by wells in pool\n",
    "    all_counts['full_oligo_name']=all_counts.index\n",
    "    all_counts['well'] = all_counts['full_oligo_name'].str.split('_', expand=True).iloc[:,1:2].astype('int')\n",
    "    all_counts = all_counts[all_counts['well'].isin(well_list)]\n",
    "    all_counts = all_counts.drop(['well','full_oligo_name'],axis=1)\n",
    "\n",
    "    # write counts at UMI level\n",
    "    all_counts.to_csv(DESEQ2_COUNTS, sep='\\t')\n",
    "\n",
    "    # collapse barcodes to oligo level\n",
    "    stacked_counts = all_counts.reset_index()\n",
    "    stacked_counts['oligo_name'] = stacked_counts['oligo_name'].str.split('_',expand=True,n=3).iloc[:,1:3].agg('_'.join, axis=1)\n",
    "    stacked_counts = stacked_counts.groupby('oligo_name', sort=False).agg('sum')\n",
    "    # write counts at oligo level\n",
    "    stacked_counts.to_csv(DESEQ2_COUNTS_STACKED, sep='\\t')\n",
    "\n",
    "    # load sample generation time table\n",
    "    sample_table=pd.read_csv(SAMPLE_TABLE_PATH, sep = '\\t').iloc[:,:5]\n",
    "    sample_table = sample_table[sample_table['COND']==COND]\n",
    "    sample_table.index = sample_table[['POOL','COND','TIMEPOINT','FLASK']].agg('_'.join, axis=1)\n",
    "    #write sample information\n",
    "    sample_table.to_csv(DESEQ2_SAMPLES, sep='\\t')\n",
    "    return"
   ]
  },
  {
   "cell_type": "code",
   "execution_count": 6,
   "metadata": {},
   "outputs": [],
   "source": [
    "for COND in CONDS:\n",
    "    deseq_input(COUNTS_PATH,SAMPLE_TABLE_PATH,POOL,COND)"
   ]
  },
  {
   "cell_type": "code",
   "execution_count": null,
   "metadata": {},
   "outputs": [],
   "source": []
  },
  {
   "cell_type": "code",
   "execution_count": null,
   "metadata": {},
   "outputs": [],
   "source": []
  }
 ],
 "metadata": {
  "kernelspec": {
   "display_name": "CRISPEY2",
   "language": "python",
   "name": "crispey2"
  },
  "language_info": {
   "codemirror_mode": {
    "name": "ipython",
    "version": 3
   },
   "file_extension": ".py",
   "mimetype": "text/x-python",
   "name": "python",
   "nbconvert_exporter": "python",
   "pygments_lexer": "ipython3",
   "version": "3.6.2"
  }
 },
 "nbformat": 4,
 "nbformat_minor": 2
}
