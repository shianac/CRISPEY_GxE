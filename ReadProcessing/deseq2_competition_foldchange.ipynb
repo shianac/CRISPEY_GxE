{
 "cells": [
  {
   "cell_type": "code",
   "execution_count": 1,
   "metadata": {},
   "outputs": [],
   "source": [
    "suppressMessages(library(\"DESeq2\"))\n",
    "suppressMessages(library(\"edgeR\"))"
   ]
  },
  {
   "cell_type": "code",
   "execution_count": 2,
   "metadata": {},
   "outputs": [],
   "source": [
    "conds = c('P1','SCM') # specify pool ID and condition for analysis\n",
    "flasks = c(\"F4\",\"F5\",\"F6\") # specify replicate flasks for analysis\n",
    "timepoints = c(\"T1\",\"T2\",\"T3\",\"T4\",\"T5\", \"T6\") # specify timepoints for analysis\n",
    "output_filename = 'competitiontime_umi_level.tsv'"
   ]
  },
  {
   "cell_type": "code",
   "execution_count": 3,
   "metadata": {},
   "outputs": [
    {
     "name": "stdout",
     "output_type": "stream",
     "text": [
      "[1] \"input files:\"\n",
      "[1] \"./test_read_processing/DESEQ2_SAMPLES_P1_SCM.tsv\"\n",
      "[1] \"./test_read_processing/DESEQ2_COUNTS_P1_SCM.tsv\"\n"
     ]
    }
   ],
   "source": [
    "# parameters\n",
    "output_dir = './test_read_processing/'\n",
    "input_dir = './test_read_processing/'\n",
    "input_samples_info_df_filename =paste(input_dir, \"DESEQ2_SAMPLES_\",paste(conds,collapse='_'), \".tsv\", sep=\"\")\n",
    "input_counts_df_filename = paste(input_dir, \"DESEQ2_COUNTS_\",paste(conds,collapse='_'), \".tsv\", sep=\"\")\n",
    "READS_NUM_CUTOFF = 50 # can be adjusted based on read depth per sample and number of # of barcodes and UMIs\n",
    "print(\"input files:\")\n",
    "print(input_samples_info_df_filename)\n",
    "print(input_counts_df_filename)\n",
    "\n",
    "samples <- read.table(input_samples_info_df_filename , header=TRUE, na.strings = \"\", sep='\\t', row.names=1)\n",
    "samples <- samples[grepl(paste(flasks,collapse=\"|\"), samples$FLASK),]\n",
    "samples <- samples[grepl(paste(timepoints,collapse=\"|\"), samples$TIMEPOINT),]\n",
    "samples$TIMEPOINT <- NULL\n",
    "\n",
    "samples <- samples[order(row.names(samples)), ]"
   ]
  },
  {
   "cell_type": "code",
   "execution_count": 4,
   "metadata": {},
   "outputs": [
    {
     "data": {
      "text/html": [
       "<table class=\"dataframe\">\n",
       "<caption>A data.frame: 18 × 4</caption>\n",
       "<thead>\n",
       "\t<tr><th></th><th scope=col>POOL</th><th scope=col>COND</th><th scope=col>FLASK</th><th scope=col>GENERATION</th></tr>\n",
       "\t<tr><th></th><th scope=col>&lt;fct&gt;</th><th scope=col>&lt;fct&gt;</th><th scope=col>&lt;fct&gt;</th><th scope=col>&lt;dbl&gt;</th></tr>\n",
       "</thead>\n",
       "<tbody>\n",
       "\t<tr><th scope=row>P1_SCM_T1_F4</th><td>P1</td><td>SCM</td><td>F4</td><td> 5.073472</td></tr>\n",
       "\t<tr><th scope=row>P1_SCM_T1_F5</th><td>P1</td><td>SCM</td><td>F5</td><td> 5.076816</td></tr>\n",
       "\t<tr><th scope=row>P1_SCM_T1_F6</th><td>P1</td><td>SCM</td><td>F6</td><td> 5.097222</td></tr>\n",
       "\t<tr><th scope=row>P1_SCM_T2_F4</th><td>P1</td><td>SCM</td><td>F4</td><td> 9.739355</td></tr>\n",
       "\t<tr><th scope=row>P1_SCM_T2_F5</th><td>P1</td><td>SCM</td><td>F5</td><td> 9.689740</td></tr>\n",
       "\t<tr><th scope=row>P1_SCM_T2_F6</th><td>P1</td><td>SCM</td><td>F6</td><td> 9.688451</td></tr>\n",
       "\t<tr><th scope=row>P1_SCM_T3_F4</th><td>P1</td><td>SCM</td><td>F4</td><td>15.085530</td></tr>\n",
       "\t<tr><th scope=row>P1_SCM_T3_F5</th><td>P1</td><td>SCM</td><td>F5</td><td>14.702672</td></tr>\n",
       "\t<tr><th scope=row>P1_SCM_T3_F6</th><td>P1</td><td>SCM</td><td>F6</td><td>14.897904</td></tr>\n",
       "\t<tr><th scope=row>P1_SCM_T4_F4</th><td>P1</td><td>SCM</td><td>F4</td><td>19.887451</td></tr>\n",
       "\t<tr><th scope=row>P1_SCM_T4_F5</th><td>P1</td><td>SCM</td><td>F5</td><td>19.467544</td></tr>\n",
       "\t<tr><th scope=row>P1_SCM_T4_F6</th><td>P1</td><td>SCM</td><td>F6</td><td>19.761491</td></tr>\n",
       "\t<tr><th scope=row>P1_SCM_T5_F4</th><td>P1</td><td>SCM</td><td>F4</td><td>24.715565</td></tr>\n",
       "\t<tr><th scope=row>P1_SCM_T5_F5</th><td>P1</td><td>SCM</td><td>F5</td><td>24.213762</td></tr>\n",
       "\t<tr><th scope=row>P1_SCM_T5_F6</th><td>P1</td><td>SCM</td><td>F6</td><td>24.501031</td></tr>\n",
       "\t<tr><th scope=row>P1_SCM_T6_F4</th><td>P1</td><td>SCM</td><td>F4</td><td>29.390628</td></tr>\n",
       "\t<tr><th scope=row>P1_SCM_T6_F5</th><td>P1</td><td>SCM</td><td>F5</td><td>28.807826</td></tr>\n",
       "\t<tr><th scope=row>P1_SCM_T6_F6</th><td>P1</td><td>SCM</td><td>F6</td><td>28.917195</td></tr>\n",
       "</tbody>\n",
       "</table>\n"
      ],
      "text/latex": [
       "A data.frame: 18 × 4\n",
       "\\begin{tabular}{r|llll}\n",
       "  & POOL & COND & FLASK & GENERATION\\\\\n",
       "  & <fct> & <fct> & <fct> & <dbl>\\\\\n",
       "\\hline\n",
       "\tP1\\_SCM\\_T1\\_F4 & P1 & SCM & F4 &  5.073472\\\\\n",
       "\tP1\\_SCM\\_T1\\_F5 & P1 & SCM & F5 &  5.076816\\\\\n",
       "\tP1\\_SCM\\_T1\\_F6 & P1 & SCM & F6 &  5.097222\\\\\n",
       "\tP1\\_SCM\\_T2\\_F4 & P1 & SCM & F4 &  9.739355\\\\\n",
       "\tP1\\_SCM\\_T2\\_F5 & P1 & SCM & F5 &  9.689740\\\\\n",
       "\tP1\\_SCM\\_T2\\_F6 & P1 & SCM & F6 &  9.688451\\\\\n",
       "\tP1\\_SCM\\_T3\\_F4 & P1 & SCM & F4 & 15.085530\\\\\n",
       "\tP1\\_SCM\\_T3\\_F5 & P1 & SCM & F5 & 14.702672\\\\\n",
       "\tP1\\_SCM\\_T3\\_F6 & P1 & SCM & F6 & 14.897904\\\\\n",
       "\tP1\\_SCM\\_T4\\_F4 & P1 & SCM & F4 & 19.887451\\\\\n",
       "\tP1\\_SCM\\_T4\\_F5 & P1 & SCM & F5 & 19.467544\\\\\n",
       "\tP1\\_SCM\\_T4\\_F6 & P1 & SCM & F6 & 19.761491\\\\\n",
       "\tP1\\_SCM\\_T5\\_F4 & P1 & SCM & F4 & 24.715565\\\\\n",
       "\tP1\\_SCM\\_T5\\_F5 & P1 & SCM & F5 & 24.213762\\\\\n",
       "\tP1\\_SCM\\_T5\\_F6 & P1 & SCM & F6 & 24.501031\\\\\n",
       "\tP1\\_SCM\\_T6\\_F4 & P1 & SCM & F4 & 29.390628\\\\\n",
       "\tP1\\_SCM\\_T6\\_F5 & P1 & SCM & F5 & 28.807826\\\\\n",
       "\tP1\\_SCM\\_T6\\_F6 & P1 & SCM & F6 & 28.917195\\\\\n",
       "\\end{tabular}\n"
      ],
      "text/markdown": [
       "\n",
       "A data.frame: 18 × 4\n",
       "\n",
       "| <!--/--> | POOL &lt;fct&gt; | COND &lt;fct&gt; | FLASK &lt;fct&gt; | GENERATION &lt;dbl&gt; |\n",
       "|---|---|---|---|---|\n",
       "| P1_SCM_T1_F4 | P1 | SCM | F4 |  5.073472 |\n",
       "| P1_SCM_T1_F5 | P1 | SCM | F5 |  5.076816 |\n",
       "| P1_SCM_T1_F6 | P1 | SCM | F6 |  5.097222 |\n",
       "| P1_SCM_T2_F4 | P1 | SCM | F4 |  9.739355 |\n",
       "| P1_SCM_T2_F5 | P1 | SCM | F5 |  9.689740 |\n",
       "| P1_SCM_T2_F6 | P1 | SCM | F6 |  9.688451 |\n",
       "| P1_SCM_T3_F4 | P1 | SCM | F4 | 15.085530 |\n",
       "| P1_SCM_T3_F5 | P1 | SCM | F5 | 14.702672 |\n",
       "| P1_SCM_T3_F6 | P1 | SCM | F6 | 14.897904 |\n",
       "| P1_SCM_T4_F4 | P1 | SCM | F4 | 19.887451 |\n",
       "| P1_SCM_T4_F5 | P1 | SCM | F5 | 19.467544 |\n",
       "| P1_SCM_T4_F6 | P1 | SCM | F6 | 19.761491 |\n",
       "| P1_SCM_T5_F4 | P1 | SCM | F4 | 24.715565 |\n",
       "| P1_SCM_T5_F5 | P1 | SCM | F5 | 24.213762 |\n",
       "| P1_SCM_T5_F6 | P1 | SCM | F6 | 24.501031 |\n",
       "| P1_SCM_T6_F4 | P1 | SCM | F4 | 29.390628 |\n",
       "| P1_SCM_T6_F5 | P1 | SCM | F5 | 28.807826 |\n",
       "| P1_SCM_T6_F6 | P1 | SCM | F6 | 28.917195 |\n",
       "\n"
      ],
      "text/plain": [
       "             POOL COND FLASK GENERATION\n",
       "P1_SCM_T1_F4 P1   SCM  F4     5.073472 \n",
       "P1_SCM_T1_F5 P1   SCM  F5     5.076816 \n",
       "P1_SCM_T1_F6 P1   SCM  F6     5.097222 \n",
       "P1_SCM_T2_F4 P1   SCM  F4     9.739355 \n",
       "P1_SCM_T2_F5 P1   SCM  F5     9.689740 \n",
       "P1_SCM_T2_F6 P1   SCM  F6     9.688451 \n",
       "P1_SCM_T3_F4 P1   SCM  F4    15.085530 \n",
       "P1_SCM_T3_F5 P1   SCM  F5    14.702672 \n",
       "P1_SCM_T3_F6 P1   SCM  F6    14.897904 \n",
       "P1_SCM_T4_F4 P1   SCM  F4    19.887451 \n",
       "P1_SCM_T4_F5 P1   SCM  F5    19.467544 \n",
       "P1_SCM_T4_F6 P1   SCM  F6    19.761491 \n",
       "P1_SCM_T5_F4 P1   SCM  F4    24.715565 \n",
       "P1_SCM_T5_F5 P1   SCM  F5    24.213762 \n",
       "P1_SCM_T5_F6 P1   SCM  F6    24.501031 \n",
       "P1_SCM_T6_F4 P1   SCM  F4    29.390628 \n",
       "P1_SCM_T6_F5 P1   SCM  F5    28.807826 \n",
       "P1_SCM_T6_F6 P1   SCM  F6    28.917195 "
      ]
     },
     "metadata": {},
     "output_type": "display_data"
    }
   ],
   "source": [
    "samples"
   ]
  },
  {
   "cell_type": "code",
   "execution_count": 5,
   "metadata": {},
   "outputs": [],
   "source": [
    "# loading oligo counts\n",
    "sample_counts <- read.csv(input_counts_df_filename , header=TRUE, na.strings = \"\", sep='\\t', row.names=1)\n",
    "sample_counts <- sample_counts[ ,grep(paste(timepoints,collapse=\"|\"), names(sample_counts))]\n",
    "sample_counts <- sample_counts[ ,grep(paste(flasks,collapse=\"|\"), names(sample_counts))]\n",
    "sample_counts <- sample_counts[ , order(names(sample_counts))]"
   ]
  },
  {
   "cell_type": "code",
   "execution_count": 6,
   "metadata": {},
   "outputs": [
    {
     "data": {
      "text/html": [
       "<table class=\"dataframe\">\n",
       "<caption>A data.frame: 6 × 18</caption>\n",
       "<thead>\n",
       "\t<tr><th></th><th scope=col>P1_SCM_T1_F4</th><th scope=col>P1_SCM_T1_F5</th><th scope=col>P1_SCM_T1_F6</th><th scope=col>P1_SCM_T2_F4</th><th scope=col>P1_SCM_T2_F5</th><th scope=col>P1_SCM_T2_F6</th><th scope=col>P1_SCM_T3_F4</th><th scope=col>P1_SCM_T3_F5</th><th scope=col>P1_SCM_T3_F6</th><th scope=col>P1_SCM_T4_F4</th><th scope=col>P1_SCM_T4_F5</th><th scope=col>P1_SCM_T4_F6</th><th scope=col>P1_SCM_T5_F4</th><th scope=col>P1_SCM_T5_F5</th><th scope=col>P1_SCM_T5_F6</th><th scope=col>P1_SCM_T6_F4</th><th scope=col>P1_SCM_T6_F5</th><th scope=col>P1_SCM_T6_F6</th></tr>\n",
       "\t<tr><th></th><th scope=col>&lt;dbl&gt;</th><th scope=col>&lt;dbl&gt;</th><th scope=col>&lt;dbl&gt;</th><th scope=col>&lt;dbl&gt;</th><th scope=col>&lt;dbl&gt;</th><th scope=col>&lt;dbl&gt;</th><th scope=col>&lt;dbl&gt;</th><th scope=col>&lt;dbl&gt;</th><th scope=col>&lt;dbl&gt;</th><th scope=col>&lt;dbl&gt;</th><th scope=col>&lt;dbl&gt;</th><th scope=col>&lt;dbl&gt;</th><th scope=col>&lt;dbl&gt;</th><th scope=col>&lt;dbl&gt;</th><th scope=col>&lt;dbl&gt;</th><th scope=col>&lt;dbl&gt;</th><th scope=col>&lt;dbl&gt;</th><th scope=col>&lt;dbl&gt;</th></tr>\n",
       "</thead>\n",
       "<tbody>\n",
       "\t<tr><th scope=row>ergosterol_001_001_UMI_1</th><td>1</td><td>0</td><td>0</td><td>1</td><td>1</td><td>0</td><td>1</td><td>1</td><td>0</td><td>1</td><td>1</td><td>0</td><td>0</td><td>1</td><td>0</td><td>0</td><td>0</td><td>0</td></tr>\n",
       "\t<tr><th scope=row>ergosterol_001_001_UMI_2</th><td>0</td><td>0</td><td>0</td><td>0</td><td>0</td><td>0</td><td>0</td><td>0</td><td>0</td><td>0</td><td>0</td><td>0</td><td>0</td><td>0</td><td>0</td><td>0</td><td>0</td><td>0</td></tr>\n",
       "\t<tr><th scope=row>ergosterol_001_001_UMI_4</th><td>0</td><td>0</td><td>0</td><td>1</td><td>0</td><td>0</td><td>0</td><td>1</td><td>1</td><td>1</td><td>0</td><td>0</td><td>0</td><td>0</td><td>0</td><td>0</td><td>0</td><td>0</td></tr>\n",
       "\t<tr><th scope=row>ergosterol_001_001_UMI_6</th><td>1</td><td>0</td><td>0</td><td>0</td><td>0</td><td>0</td><td>0</td><td>0</td><td>0</td><td>0</td><td>0</td><td>0</td><td>0</td><td>0</td><td>0</td><td>0</td><td>0</td><td>0</td></tr>\n",
       "\t<tr><th scope=row>ergosterol_001_001_UMI_13</th><td>0</td><td>0</td><td>0</td><td>0</td><td>0</td><td>0</td><td>0</td><td>0</td><td>0</td><td>0</td><td>0</td><td>0</td><td>0</td><td>0</td><td>0</td><td>0</td><td>0</td><td>0</td></tr>\n",
       "\t<tr><th scope=row>ergosterol_001_001_UMI_14</th><td>0</td><td>0</td><td>0</td><td>0</td><td>0</td><td>0</td><td>0</td><td>0</td><td>0</td><td>0</td><td>0</td><td>0</td><td>0</td><td>0</td><td>0</td><td>0</td><td>0</td><td>0</td></tr>\n",
       "</tbody>\n",
       "</table>\n"
      ],
      "text/latex": [
       "A data.frame: 6 × 18\n",
       "\\begin{tabular}{r|llllllllllllllllll}\n",
       "  & P1\\_SCM\\_T1\\_F4 & P1\\_SCM\\_T1\\_F5 & P1\\_SCM\\_T1\\_F6 & P1\\_SCM\\_T2\\_F4 & P1\\_SCM\\_T2\\_F5 & P1\\_SCM\\_T2\\_F6 & P1\\_SCM\\_T3\\_F4 & P1\\_SCM\\_T3\\_F5 & P1\\_SCM\\_T3\\_F6 & P1\\_SCM\\_T4\\_F4 & P1\\_SCM\\_T4\\_F5 & P1\\_SCM\\_T4\\_F6 & P1\\_SCM\\_T5\\_F4 & P1\\_SCM\\_T5\\_F5 & P1\\_SCM\\_T5\\_F6 & P1\\_SCM\\_T6\\_F4 & P1\\_SCM\\_T6\\_F5 & P1\\_SCM\\_T6\\_F6\\\\\n",
       "  & <dbl> & <dbl> & <dbl> & <dbl> & <dbl> & <dbl> & <dbl> & <dbl> & <dbl> & <dbl> & <dbl> & <dbl> & <dbl> & <dbl> & <dbl> & <dbl> & <dbl> & <dbl>\\\\\n",
       "\\hline\n",
       "\tergosterol\\_001\\_001\\_UMI\\_1 & 1 & 0 & 0 & 1 & 1 & 0 & 1 & 1 & 0 & 1 & 1 & 0 & 0 & 1 & 0 & 0 & 0 & 0\\\\\n",
       "\tergosterol\\_001\\_001\\_UMI\\_2 & 0 & 0 & 0 & 0 & 0 & 0 & 0 & 0 & 0 & 0 & 0 & 0 & 0 & 0 & 0 & 0 & 0 & 0\\\\\n",
       "\tergosterol\\_001\\_001\\_UMI\\_4 & 0 & 0 & 0 & 1 & 0 & 0 & 0 & 1 & 1 & 1 & 0 & 0 & 0 & 0 & 0 & 0 & 0 & 0\\\\\n",
       "\tergosterol\\_001\\_001\\_UMI\\_6 & 1 & 0 & 0 & 0 & 0 & 0 & 0 & 0 & 0 & 0 & 0 & 0 & 0 & 0 & 0 & 0 & 0 & 0\\\\\n",
       "\tergosterol\\_001\\_001\\_UMI\\_13 & 0 & 0 & 0 & 0 & 0 & 0 & 0 & 0 & 0 & 0 & 0 & 0 & 0 & 0 & 0 & 0 & 0 & 0\\\\\n",
       "\tergosterol\\_001\\_001\\_UMI\\_14 & 0 & 0 & 0 & 0 & 0 & 0 & 0 & 0 & 0 & 0 & 0 & 0 & 0 & 0 & 0 & 0 & 0 & 0\\\\\n",
       "\\end{tabular}\n"
      ],
      "text/markdown": [
       "\n",
       "A data.frame: 6 × 18\n",
       "\n",
       "| <!--/--> | P1_SCM_T1_F4 &lt;dbl&gt; | P1_SCM_T1_F5 &lt;dbl&gt; | P1_SCM_T1_F6 &lt;dbl&gt; | P1_SCM_T2_F4 &lt;dbl&gt; | P1_SCM_T2_F5 &lt;dbl&gt; | P1_SCM_T2_F6 &lt;dbl&gt; | P1_SCM_T3_F4 &lt;dbl&gt; | P1_SCM_T3_F5 &lt;dbl&gt; | P1_SCM_T3_F6 &lt;dbl&gt; | P1_SCM_T4_F4 &lt;dbl&gt; | P1_SCM_T4_F5 &lt;dbl&gt; | P1_SCM_T4_F6 &lt;dbl&gt; | P1_SCM_T5_F4 &lt;dbl&gt; | P1_SCM_T5_F5 &lt;dbl&gt; | P1_SCM_T5_F6 &lt;dbl&gt; | P1_SCM_T6_F4 &lt;dbl&gt; | P1_SCM_T6_F5 &lt;dbl&gt; | P1_SCM_T6_F6 &lt;dbl&gt; |\n",
       "|---|---|---|---|---|---|---|---|---|---|---|---|---|---|---|---|---|---|---|\n",
       "| ergosterol_001_001_UMI_1 | 1 | 0 | 0 | 1 | 1 | 0 | 1 | 1 | 0 | 1 | 1 | 0 | 0 | 1 | 0 | 0 | 0 | 0 |\n",
       "| ergosterol_001_001_UMI_2 | 0 | 0 | 0 | 0 | 0 | 0 | 0 | 0 | 0 | 0 | 0 | 0 | 0 | 0 | 0 | 0 | 0 | 0 |\n",
       "| ergosterol_001_001_UMI_4 | 0 | 0 | 0 | 1 | 0 | 0 | 0 | 1 | 1 | 1 | 0 | 0 | 0 | 0 | 0 | 0 | 0 | 0 |\n",
       "| ergosterol_001_001_UMI_6 | 1 | 0 | 0 | 0 | 0 | 0 | 0 | 0 | 0 | 0 | 0 | 0 | 0 | 0 | 0 | 0 | 0 | 0 |\n",
       "| ergosterol_001_001_UMI_13 | 0 | 0 | 0 | 0 | 0 | 0 | 0 | 0 | 0 | 0 | 0 | 0 | 0 | 0 | 0 | 0 | 0 | 0 |\n",
       "| ergosterol_001_001_UMI_14 | 0 | 0 | 0 | 0 | 0 | 0 | 0 | 0 | 0 | 0 | 0 | 0 | 0 | 0 | 0 | 0 | 0 | 0 |\n",
       "\n"
      ],
      "text/plain": [
       "                          P1_SCM_T1_F4 P1_SCM_T1_F5 P1_SCM_T1_F6 P1_SCM_T2_F4\n",
       "ergosterol_001_001_UMI_1  1            0            0            1           \n",
       "ergosterol_001_001_UMI_2  0            0            0            0           \n",
       "ergosterol_001_001_UMI_4  0            0            0            1           \n",
       "ergosterol_001_001_UMI_6  1            0            0            0           \n",
       "ergosterol_001_001_UMI_13 0            0            0            0           \n",
       "ergosterol_001_001_UMI_14 0            0            0            0           \n",
       "                          P1_SCM_T2_F5 P1_SCM_T2_F6 P1_SCM_T3_F4 P1_SCM_T3_F5\n",
       "ergosterol_001_001_UMI_1  1            0            1            1           \n",
       "ergosterol_001_001_UMI_2  0            0            0            0           \n",
       "ergosterol_001_001_UMI_4  0            0            0            1           \n",
       "ergosterol_001_001_UMI_6  0            0            0            0           \n",
       "ergosterol_001_001_UMI_13 0            0            0            0           \n",
       "ergosterol_001_001_UMI_14 0            0            0            0           \n",
       "                          P1_SCM_T3_F6 P1_SCM_T4_F4 P1_SCM_T4_F5 P1_SCM_T4_F6\n",
       "ergosterol_001_001_UMI_1  0            1            1            0           \n",
       "ergosterol_001_001_UMI_2  0            0            0            0           \n",
       "ergosterol_001_001_UMI_4  1            1            0            0           \n",
       "ergosterol_001_001_UMI_6  0            0            0            0           \n",
       "ergosterol_001_001_UMI_13 0            0            0            0           \n",
       "ergosterol_001_001_UMI_14 0            0            0            0           \n",
       "                          P1_SCM_T5_F4 P1_SCM_T5_F5 P1_SCM_T5_F6 P1_SCM_T6_F4\n",
       "ergosterol_001_001_UMI_1  0            1            0            0           \n",
       "ergosterol_001_001_UMI_2  0            0            0            0           \n",
       "ergosterol_001_001_UMI_4  0            0            0            0           \n",
       "ergosterol_001_001_UMI_6  0            0            0            0           \n",
       "ergosterol_001_001_UMI_13 0            0            0            0           \n",
       "ergosterol_001_001_UMI_14 0            0            0            0           \n",
       "                          P1_SCM_T6_F5 P1_SCM_T6_F6\n",
       "ergosterol_001_001_UMI_1  0            0           \n",
       "ergosterol_001_001_UMI_2  0            0           \n",
       "ergosterol_001_001_UMI_4  0            0           \n",
       "ergosterol_001_001_UMI_6  0            0           \n",
       "ergosterol_001_001_UMI_13 0            0           \n",
       "ergosterol_001_001_UMI_14 0            0           "
      ]
     },
     "metadata": {},
     "output_type": "display_data"
    }
   ],
   "source": [
    "head(sample_counts)"
   ]
  },
  {
   "cell_type": "code",
   "execution_count": 7,
   "metadata": {},
   "outputs": [
    {
     "data": {
      "text/html": [
       "TRUE"
      ],
      "text/latex": [
       "TRUE"
      ],
      "text/markdown": [
       "TRUE"
      ],
      "text/plain": [
       "[1] TRUE"
      ]
     },
     "metadata": {},
     "output_type": "display_data"
    },
    {
     "data": {
      "text/html": [
       "TRUE"
      ],
      "text/latex": [
       "TRUE"
      ],
      "text/markdown": [
       "TRUE"
      ],
      "text/plain": [
       "[1] TRUE"
      ]
     },
     "metadata": {},
     "output_type": "display_data"
    }
   ],
   "source": [
    "\n",
    "### Check that sample names match in both files\n",
    "all(colnames(sample_counts) %in% rownames(samples))\n",
    "all(colnames(sample_counts) == rownames(samples))"
   ]
  },
  {
   "cell_type": "code",
   "execution_count": 8,
   "metadata": {},
   "outputs": [
    {
     "name": "stderr",
     "output_type": "stream",
     "text": [
      "estimating size factors\n",
      "\n",
      "estimating dispersions\n",
      "\n",
      "gene-wise dispersion estimates\n",
      "\n",
      "mean-dispersion relationship\n",
      "\n",
      "-- note: fitType='parametric', but the dispersion trend was not well captured by the\n",
      "   function: y = a/x + b, and a local regression fit was automatically substituted.\n",
      "   specify fitType='local' or 'mean' to avoid this message next time.\n",
      "\n",
      "final dispersion estimates\n",
      "\n",
      "fitting model and testing\n",
      "\n"
     ]
    },
    {
     "data": {
      "text/html": [
       "<style>\n",
       ".list-inline {list-style: none; margin:0; padding: 0}\n",
       ".list-inline>li {display: inline-block}\n",
       ".list-inline>li:not(:last-child)::after {content: \"\\00b7\"; padding: 0 .5ex}\n",
       "</style>\n",
       "<ol class=list-inline><li>'Intercept'</li><li>'GENERATION'</li><li>'FLASK_F5_vs_F4'</li><li>'FLASK_F6_vs_F4'</li></ol>\n"
      ],
      "text/latex": [
       "\\begin{enumerate*}\n",
       "\\item 'Intercept'\n",
       "\\item 'GENERATION'\n",
       "\\item 'FLASK\\_F5\\_vs\\_F4'\n",
       "\\item 'FLASK\\_F6\\_vs\\_F4'\n",
       "\\end{enumerate*}\n"
      ],
      "text/markdown": [
       "1. 'Intercept'\n",
       "2. 'GENERATION'\n",
       "3. 'FLASK_F5_vs_F4'\n",
       "4. 'FLASK_F6_vs_F4'\n",
       "\n",
       "\n"
      ],
      "text/plain": [
       "[1] \"Intercept\"      \"GENERATION\"     \"FLASK_F5_vs_F4\" \"FLASK_F6_vs_F4\""
      ]
     },
     "metadata": {},
     "output_type": "display_data"
    }
   ],
   "source": [
    "##########################################################################################################################\n",
    "# DESeq2 using all time points\n",
    "dge <- DGEList(counts=sample_counts)\n",
    "\n",
    "# filtering oligos with low read number\n",
    "isexpr <- (rowSums(dge$counts) >= READS_NUM_CUTOFF)\n",
    "\n",
    "dds <- suppressMessages(DESeq2::DESeqDataSetFromMatrix(countData = sample_counts[isexpr,],\n",
    "                              colData = samples,\n",
    "                              design= ~ GENERATION + FLASK))\n",
    "\n",
    "dds <- DESeq(dds)\n",
    "resultsNames(dds) # lists the coefficients\n",
    "res <- results(dds)"
   ]
  },
  {
   "cell_type": "code",
   "execution_count": 9,
   "metadata": {},
   "outputs": [
    {
     "data": {
      "image/png": "[encoded data removed]",
      "text/plain": [
       "Plot with title “”"
      ]
     },
     "metadata": {
      "image/png": {
       "height": 420,
       "width": 420
      }
     },
     "output_type": "display_data"
    }
   ],
   "source": [
    "res_gen <- results(dds, name=\"GENERATION\")\n",
    "write.table(res_gen, \n",
    "            file=paste(output_dir, \"deseq2_res_bar_\", paste(conds,collapse=\"_\"), \"_\", output_filename, sep=\"\"), \n",
    "            sep=\"\\t\", quote = FALSE,na = \"\", row.names=TRUE, col.names = TRUE)\n",
    "DESeq2::plotMA(res_gen, ylim=c(-0.5,0.5))"
   ]
  },
  {
   "cell_type": "code",
   "execution_count": 10,
   "metadata": {},
   "outputs": [
    {
     "data": {
      "text/plain": [
       "log2 fold change (MLE): GENERATION \n",
       "Wald test p-value: GENERATION \n",
       "DataFrame with 2373 rows and 6 columns\n",
       "                                 baseMean      log2FoldChange\n",
       "                                <numeric>           <numeric>\n",
       "ergosterol_001_008_UMI_4  2.6297330176854 0.00961150675656177\n",
       "ergosterol_001_008_UMI_6 2.66597694277709 -0.0122811060751145\n",
       "ergosterol_001_019_UMI_2 3.30189379284516 -0.0305052302772895\n",
       "ergosterol_001_019_UMI_6 3.22216672743157 -0.0290998376940595\n",
       "ergosterol_001_022_UMI_1 3.82798564309977 0.00160206946527796\n",
       "...                                   ...                 ...\n",
       "technical_192_092_UMI_4  2.79270273697923 -0.0199154636858057\n",
       "technical_192_092_UMI_6  2.70635151672165  0.0371340601495922\n",
       "technical_192_103_UMI_6  3.03829066617309  -0.011899966999926\n",
       "technical_192_108_UMI_4  3.95001767961251  0.0452335498718697\n",
       "technical_192_113_UMI_2  2.90923303518134 -0.0201006359195866\n",
       "                                      lfcSE               stat\n",
       "                                  <numeric>          <numeric>\n",
       "ergosterol_001_008_UMI_4 0.0299608867079691  0.320801812384454\n",
       "ergosterol_001_008_UMI_6 0.0301271621418559 -0.407642313513898\n",
       "ergosterol_001_019_UMI_2 0.0265377486958355  -1.14950332173718\n",
       "ergosterol_001_019_UMI_6 0.0264713954152055  -1.09929368050406\n",
       "ergosterol_001_022_UMI_1 0.0236000483655332 0.0678841602552692\n",
       "...                                     ...                ...\n",
       "technical_192_092_UMI_4  0.0285513625350595 -0.697531112967047\n",
       "technical_192_092_UMI_6  0.0415558707354483  0.893593600432387\n",
       "technical_192_103_UMI_6  0.0271478228348688 -0.438339644114725\n",
       "technical_192_108_UMI_4  0.0238189387804282   1.89905815237402\n",
       "technical_192_113_UMI_2  0.0278951711142648  -0.72057761672262\n",
       "                                     pvalue            padj\n",
       "                                  <numeric>       <numeric>\n",
       "ergosterol_001_008_UMI_4  0.748360585849465 0.9966682655687\n",
       "ergosterol_001_008_UMI_6  0.683536294466164 0.9966682655687\n",
       "ergosterol_001_019_UMI_2  0.250348497836023 0.9966682655687\n",
       "ergosterol_001_019_UMI_6  0.271639987929909 0.9966682655687\n",
       "ergosterol_001_022_UMI_1  0.945877847948988 0.9966682655687\n",
       "...                                     ...             ...\n",
       "technical_192_092_UMI_4   0.485470475339295 0.9966682655687\n",
       "technical_192_092_UMI_6   0.371539371641778 0.9966682655687\n",
       "technical_192_103_UMI_6   0.661140091705697 0.9966682655687\n",
       "technical_192_108_UMI_4  0.0575568304703743 0.9966682655687\n",
       "technical_192_113_UMI_2   0.471169429448282 0.9966682655687"
      ]
     },
     "metadata": {},
     "output_type": "display_data"
    }
   ],
   "source": [
    "res_gen"
   ]
  },
  {
   "cell_type": "code",
   "execution_count": null,
   "metadata": {},
   "outputs": [],
   "source": []
  },
  {
   "cell_type": "code",
   "execution_count": null,
   "metadata": {},
   "outputs": [],
   "source": []
  }
 ],
 "metadata": {
  "kernelspec": {
   "display_name": "R 3.6.1 (LMOD)",
   "language": "R",
   "name": "ir"
  },
  "language_info": {
   "codemirror_mode": "r",
   "file_extension": ".r",
   "mimetype": "text/x-r-source",
   "name": "R",
   "pygments_lexer": "r",
   "version": "3.6.1"
  }
 },
 "nbformat": 4,
 "nbformat_minor": 2
}
