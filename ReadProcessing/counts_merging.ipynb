{
 "cells": [
  {
   "cell_type": "code",
   "execution_count": 1,
   "metadata": {},
   "outputs": [],
   "source": [
    "import os\n",
    "import pandas as pd\n",
    "import numpy as np\n",
    "from functools import reduce\n",
    "import matplotlib.pyplot as plt"
   ]
  },
  {
   "cell_type": "markdown",
   "metadata": {},
   "source": [
    "# input/output"
   ]
  },
  {
   "cell_type": "code",
   "execution_count": 2,
   "metadata": {},
   "outputs": [],
   "source": [
    "#input\n",
    "# reads processed by nextflow pipeline \"ReadProcessing_Nextflow.config\"\n",
    "counts_dir = './test_read_processing/counts_withUMI/'\n",
    "# barcode design with SphI RE site and UMIs appended (ergosterol pool only)\n",
    "barcode_table = './test_data/barcode_table_with_6umi.tsv'\n",
    "# conditions (if more than one to be processed) as list\n",
    "conditions = ['SCM']\n",
    "#output\n",
    "# combined counts table for all reads\n",
    "counts_table = 'all_counts_umi.tsv'\n",
    "# combined counts table for all MAPPED reads\n",
    "mapped_counts = './mapped_counts_with_umi.tsv'"
   ]
  },
  {
   "cell_type": "code",
   "execution_count": 3,
   "metadata": {},
   "outputs": [],
   "source": [
    "# generate pandas DataFrame and export combined counts table \n",
    "all_counts_df = pd.DataFrame()\n",
    "counts_df_list = []\n",
    "for file_name in sorted(os.listdir(counts_dir)):\n",
    "    counts_file = pd.read_csv(counts_dir+file_name, sep='\\t', header=0, names=['index','barcode',file_name[:-4]]).iloc[:,1:]\n",
    "    counts_df_list.append(counts_file)\n",
    "all_counts_df = reduce(lambda x,y: pd.merge(x,y, on='barcode', how='outer'), counts_df_list).fillna(0)\n",
    "# filter or conditions for analysis\n",
    "all_counts_df = all_counts_df.filter(regex='(barcode|' + '|'.join(conditions) + ')', axis=1)\n",
    "all_counts_df.to_csv(counts_table, sep='\\t')"
   ]
  },
  {
   "cell_type": "code",
   "execution_count": 4,
   "metadata": {},
   "outputs": [
    {
     "data": {
      "text/plain": [
       "P1_SCM_T1_F4_counts    38503.0\n",
       "P1_SCM_T1_F5_counts    26891.0\n",
       "P1_SCM_T1_F6_counts    24749.0\n",
       "P1_SCM_T2_F4_counts    38789.0\n",
       "P1_SCM_T2_F5_counts    29706.0\n",
       "P1_SCM_T2_F6_counts    25393.0\n",
       "P1_SCM_T3_F4_counts    37532.0\n",
       "P1_SCM_T3_F5_counts    26969.0\n",
       "P1_SCM_T3_F6_counts    24598.0\n",
       "P1_SCM_T4_F4_counts    38754.0\n",
       "P1_SCM_T4_F5_counts    24152.0\n",
       "P1_SCM_T4_F6_counts    23773.0\n",
       "P1_SCM_T5_F4_counts    40565.0\n",
       "P1_SCM_T5_F5_counts    23916.0\n",
       "P1_SCM_T5_F6_counts    24611.0\n",
       "P1_SCM_T6_F4_counts    35319.0\n",
       "P1_SCM_T6_F5_counts    29732.0\n",
       "P1_SCM_T6_F6_counts    27268.0\n",
       "dtype: float64"
      ]
     },
     "execution_count": 4,
     "metadata": {},
     "output_type": "execute_result"
    }
   ],
   "source": [
    "# examine total counts for each sample\n",
    "all_counts_df.iloc[:,1:].sum()"
   ]
  },
  {
   "cell_type": "code",
   "execution_count": 5,
   "metadata": {},
   "outputs": [
    {
     "data": {
      "text/plain": [
       "29233"
      ]
     },
     "execution_count": 5,
     "metadata": {},
     "output_type": "execute_result"
    }
   ],
   "source": [
    "len(all_counts_df)"
   ]
  },
  {
   "cell_type": "markdown",
   "metadata": {},
   "source": [
    "# map perfect barcodes to barcode table"
   ]
  },
  {
   "cell_type": "code",
   "execution_count": 6,
   "metadata": {},
   "outputs": [],
   "source": [
    "# import barcode table for appending to map reads that exactly match designed barcodes and UMI\n",
    "barcode_table_df = pd.read_csv(barcode_table, sep='\\t').iloc[:,-2:]\n",
    "barcode_table_df.columns=['oligo_name','barcode']\n",
    "def reverse_complement(dna):\n",
    "    complement = {'A': 'T', 'C': 'G', 'G': 'C', 'T': 'A'}\n",
    "    return ''.join(complement[base] for base in reversed([b for b in dna]))\n",
    "barcode_table_df['barcode'] = barcode_table_df['barcode'].apply(reverse_complement)\n",
    "barcode_table_df['barcode_id'] = barcode_table_df['oligo_name'].str.split('_',expand=True)[1] + '_' + \\\n",
    "                                 barcode_table_df['oligo_name'].str.split('_',expand=True)[2]"
   ]
  },
  {
   "cell_type": "code",
   "execution_count": 7,
   "metadata": {},
   "outputs": [
    {
     "data": {
      "text/html": [
       "<div>\n",
       "<style scoped>\n",
       "    .dataframe tbody tr th:only-of-type {\n",
       "        vertical-align: middle;\n",
       "    }\n",
       "\n",
       "    .dataframe tbody tr th {\n",
       "        vertical-align: top;\n",
       "    }\n",
       "\n",
       "    .dataframe thead th {\n",
       "        text-align: right;\n",
       "    }\n",
       "</style>\n",
       "<table border=\"1\" class=\"dataframe\">\n",
       "  <thead>\n",
       "    <tr style=\"text-align: right;\">\n",
       "      <th></th>\n",
       "      <th>oligo_name</th>\n",
       "      <th>barcode</th>\n",
       "      <th>barcode_id</th>\n",
       "    </tr>\n",
       "  </thead>\n",
       "  <tbody>\n",
       "    <tr>\n",
       "      <th>0</th>\n",
       "      <td>ergosterol_001_001_UMI_1</td>\n",
       "      <td>GAGCCACATGCATGCTGTCAATGCGAT</td>\n",
       "      <td>001_001</td>\n",
       "    </tr>\n",
       "    <tr>\n",
       "      <th>1</th>\n",
       "      <td>ergosterol_001_001_UMI_2</td>\n",
       "      <td>TTGCCACAGGCATGCTGTCAATGCGAT</td>\n",
       "      <td>001_001</td>\n",
       "    </tr>\n",
       "    <tr>\n",
       "      <th>2</th>\n",
       "      <td>ergosterol_001_001_UMI_4</td>\n",
       "      <td>GATCCTCTGGCATGCTGTCAATGCGAT</td>\n",
       "      <td>001_001</td>\n",
       "    </tr>\n",
       "    <tr>\n",
       "      <th>3</th>\n",
       "      <td>ergosterol_001_001_UMI_6</td>\n",
       "      <td>AGTCCTCTAGCATGCTGTCAATGCGAT</td>\n",
       "      <td>001_001</td>\n",
       "    </tr>\n",
       "    <tr>\n",
       "      <th>4</th>\n",
       "      <td>ergosterol_001_001_UMI_13</td>\n",
       "      <td>GAATCACACGCATGCTGTCAATGCGAT</td>\n",
       "      <td>001_001</td>\n",
       "    </tr>\n",
       "    <tr>\n",
       "      <th>5</th>\n",
       "      <td>ergosterol_001_001_UMI_14</td>\n",
       "      <td>TTCACGCGTGCATGCTGTCAATGCGAT</td>\n",
       "      <td>001_001</td>\n",
       "    </tr>\n",
       "    <tr>\n",
       "      <th>6</th>\n",
       "      <td>ergosterol_001_002_UMI_1</td>\n",
       "      <td>GAGCCACATGCATGCGTTGTGTAGATT</td>\n",
       "      <td>001_002</td>\n",
       "    </tr>\n",
       "    <tr>\n",
       "      <th>7</th>\n",
       "      <td>ergosterol_001_002_UMI_2</td>\n",
       "      <td>TTGCCACAGGCATGCGTTGTGTAGATT</td>\n",
       "      <td>001_002</td>\n",
       "    </tr>\n",
       "    <tr>\n",
       "      <th>8</th>\n",
       "      <td>ergosterol_001_002_UMI_4</td>\n",
       "      <td>GATCCTCTGGCATGCGTTGTGTAGATT</td>\n",
       "      <td>001_002</td>\n",
       "    </tr>\n",
       "    <tr>\n",
       "      <th>9</th>\n",
       "      <td>ergosterol_001_002_UMI_6</td>\n",
       "      <td>AGTCCTCTAGCATGCGTTGTGTAGATT</td>\n",
       "      <td>001_002</td>\n",
       "    </tr>\n",
       "    <tr>\n",
       "      <th>10</th>\n",
       "      <td>ergosterol_001_002_UMI_13</td>\n",
       "      <td>GAATCACACGCATGCGTTGTGTAGATT</td>\n",
       "      <td>001_002</td>\n",
       "    </tr>\n",
       "    <tr>\n",
       "      <th>11</th>\n",
       "      <td>ergosterol_001_002_UMI_14</td>\n",
       "      <td>TTCACGCGTGCATGCGTTGTGTAGATT</td>\n",
       "      <td>001_002</td>\n",
       "    </tr>\n",
       "    <tr>\n",
       "      <th>12</th>\n",
       "      <td>ergosterol_001_003_UMI_1</td>\n",
       "      <td>GAGCCACATGCATGCCTCAATAACCGT</td>\n",
       "      <td>001_003</td>\n",
       "    </tr>\n",
       "    <tr>\n",
       "      <th>13</th>\n",
       "      <td>ergosterol_001_003_UMI_2</td>\n",
       "      <td>TTGCCACAGGCATGCCTCAATAACCGT</td>\n",
       "      <td>001_003</td>\n",
       "    </tr>\n",
       "    <tr>\n",
       "      <th>14</th>\n",
       "      <td>ergosterol_001_003_UMI_4</td>\n",
       "      <td>GATCCTCTGGCATGCCTCAATAACCGT</td>\n",
       "      <td>001_003</td>\n",
       "    </tr>\n",
       "    <tr>\n",
       "      <th>15</th>\n",
       "      <td>ergosterol_001_003_UMI_6</td>\n",
       "      <td>AGTCCTCTAGCATGCCTCAATAACCGT</td>\n",
       "      <td>001_003</td>\n",
       "    </tr>\n",
       "    <tr>\n",
       "      <th>16</th>\n",
       "      <td>ergosterol_001_003_UMI_13</td>\n",
       "      <td>GAATCACACGCATGCCTCAATAACCGT</td>\n",
       "      <td>001_003</td>\n",
       "    </tr>\n",
       "    <tr>\n",
       "      <th>17</th>\n",
       "      <td>ergosterol_001_003_UMI_14</td>\n",
       "      <td>TTCACGCGTGCATGCCTCAATAACCGT</td>\n",
       "      <td>001_003</td>\n",
       "    </tr>\n",
       "    <tr>\n",
       "      <th>18</th>\n",
       "      <td>ergosterol_001_004_UMI_1</td>\n",
       "      <td>GAGCCACATGCATGCACTGTGACGAAA</td>\n",
       "      <td>001_004</td>\n",
       "    </tr>\n",
       "    <tr>\n",
       "      <th>19</th>\n",
       "      <td>ergosterol_001_004_UMI_2</td>\n",
       "      <td>TTGCCACAGGCATGCACTGTGACGAAA</td>\n",
       "      <td>001_004</td>\n",
       "    </tr>\n",
       "  </tbody>\n",
       "</table>\n",
       "</div>"
      ],
      "text/plain": [
       "                   oligo_name                      barcode barcode_id\n",
       "0    ergosterol_001_001_UMI_1  GAGCCACATGCATGCTGTCAATGCGAT    001_001\n",
       "1    ergosterol_001_001_UMI_2  TTGCCACAGGCATGCTGTCAATGCGAT    001_001\n",
       "2    ergosterol_001_001_UMI_4  GATCCTCTGGCATGCTGTCAATGCGAT    001_001\n",
       "3    ergosterol_001_001_UMI_6  AGTCCTCTAGCATGCTGTCAATGCGAT    001_001\n",
       "4   ergosterol_001_001_UMI_13  GAATCACACGCATGCTGTCAATGCGAT    001_001\n",
       "5   ergosterol_001_001_UMI_14  TTCACGCGTGCATGCTGTCAATGCGAT    001_001\n",
       "6    ergosterol_001_002_UMI_1  GAGCCACATGCATGCGTTGTGTAGATT    001_002\n",
       "7    ergosterol_001_002_UMI_2  TTGCCACAGGCATGCGTTGTGTAGATT    001_002\n",
       "8    ergosterol_001_002_UMI_4  GATCCTCTGGCATGCGTTGTGTAGATT    001_002\n",
       "9    ergosterol_001_002_UMI_6  AGTCCTCTAGCATGCGTTGTGTAGATT    001_002\n",
       "10  ergosterol_001_002_UMI_13  GAATCACACGCATGCGTTGTGTAGATT    001_002\n",
       "11  ergosterol_001_002_UMI_14  TTCACGCGTGCATGCGTTGTGTAGATT    001_002\n",
       "12   ergosterol_001_003_UMI_1  GAGCCACATGCATGCCTCAATAACCGT    001_003\n",
       "13   ergosterol_001_003_UMI_2  TTGCCACAGGCATGCCTCAATAACCGT    001_003\n",
       "14   ergosterol_001_003_UMI_4  GATCCTCTGGCATGCCTCAATAACCGT    001_003\n",
       "15   ergosterol_001_003_UMI_6  AGTCCTCTAGCATGCCTCAATAACCGT    001_003\n",
       "16  ergosterol_001_003_UMI_13  GAATCACACGCATGCCTCAATAACCGT    001_003\n",
       "17  ergosterol_001_003_UMI_14  TTCACGCGTGCATGCCTCAATAACCGT    001_003\n",
       "18   ergosterol_001_004_UMI_1  GAGCCACATGCATGCACTGTGACGAAA    001_004\n",
       "19   ergosterol_001_004_UMI_2  TTGCCACAGGCATGCACTGTGACGAAA    001_004"
      ]
     },
     "execution_count": 7,
     "metadata": {},
     "output_type": "execute_result"
    }
   ],
   "source": [
    "# examine imported barcode table\n",
    "barcode_table_df.head(20)"
   ]
  },
  {
   "cell_type": "code",
   "execution_count": 8,
   "metadata": {},
   "outputs": [],
   "source": [
    "# append barcode and UMI information for sample counts\n",
    "perfect_read_count = barcode_table_df.merge(all_counts_df, on='barcode', how='left').fillna(0)\n",
    "perfect_read_count.to_csv(mapped_counts,sep='\\t')"
   ]
  },
  {
   "cell_type": "code",
   "execution_count": 9,
   "metadata": {},
   "outputs": [
    {
     "name": "stdout",
     "output_type": "stream",
     "text": [
      "total reads mapped:\n",
      "495002\n"
     ]
    }
   ],
   "source": [
    "print(\"total reads mapped:\")\n",
    "print(int(perfect_read_count.iloc[:,3:].sum().sum()))"
   ]
  },
  {
   "cell_type": "code",
   "execution_count": null,
   "metadata": {},
   "outputs": [],
   "source": []
  }
 ],
 "metadata": {
  "kernelspec": {
   "display_name": "crispey3",
   "language": "python",
   "name": "crispey3"
  },
  "language_info": {
   "codemirror_mode": {
    "name": "ipython",
    "version": 3
   },
   "file_extension": ".py",
   "mimetype": "text/x-python",
   "name": "python",
   "nbconvert_exporter": "python",
   "pygments_lexer": "ipython3",
   "version": "3.6.5"
  }
 },
 "nbformat": 4,
 "nbformat_minor": 2
}
